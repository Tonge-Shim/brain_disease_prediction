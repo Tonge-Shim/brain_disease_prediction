{
 "cells": [
  {
   "cell_type": "markdown",
   "id": "93ebe58c",
   "metadata": {},
   "source": []
  },
  {
   "cell_type": "markdown",
   "id": "8733834e",
   "metadata": {},
   "source": [
    "\n",
    "- densenet/resnet-inception/inceptionv4 apply\n",
    "-  resnet/inceptions: with smaller parameters\n",
    "\n"
   ]
  },
  {
   "cell_type": "code",
   "execution_count": 2,
   "id": "85e96fc8",
   "metadata": {},
   "outputs": [],
   "source": [
    "import os\n",
    "from glob import glob\n",
    "import numpy as np\n",
    "import nibabel as nib\n",
    "import torch\n",
    "import pandas as pd\n",
    "from torch import nn\n",
    "from torch import optim\n",
    "from torch.utils.data import TensorDataset, DataLoader, Dataset\n",
    "from torch.autograd import Variable\n",
    "from torchvision import transforms\n",
    "import torch.nn as nn\n",
    "from sklearn.metrics import roc_auc_score, average_precision_score\n",
    "import tqdm\n",
    "from operator import add\n",
    "import matplotlib.pyplot as plt\n",
    "import easydict"
   ]
  },
  {
   "cell_type": "code",
   "execution_count": 3,
   "metadata": {},
   "outputs": [
    {
     "name": "stdout",
     "output_type": "stream",
     "text": [
      "\u001b[34m\u001b[1mwandb\u001b[0m: Currently logged in as: \u001b[33mtonge\u001b[0m (use `wandb login --relogin` to force relogin)\n"
     ]
    }
   ],
   "source": [
    "import wandb\n",
    "\n",
    "!wandb login"
   ]
  },
  {
   "cell_type": "code",
   "execution_count": 4,
   "id": "e2d295c7",
   "metadata": {},
   "outputs": [
    {
     "name": "stdout",
     "output_type": "stream",
     "text": [
      "/home/chaeeun/Desktop/brain disease prediction\n"
     ]
    }
   ],
   "source": [
    "# os.getcwd()\n",
    "!pwd"
   ]
  },
  {
   "cell_type": "code",
   "execution_count": 5,
   "id": "0c84fb5e",
   "metadata": {},
   "outputs": [],
   "source": [
    "data = np.load('./sliced_datas/sliced_2.npy')"
   ]
  },
  {
   "cell_type": "code",
   "execution_count": 6,
   "id": "6a4310c7",
   "metadata": {},
   "outputs": [],
   "source": [
    "def normalize(label):\n",
    "    for i in range(5):\n",
    "        y = label[:, i]\n",
    "        label[:, i] = (y - y.mean())/y.std()"
   ]
  },
  {
   "cell_type": "code",
   "execution_count": 7,
   "id": "cf899f09",
   "metadata": {},
   "outputs": [],
   "source": [
    "def unnorm_norm(ans):\n",
    "    if ans == 'unnorm':\n",
    "        label = np.load('./labels/unnorm_label.npy')\n",
    "    else:\n",
    "        label = np.load('./labels/normed_label.npy')\n",
    "    return label"
   ]
  },
  {
   "cell_type": "code",
   "execution_count": 8,
   "id": "a285a97a",
   "metadata": {},
   "outputs": [],
   "source": [
    "unnorm_label = unnorm_norm('unnorm')\n",
    "norm_label = unnorm_norm('norm')"
   ]
  },
  {
   "cell_type": "code",
   "execution_count": 9,
   "id": "a3beb26f",
   "metadata": {},
   "outputs": [
    {
     "data": {
      "text/plain": [
       "(numpy.ndarray, numpy.ndarray)"
      ]
     },
     "execution_count": 9,
     "metadata": {},
     "output_type": "execute_result"
    }
   ],
   "source": [
    "type(unnorm_label[0]), type(norm_label[0])"
   ]
  },
  {
   "cell_type": "code",
   "execution_count": 10,
   "id": "37c64322",
   "metadata": {},
   "outputs": [
    {
     "data": {
      "text/plain": [
       "100"
      ]
     },
     "execution_count": 10,
     "metadata": {},
     "output_type": "execute_result"
    }
   ],
   "source": [
    "norm_label = np.array(norm_label, dtype = 'float32')\n",
    "unnorm_label = np.array(unnorm_label, dtype = 'float32')\n",
    "len(norm_label)\n",
    "len(unnorm_label)"
   ]
  },
  {
   "cell_type": "code",
   "execution_count": 11,
   "id": "d074b1f4",
   "metadata": {},
   "outputs": [],
   "source": [
    "X_train = data[:75]\n",
    "X_test = data[75:]\n",
    "y_train = norm_label[:75]\n",
    "y_test = norm_label[75:]\n",
    "#y_train = unnorm_label[:75]\n",
    "# y_test = unnorm_label[75:]"
   ]
  },
  {
   "cell_type": "code",
   "execution_count": 12,
   "id": "3d1788b2",
   "metadata": {},
   "outputs": [],
   "source": [
    "datadict = {\n",
    "    'X_train': X_train, \n",
    "    'y_train' : y_train,\n",
    "    'X_test': X_test,\n",
    "    'y_test': y_test\n",
    "}"
   ]
  },
  {
   "cell_type": "code",
   "execution_count": 13,
   "id": "c08c06e4",
   "metadata": {},
   "outputs": [],
   "source": [
    "device = torch.device('cuda:0' if torch.cuda.is_available() else 'cpu')"
   ]
  },
  {
   "cell_type": "code",
   "execution_count": 14,
   "id": "3ea9fb34",
   "metadata": {},
   "outputs": [],
   "source": [
    "class mridataset(Dataset):\n",
    "    def __init__(self, data, data_type):\n",
    "        if data_type == 'train':\n",
    "            self.X = data['X_train']\n",
    "            self.y = data['y_train']\n",
    "        elif data_type == 'test':\n",
    "            self.X = data['X_test']\n",
    "            self.y = data['y_test']\n",
    "            \n",
    "        assert len(self.X) == len(self.y), \"length should be same between input and label\"\n",
    "        \n",
    "        self.X = torch.FloatTensor(self.X)#cpu tensor\n",
    "        self.y = torch.FloatTensor(self.y)#cpu tensor\n",
    "    \n",
    "    def __len__(self):\n",
    "        return len(self.y)\n",
    "    \n",
    "    def __getitem__(self, index):\n",
    "        X = self.X[index]\n",
    "        y = self.y[index]\n",
    "        return {\n",
    "            'X': X,\n",
    "            'y_target': y\n",
    "        }"
   ]
  },
  {
   "cell_type": "code",
   "execution_count": null,
   "metadata": {},
   "outputs": [],
   "source": []
  },
  {
   "cell_type": "code",
   "execution_count": 32,
   "id": "82c3c53c",
   "metadata": {},
   "outputs": [
    {
     "name": "stderr",
     "output_type": "stream",
     "text": [
      "/home/chaeeun/Desktop/brain disease prediction/model/densenet.py:132: UserWarning: nn.init.kaiming_normal is now deprecated in favor of nn.init.kaiming_normal_.\n",
      "  m.weight = nn.init.kaiming_normal(m.weight, mode='fan_out')\n"
     ]
    },
    {
     "data": {
      "text/plain": [
       "DenseNet(\n",
       "  (features): Sequential(\n",
       "    (conv1): Conv3d(1, 64, kernel_size=(7, 7, 7), stride=(1, 2, 2), padding=(3, 3, 3), bias=False)\n",
       "    (norm1): BatchNorm3d(64, eps=1e-05, momentum=0.1, affine=True, track_running_stats=True)\n",
       "    (relu1): ReLU(inplace=True)\n",
       "    (pool1): MaxPool3d(kernel_size=3, stride=2, padding=1, dilation=1, ceil_mode=False)\n",
       "    (denseblock1): _DenseBlock(\n",
       "      (denselayer1): _DenseLayer(\n",
       "        (norm1): BatchNorm3d(64, eps=1e-05, momentum=0.1, affine=True, track_running_stats=True)\n",
       "        (relu1): ReLU(inplace=True)\n",
       "        (conv1): Conv3d(64, 128, kernel_size=(1, 1, 1), stride=(1, 1, 1), bias=False)\n",
       "        (norm2): BatchNorm3d(128, eps=1e-05, momentum=0.1, affine=True, track_running_stats=True)\n",
       "        (relu2): ReLU(inplace=True)\n",
       "        (conv2): Conv3d(128, 32, kernel_size=(3, 3, 3), stride=(1, 1, 1), padding=(1, 1, 1), bias=False)\n",
       "      )\n",
       "      (denselayer2): _DenseLayer(\n",
       "        (norm1): BatchNorm3d(96, eps=1e-05, momentum=0.1, affine=True, track_running_stats=True)\n",
       "        (relu1): ReLU(inplace=True)\n",
       "        (conv1): Conv3d(96, 128, kernel_size=(1, 1, 1), stride=(1, 1, 1), bias=False)\n",
       "        (norm2): BatchNorm3d(128, eps=1e-05, momentum=0.1, affine=True, track_running_stats=True)\n",
       "        (relu2): ReLU(inplace=True)\n",
       "        (conv2): Conv3d(128, 32, kernel_size=(3, 3, 3), stride=(1, 1, 1), padding=(1, 1, 1), bias=False)\n",
       "      )\n",
       "      (denselayer3): _DenseLayer(\n",
       "        (norm1): BatchNorm3d(128, eps=1e-05, momentum=0.1, affine=True, track_running_stats=True)\n",
       "        (relu1): ReLU(inplace=True)\n",
       "        (conv1): Conv3d(128, 128, kernel_size=(1, 1, 1), stride=(1, 1, 1), bias=False)\n",
       "        (norm2): BatchNorm3d(128, eps=1e-05, momentum=0.1, affine=True, track_running_stats=True)\n",
       "        (relu2): ReLU(inplace=True)\n",
       "        (conv2): Conv3d(128, 32, kernel_size=(3, 3, 3), stride=(1, 1, 1), padding=(1, 1, 1), bias=False)\n",
       "      )\n",
       "      (denselayer4): _DenseLayer(\n",
       "        (norm1): BatchNorm3d(160, eps=1e-05, momentum=0.1, affine=True, track_running_stats=True)\n",
       "        (relu1): ReLU(inplace=True)\n",
       "        (conv1): Conv3d(160, 128, kernel_size=(1, 1, 1), stride=(1, 1, 1), bias=False)\n",
       "        (norm2): BatchNorm3d(128, eps=1e-05, momentum=0.1, affine=True, track_running_stats=True)\n",
       "        (relu2): ReLU(inplace=True)\n",
       "        (conv2): Conv3d(128, 32, kernel_size=(3, 3, 3), stride=(1, 1, 1), padding=(1, 1, 1), bias=False)\n",
       "      )\n",
       "      (denselayer5): _DenseLayer(\n",
       "        (norm1): BatchNorm3d(192, eps=1e-05, momentum=0.1, affine=True, track_running_stats=True)\n",
       "        (relu1): ReLU(inplace=True)\n",
       "        (conv1): Conv3d(192, 128, kernel_size=(1, 1, 1), stride=(1, 1, 1), bias=False)\n",
       "        (norm2): BatchNorm3d(128, eps=1e-05, momentum=0.1, affine=True, track_running_stats=True)\n",
       "        (relu2): ReLU(inplace=True)\n",
       "        (conv2): Conv3d(128, 32, kernel_size=(3, 3, 3), stride=(1, 1, 1), padding=(1, 1, 1), bias=False)\n",
       "      )\n",
       "      (denselayer6): _DenseLayer(\n",
       "        (norm1): BatchNorm3d(224, eps=1e-05, momentum=0.1, affine=True, track_running_stats=True)\n",
       "        (relu1): ReLU(inplace=True)\n",
       "        (conv1): Conv3d(224, 128, kernel_size=(1, 1, 1), stride=(1, 1, 1), bias=False)\n",
       "        (norm2): BatchNorm3d(128, eps=1e-05, momentum=0.1, affine=True, track_running_stats=True)\n",
       "        (relu2): ReLU(inplace=True)\n",
       "        (conv2): Conv3d(128, 32, kernel_size=(3, 3, 3), stride=(1, 1, 1), padding=(1, 1, 1), bias=False)\n",
       "      )\n",
       "    )\n",
       "    (transition1): _Transition(\n",
       "      (norm): BatchNorm3d(256, eps=1e-05, momentum=0.1, affine=True, track_running_stats=True)\n",
       "      (relu): ReLU(inplace=True)\n",
       "      (conv): Conv3d(256, 128, kernel_size=(1, 1, 1), stride=(1, 1, 1), bias=False)\n",
       "      (pool): AvgPool3d(kernel_size=2, stride=2, padding=0)\n",
       "    )\n",
       "    (denseblock2): _DenseBlock(\n",
       "      (denselayer1): _DenseLayer(\n",
       "        (norm1): BatchNorm3d(128, eps=1e-05, momentum=0.1, affine=True, track_running_stats=True)\n",
       "        (relu1): ReLU(inplace=True)\n",
       "        (conv1): Conv3d(128, 128, kernel_size=(1, 1, 1), stride=(1, 1, 1), bias=False)\n",
       "        (norm2): BatchNorm3d(128, eps=1e-05, momentum=0.1, affine=True, track_running_stats=True)\n",
       "        (relu2): ReLU(inplace=True)\n",
       "        (conv2): Conv3d(128, 32, kernel_size=(3, 3, 3), stride=(1, 1, 1), padding=(1, 1, 1), bias=False)\n",
       "      )\n",
       "      (denselayer2): _DenseLayer(\n",
       "        (norm1): BatchNorm3d(160, eps=1e-05, momentum=0.1, affine=True, track_running_stats=True)\n",
       "        (relu1): ReLU(inplace=True)\n",
       "        (conv1): Conv3d(160, 128, kernel_size=(1, 1, 1), stride=(1, 1, 1), bias=False)\n",
       "        (norm2): BatchNorm3d(128, eps=1e-05, momentum=0.1, affine=True, track_running_stats=True)\n",
       "        (relu2): ReLU(inplace=True)\n",
       "        (conv2): Conv3d(128, 32, kernel_size=(3, 3, 3), stride=(1, 1, 1), padding=(1, 1, 1), bias=False)\n",
       "      )\n",
       "      (denselayer3): _DenseLayer(\n",
       "        (norm1): BatchNorm3d(192, eps=1e-05, momentum=0.1, affine=True, track_running_stats=True)\n",
       "        (relu1): ReLU(inplace=True)\n",
       "        (conv1): Conv3d(192, 128, kernel_size=(1, 1, 1), stride=(1, 1, 1), bias=False)\n",
       "        (norm2): BatchNorm3d(128, eps=1e-05, momentum=0.1, affine=True, track_running_stats=True)\n",
       "        (relu2): ReLU(inplace=True)\n",
       "        (conv2): Conv3d(128, 32, kernel_size=(3, 3, 3), stride=(1, 1, 1), padding=(1, 1, 1), bias=False)\n",
       "      )\n",
       "      (denselayer4): _DenseLayer(\n",
       "        (norm1): BatchNorm3d(224, eps=1e-05, momentum=0.1, affine=True, track_running_stats=True)\n",
       "        (relu1): ReLU(inplace=True)\n",
       "        (conv1): Conv3d(224, 128, kernel_size=(1, 1, 1), stride=(1, 1, 1), bias=False)\n",
       "        (norm2): BatchNorm3d(128, eps=1e-05, momentum=0.1, affine=True, track_running_stats=True)\n",
       "        (relu2): ReLU(inplace=True)\n",
       "        (conv2): Conv3d(128, 32, kernel_size=(3, 3, 3), stride=(1, 1, 1), padding=(1, 1, 1), bias=False)\n",
       "      )\n",
       "      (denselayer5): _DenseLayer(\n",
       "        (norm1): BatchNorm3d(256, eps=1e-05, momentum=0.1, affine=True, track_running_stats=True)\n",
       "        (relu1): ReLU(inplace=True)\n",
       "        (conv1): Conv3d(256, 128, kernel_size=(1, 1, 1), stride=(1, 1, 1), bias=False)\n",
       "        (norm2): BatchNorm3d(128, eps=1e-05, momentum=0.1, affine=True, track_running_stats=True)\n",
       "        (relu2): ReLU(inplace=True)\n",
       "        (conv2): Conv3d(128, 32, kernel_size=(3, 3, 3), stride=(1, 1, 1), padding=(1, 1, 1), bias=False)\n",
       "      )\n",
       "      (denselayer6): _DenseLayer(\n",
       "        (norm1): BatchNorm3d(288, eps=1e-05, momentum=0.1, affine=True, track_running_stats=True)\n",
       "        (relu1): ReLU(inplace=True)\n",
       "        (conv1): Conv3d(288, 128, kernel_size=(1, 1, 1), stride=(1, 1, 1), bias=False)\n",
       "        (norm2): BatchNorm3d(128, eps=1e-05, momentum=0.1, affine=True, track_running_stats=True)\n",
       "        (relu2): ReLU(inplace=True)\n",
       "        (conv2): Conv3d(128, 32, kernel_size=(3, 3, 3), stride=(1, 1, 1), padding=(1, 1, 1), bias=False)\n",
       "      )\n",
       "      (denselayer7): _DenseLayer(\n",
       "        (norm1): BatchNorm3d(320, eps=1e-05, momentum=0.1, affine=True, track_running_stats=True)\n",
       "        (relu1): ReLU(inplace=True)\n",
       "        (conv1): Conv3d(320, 128, kernel_size=(1, 1, 1), stride=(1, 1, 1), bias=False)\n",
       "        (norm2): BatchNorm3d(128, eps=1e-05, momentum=0.1, affine=True, track_running_stats=True)\n",
       "        (relu2): ReLU(inplace=True)\n",
       "        (conv2): Conv3d(128, 32, kernel_size=(3, 3, 3), stride=(1, 1, 1), padding=(1, 1, 1), bias=False)\n",
       "      )\n",
       "      (denselayer8): _DenseLayer(\n",
       "        (norm1): BatchNorm3d(352, eps=1e-05, momentum=0.1, affine=True, track_running_stats=True)\n",
       "        (relu1): ReLU(inplace=True)\n",
       "        (conv1): Conv3d(352, 128, kernel_size=(1, 1, 1), stride=(1, 1, 1), bias=False)\n",
       "        (norm2): BatchNorm3d(128, eps=1e-05, momentum=0.1, affine=True, track_running_stats=True)\n",
       "        (relu2): ReLU(inplace=True)\n",
       "        (conv2): Conv3d(128, 32, kernel_size=(3, 3, 3), stride=(1, 1, 1), padding=(1, 1, 1), bias=False)\n",
       "      )\n",
       "      (denselayer9): _DenseLayer(\n",
       "        (norm1): BatchNorm3d(384, eps=1e-05, momentum=0.1, affine=True, track_running_stats=True)\n",
       "        (relu1): ReLU(inplace=True)\n",
       "        (conv1): Conv3d(384, 128, kernel_size=(1, 1, 1), stride=(1, 1, 1), bias=False)\n",
       "        (norm2): BatchNorm3d(128, eps=1e-05, momentum=0.1, affine=True, track_running_stats=True)\n",
       "        (relu2): ReLU(inplace=True)\n",
       "        (conv2): Conv3d(128, 32, kernel_size=(3, 3, 3), stride=(1, 1, 1), padding=(1, 1, 1), bias=False)\n",
       "      )\n",
       "      (denselayer10): _DenseLayer(\n",
       "        (norm1): BatchNorm3d(416, eps=1e-05, momentum=0.1, affine=True, track_running_stats=True)\n",
       "        (relu1): ReLU(inplace=True)\n",
       "        (conv1): Conv3d(416, 128, kernel_size=(1, 1, 1), stride=(1, 1, 1), bias=False)\n",
       "        (norm2): BatchNorm3d(128, eps=1e-05, momentum=0.1, affine=True, track_running_stats=True)\n",
       "        (relu2): ReLU(inplace=True)\n",
       "        (conv2): Conv3d(128, 32, kernel_size=(3, 3, 3), stride=(1, 1, 1), padding=(1, 1, 1), bias=False)\n",
       "      )\n",
       "      (denselayer11): _DenseLayer(\n",
       "        (norm1): BatchNorm3d(448, eps=1e-05, momentum=0.1, affine=True, track_running_stats=True)\n",
       "        (relu1): ReLU(inplace=True)\n",
       "        (conv1): Conv3d(448, 128, kernel_size=(1, 1, 1), stride=(1, 1, 1), bias=False)\n",
       "        (norm2): BatchNorm3d(128, eps=1e-05, momentum=0.1, affine=True, track_running_stats=True)\n",
       "        (relu2): ReLU(inplace=True)\n",
       "        (conv2): Conv3d(128, 32, kernel_size=(3, 3, 3), stride=(1, 1, 1), padding=(1, 1, 1), bias=False)\n",
       "      )\n",
       "      (denselayer12): _DenseLayer(\n",
       "        (norm1): BatchNorm3d(480, eps=1e-05, momentum=0.1, affine=True, track_running_stats=True)\n",
       "        (relu1): ReLU(inplace=True)\n",
       "        (conv1): Conv3d(480, 128, kernel_size=(1, 1, 1), stride=(1, 1, 1), bias=False)\n",
       "        (norm2): BatchNorm3d(128, eps=1e-05, momentum=0.1, affine=True, track_running_stats=True)\n",
       "        (relu2): ReLU(inplace=True)\n",
       "        (conv2): Conv3d(128, 32, kernel_size=(3, 3, 3), stride=(1, 1, 1), padding=(1, 1, 1), bias=False)\n",
       "      )\n",
       "    )\n",
       "    (transition2): _Transition(\n",
       "      (norm): BatchNorm3d(512, eps=1e-05, momentum=0.1, affine=True, track_running_stats=True)\n",
       "      (relu): ReLU(inplace=True)\n",
       "      (conv): Conv3d(512, 256, kernel_size=(1, 1, 1), stride=(1, 1, 1), bias=False)\n",
       "      (pool): AvgPool3d(kernel_size=2, stride=2, padding=0)\n",
       "    )\n",
       "    (denseblock3): _DenseBlock(\n",
       "      (denselayer1): _DenseLayer(\n",
       "        (norm1): BatchNorm3d(256, eps=1e-05, momentum=0.1, affine=True, track_running_stats=True)\n",
       "        (relu1): ReLU(inplace=True)\n",
       "        (conv1): Conv3d(256, 128, kernel_size=(1, 1, 1), stride=(1, 1, 1), bias=False)\n",
       "        (norm2): BatchNorm3d(128, eps=1e-05, momentum=0.1, affine=True, track_running_stats=True)\n",
       "        (relu2): ReLU(inplace=True)\n",
       "        (conv2): Conv3d(128, 32, kernel_size=(3, 3, 3), stride=(1, 1, 1), padding=(1, 1, 1), bias=False)\n",
       "      )\n",
       "      (denselayer2): _DenseLayer(\n",
       "        (norm1): BatchNorm3d(288, eps=1e-05, momentum=0.1, affine=True, track_running_stats=True)\n",
       "        (relu1): ReLU(inplace=True)\n",
       "        (conv1): Conv3d(288, 128, kernel_size=(1, 1, 1), stride=(1, 1, 1), bias=False)\n",
       "        (norm2): BatchNorm3d(128, eps=1e-05, momentum=0.1, affine=True, track_running_stats=True)\n",
       "        (relu2): ReLU(inplace=True)\n",
       "        (conv2): Conv3d(128, 32, kernel_size=(3, 3, 3), stride=(1, 1, 1), padding=(1, 1, 1), bias=False)\n",
       "      )\n",
       "      (denselayer3): _DenseLayer(\n",
       "        (norm1): BatchNorm3d(320, eps=1e-05, momentum=0.1, affine=True, track_running_stats=True)\n",
       "        (relu1): ReLU(inplace=True)\n",
       "        (conv1): Conv3d(320, 128, kernel_size=(1, 1, 1), stride=(1, 1, 1), bias=False)\n",
       "        (norm2): BatchNorm3d(128, eps=1e-05, momentum=0.1, affine=True, track_running_stats=True)\n",
       "        (relu2): ReLU(inplace=True)\n",
       "        (conv2): Conv3d(128, 32, kernel_size=(3, 3, 3), stride=(1, 1, 1), padding=(1, 1, 1), bias=False)\n",
       "      )\n",
       "      (denselayer4): _DenseLayer(\n",
       "        (norm1): BatchNorm3d(352, eps=1e-05, momentum=0.1, affine=True, track_running_stats=True)\n",
       "        (relu1): ReLU(inplace=True)\n",
       "        (conv1): Conv3d(352, 128, kernel_size=(1, 1, 1), stride=(1, 1, 1), bias=False)\n",
       "        (norm2): BatchNorm3d(128, eps=1e-05, momentum=0.1, affine=True, track_running_stats=True)\n",
       "        (relu2): ReLU(inplace=True)\n",
       "        (conv2): Conv3d(128, 32, kernel_size=(3, 3, 3), stride=(1, 1, 1), padding=(1, 1, 1), bias=False)\n",
       "      )\n",
       "      (denselayer5): _DenseLayer(\n",
       "        (norm1): BatchNorm3d(384, eps=1e-05, momentum=0.1, affine=True, track_running_stats=True)\n",
       "        (relu1): ReLU(inplace=True)\n",
       "        (conv1): Conv3d(384, 128, kernel_size=(1, 1, 1), stride=(1, 1, 1), bias=False)\n",
       "        (norm2): BatchNorm3d(128, eps=1e-05, momentum=0.1, affine=True, track_running_stats=True)\n",
       "        (relu2): ReLU(inplace=True)\n",
       "        (conv2): Conv3d(128, 32, kernel_size=(3, 3, 3), stride=(1, 1, 1), padding=(1, 1, 1), bias=False)\n",
       "      )\n",
       "      (denselayer6): _DenseLayer(\n",
       "        (norm1): BatchNorm3d(416, eps=1e-05, momentum=0.1, affine=True, track_running_stats=True)\n",
       "        (relu1): ReLU(inplace=True)\n",
       "        (conv1): Conv3d(416, 128, kernel_size=(1, 1, 1), stride=(1, 1, 1), bias=False)\n",
       "        (norm2): BatchNorm3d(128, eps=1e-05, momentum=0.1, affine=True, track_running_stats=True)\n",
       "        (relu2): ReLU(inplace=True)\n",
       "        (conv2): Conv3d(128, 32, kernel_size=(3, 3, 3), stride=(1, 1, 1), padding=(1, 1, 1), bias=False)\n",
       "      )\n",
       "      (denselayer7): _DenseLayer(\n",
       "        (norm1): BatchNorm3d(448, eps=1e-05, momentum=0.1, affine=True, track_running_stats=True)\n",
       "        (relu1): ReLU(inplace=True)\n",
       "        (conv1): Conv3d(448, 128, kernel_size=(1, 1, 1), stride=(1, 1, 1), bias=False)\n",
       "        (norm2): BatchNorm3d(128, eps=1e-05, momentum=0.1, affine=True, track_running_stats=True)\n",
       "        (relu2): ReLU(inplace=True)\n",
       "        (conv2): Conv3d(128, 32, kernel_size=(3, 3, 3), stride=(1, 1, 1), padding=(1, 1, 1), bias=False)\n",
       "      )\n",
       "      (denselayer8): _DenseLayer(\n",
       "        (norm1): BatchNorm3d(480, eps=1e-05, momentum=0.1, affine=True, track_running_stats=True)\n",
       "        (relu1): ReLU(inplace=True)\n",
       "        (conv1): Conv3d(480, 128, kernel_size=(1, 1, 1), stride=(1, 1, 1), bias=False)\n",
       "        (norm2): BatchNorm3d(128, eps=1e-05, momentum=0.1, affine=True, track_running_stats=True)\n",
       "        (relu2): ReLU(inplace=True)\n",
       "        (conv2): Conv3d(128, 32, kernel_size=(3, 3, 3), stride=(1, 1, 1), padding=(1, 1, 1), bias=False)\n",
       "      )\n",
       "      (denselayer9): _DenseLayer(\n",
       "        (norm1): BatchNorm3d(512, eps=1e-05, momentum=0.1, affine=True, track_running_stats=True)\n",
       "        (relu1): ReLU(inplace=True)\n",
       "        (conv1): Conv3d(512, 128, kernel_size=(1, 1, 1), stride=(1, 1, 1), bias=False)\n",
       "        (norm2): BatchNorm3d(128, eps=1e-05, momentum=0.1, affine=True, track_running_stats=True)\n",
       "        (relu2): ReLU(inplace=True)\n",
       "        (conv2): Conv3d(128, 32, kernel_size=(3, 3, 3), stride=(1, 1, 1), padding=(1, 1, 1), bias=False)\n",
       "      )\n",
       "      (denselayer10): _DenseLayer(\n",
       "        (norm1): BatchNorm3d(544, eps=1e-05, momentum=0.1, affine=True, track_running_stats=True)\n",
       "        (relu1): ReLU(inplace=True)\n",
       "        (conv1): Conv3d(544, 128, kernel_size=(1, 1, 1), stride=(1, 1, 1), bias=False)\n",
       "        (norm2): BatchNorm3d(128, eps=1e-05, momentum=0.1, affine=True, track_running_stats=True)\n",
       "        (relu2): ReLU(inplace=True)\n",
       "        (conv2): Conv3d(128, 32, kernel_size=(3, 3, 3), stride=(1, 1, 1), padding=(1, 1, 1), bias=False)\n",
       "      )\n",
       "      (denselayer11): _DenseLayer(\n",
       "        (norm1): BatchNorm3d(576, eps=1e-05, momentum=0.1, affine=True, track_running_stats=True)\n",
       "        (relu1): ReLU(inplace=True)\n",
       "        (conv1): Conv3d(576, 128, kernel_size=(1, 1, 1), stride=(1, 1, 1), bias=False)\n",
       "        (norm2): BatchNorm3d(128, eps=1e-05, momentum=0.1, affine=True, track_running_stats=True)\n",
       "        (relu2): ReLU(inplace=True)\n",
       "        (conv2): Conv3d(128, 32, kernel_size=(3, 3, 3), stride=(1, 1, 1), padding=(1, 1, 1), bias=False)\n",
       "      )\n",
       "      (denselayer12): _DenseLayer(\n",
       "        (norm1): BatchNorm3d(608, eps=1e-05, momentum=0.1, affine=True, track_running_stats=True)\n",
       "        (relu1): ReLU(inplace=True)\n",
       "        (conv1): Conv3d(608, 128, kernel_size=(1, 1, 1), stride=(1, 1, 1), bias=False)\n",
       "        (norm2): BatchNorm3d(128, eps=1e-05, momentum=0.1, affine=True, track_running_stats=True)\n",
       "        (relu2): ReLU(inplace=True)\n",
       "        (conv2): Conv3d(128, 32, kernel_size=(3, 3, 3), stride=(1, 1, 1), padding=(1, 1, 1), bias=False)\n",
       "      )\n",
       "      (denselayer13): _DenseLayer(\n",
       "        (norm1): BatchNorm3d(640, eps=1e-05, momentum=0.1, affine=True, track_running_stats=True)\n",
       "        (relu1): ReLU(inplace=True)\n",
       "        (conv1): Conv3d(640, 128, kernel_size=(1, 1, 1), stride=(1, 1, 1), bias=False)\n",
       "        (norm2): BatchNorm3d(128, eps=1e-05, momentum=0.1, affine=True, track_running_stats=True)\n",
       "        (relu2): ReLU(inplace=True)\n",
       "        (conv2): Conv3d(128, 32, kernel_size=(3, 3, 3), stride=(1, 1, 1), padding=(1, 1, 1), bias=False)\n",
       "      )\n",
       "      (denselayer14): _DenseLayer(\n",
       "        (norm1): BatchNorm3d(672, eps=1e-05, momentum=0.1, affine=True, track_running_stats=True)\n",
       "        (relu1): ReLU(inplace=True)\n",
       "        (conv1): Conv3d(672, 128, kernel_size=(1, 1, 1), stride=(1, 1, 1), bias=False)\n",
       "        (norm2): BatchNorm3d(128, eps=1e-05, momentum=0.1, affine=True, track_running_stats=True)\n",
       "        (relu2): ReLU(inplace=True)\n",
       "        (conv2): Conv3d(128, 32, kernel_size=(3, 3, 3), stride=(1, 1, 1), padding=(1, 1, 1), bias=False)\n",
       "      )\n",
       "      (denselayer15): _DenseLayer(\n",
       "        (norm1): BatchNorm3d(704, eps=1e-05, momentum=0.1, affine=True, track_running_stats=True)\n",
       "        (relu1): ReLU(inplace=True)\n",
       "        (conv1): Conv3d(704, 128, kernel_size=(1, 1, 1), stride=(1, 1, 1), bias=False)\n",
       "        (norm2): BatchNorm3d(128, eps=1e-05, momentum=0.1, affine=True, track_running_stats=True)\n",
       "        (relu2): ReLU(inplace=True)\n",
       "        (conv2): Conv3d(128, 32, kernel_size=(3, 3, 3), stride=(1, 1, 1), padding=(1, 1, 1), bias=False)\n",
       "      )\n",
       "      (denselayer16): _DenseLayer(\n",
       "        (norm1): BatchNorm3d(736, eps=1e-05, momentum=0.1, affine=True, track_running_stats=True)\n",
       "        (relu1): ReLU(inplace=True)\n",
       "        (conv1): Conv3d(736, 128, kernel_size=(1, 1, 1), stride=(1, 1, 1), bias=False)\n",
       "        (norm2): BatchNorm3d(128, eps=1e-05, momentum=0.1, affine=True, track_running_stats=True)\n",
       "        (relu2): ReLU(inplace=True)\n",
       "        (conv2): Conv3d(128, 32, kernel_size=(3, 3, 3), stride=(1, 1, 1), padding=(1, 1, 1), bias=False)\n",
       "      )\n",
       "      (denselayer17): _DenseLayer(\n",
       "        (norm1): BatchNorm3d(768, eps=1e-05, momentum=0.1, affine=True, track_running_stats=True)\n",
       "        (relu1): ReLU(inplace=True)\n",
       "        (conv1): Conv3d(768, 128, kernel_size=(1, 1, 1), stride=(1, 1, 1), bias=False)\n",
       "        (norm2): BatchNorm3d(128, eps=1e-05, momentum=0.1, affine=True, track_running_stats=True)\n",
       "        (relu2): ReLU(inplace=True)\n",
       "        (conv2): Conv3d(128, 32, kernel_size=(3, 3, 3), stride=(1, 1, 1), padding=(1, 1, 1), bias=False)\n",
       "      )\n",
       "      (denselayer18): _DenseLayer(\n",
       "        (norm1): BatchNorm3d(800, eps=1e-05, momentum=0.1, affine=True, track_running_stats=True)\n",
       "        (relu1): ReLU(inplace=True)\n",
       "        (conv1): Conv3d(800, 128, kernel_size=(1, 1, 1), stride=(1, 1, 1), bias=False)\n",
       "        (norm2): BatchNorm3d(128, eps=1e-05, momentum=0.1, affine=True, track_running_stats=True)\n",
       "        (relu2): ReLU(inplace=True)\n",
       "        (conv2): Conv3d(128, 32, kernel_size=(3, 3, 3), stride=(1, 1, 1), padding=(1, 1, 1), bias=False)\n",
       "      )\n",
       "      (denselayer19): _DenseLayer(\n",
       "        (norm1): BatchNorm3d(832, eps=1e-05, momentum=0.1, affine=True, track_running_stats=True)\n",
       "        (relu1): ReLU(inplace=True)\n",
       "        (conv1): Conv3d(832, 128, kernel_size=(1, 1, 1), stride=(1, 1, 1), bias=False)\n",
       "        (norm2): BatchNorm3d(128, eps=1e-05, momentum=0.1, affine=True, track_running_stats=True)\n",
       "        (relu2): ReLU(inplace=True)\n",
       "        (conv2): Conv3d(128, 32, kernel_size=(3, 3, 3), stride=(1, 1, 1), padding=(1, 1, 1), bias=False)\n",
       "      )\n",
       "      (denselayer20): _DenseLayer(\n",
       "        (norm1): BatchNorm3d(864, eps=1e-05, momentum=0.1, affine=True, track_running_stats=True)\n",
       "        (relu1): ReLU(inplace=True)\n",
       "        (conv1): Conv3d(864, 128, kernel_size=(1, 1, 1), stride=(1, 1, 1), bias=False)\n",
       "        (norm2): BatchNorm3d(128, eps=1e-05, momentum=0.1, affine=True, track_running_stats=True)\n",
       "        (relu2): ReLU(inplace=True)\n",
       "        (conv2): Conv3d(128, 32, kernel_size=(3, 3, 3), stride=(1, 1, 1), padding=(1, 1, 1), bias=False)\n",
       "      )\n",
       "      (denselayer21): _DenseLayer(\n",
       "        (norm1): BatchNorm3d(896, eps=1e-05, momentum=0.1, affine=True, track_running_stats=True)\n",
       "        (relu1): ReLU(inplace=True)\n",
       "        (conv1): Conv3d(896, 128, kernel_size=(1, 1, 1), stride=(1, 1, 1), bias=False)\n",
       "        (norm2): BatchNorm3d(128, eps=1e-05, momentum=0.1, affine=True, track_running_stats=True)\n",
       "        (relu2): ReLU(inplace=True)\n",
       "        (conv2): Conv3d(128, 32, kernel_size=(3, 3, 3), stride=(1, 1, 1), padding=(1, 1, 1), bias=False)\n",
       "      )\n",
       "      (denselayer22): _DenseLayer(\n",
       "        (norm1): BatchNorm3d(928, eps=1e-05, momentum=0.1, affine=True, track_running_stats=True)\n",
       "        (relu1): ReLU(inplace=True)\n",
       "        (conv1): Conv3d(928, 128, kernel_size=(1, 1, 1), stride=(1, 1, 1), bias=False)\n",
       "        (norm2): BatchNorm3d(128, eps=1e-05, momentum=0.1, affine=True, track_running_stats=True)\n",
       "        (relu2): ReLU(inplace=True)\n",
       "        (conv2): Conv3d(128, 32, kernel_size=(3, 3, 3), stride=(1, 1, 1), padding=(1, 1, 1), bias=False)\n",
       "      )\n",
       "      (denselayer23): _DenseLayer(\n",
       "        (norm1): BatchNorm3d(960, eps=1e-05, momentum=0.1, affine=True, track_running_stats=True)\n",
       "        (relu1): ReLU(inplace=True)\n",
       "        (conv1): Conv3d(960, 128, kernel_size=(1, 1, 1), stride=(1, 1, 1), bias=False)\n",
       "        (norm2): BatchNorm3d(128, eps=1e-05, momentum=0.1, affine=True, track_running_stats=True)\n",
       "        (relu2): ReLU(inplace=True)\n",
       "        (conv2): Conv3d(128, 32, kernel_size=(3, 3, 3), stride=(1, 1, 1), padding=(1, 1, 1), bias=False)\n",
       "      )\n",
       "      (denselayer24): _DenseLayer(\n",
       "        (norm1): BatchNorm3d(992, eps=1e-05, momentum=0.1, affine=True, track_running_stats=True)\n",
       "        (relu1): ReLU(inplace=True)\n",
       "        (conv1): Conv3d(992, 128, kernel_size=(1, 1, 1), stride=(1, 1, 1), bias=False)\n",
       "        (norm2): BatchNorm3d(128, eps=1e-05, momentum=0.1, affine=True, track_running_stats=True)\n",
       "        (relu2): ReLU(inplace=True)\n",
       "        (conv2): Conv3d(128, 32, kernel_size=(3, 3, 3), stride=(1, 1, 1), padding=(1, 1, 1), bias=False)\n",
       "      )\n",
       "    )\n",
       "    (transition3): _Transition(\n",
       "      (norm): BatchNorm3d(1024, eps=1e-05, momentum=0.1, affine=True, track_running_stats=True)\n",
       "      (relu): ReLU(inplace=True)\n",
       "      (conv): Conv3d(1024, 512, kernel_size=(1, 1, 1), stride=(1, 1, 1), bias=False)\n",
       "      (pool): AvgPool3d(kernel_size=2, stride=2, padding=0)\n",
       "    )\n",
       "    (denseblock4): _DenseBlock(\n",
       "      (denselayer1): _DenseLayer(\n",
       "        (norm1): BatchNorm3d(512, eps=1e-05, momentum=0.1, affine=True, track_running_stats=True)\n",
       "        (relu1): ReLU(inplace=True)\n",
       "        (conv1): Conv3d(512, 128, kernel_size=(1, 1, 1), stride=(1, 1, 1), bias=False)\n",
       "        (norm2): BatchNorm3d(128, eps=1e-05, momentum=0.1, affine=True, track_running_stats=True)\n",
       "        (relu2): ReLU(inplace=True)\n",
       "        (conv2): Conv3d(128, 32, kernel_size=(3, 3, 3), stride=(1, 1, 1), padding=(1, 1, 1), bias=False)\n",
       "      )\n",
       "      (denselayer2): _DenseLayer(\n",
       "        (norm1): BatchNorm3d(544, eps=1e-05, momentum=0.1, affine=True, track_running_stats=True)\n",
       "        (relu1): ReLU(inplace=True)\n",
       "        (conv1): Conv3d(544, 128, kernel_size=(1, 1, 1), stride=(1, 1, 1), bias=False)\n",
       "        (norm2): BatchNorm3d(128, eps=1e-05, momentum=0.1, affine=True, track_running_stats=True)\n",
       "        (relu2): ReLU(inplace=True)\n",
       "        (conv2): Conv3d(128, 32, kernel_size=(3, 3, 3), stride=(1, 1, 1), padding=(1, 1, 1), bias=False)\n",
       "      )\n",
       "      (denselayer3): _DenseLayer(\n",
       "        (norm1): BatchNorm3d(576, eps=1e-05, momentum=0.1, affine=True, track_running_stats=True)\n",
       "        (relu1): ReLU(inplace=True)\n",
       "        (conv1): Conv3d(576, 128, kernel_size=(1, 1, 1), stride=(1, 1, 1), bias=False)\n",
       "        (norm2): BatchNorm3d(128, eps=1e-05, momentum=0.1, affine=True, track_running_stats=True)\n",
       "        (relu2): ReLU(inplace=True)\n",
       "        (conv2): Conv3d(128, 32, kernel_size=(3, 3, 3), stride=(1, 1, 1), padding=(1, 1, 1), bias=False)\n",
       "      )\n",
       "      (denselayer4): _DenseLayer(\n",
       "        (norm1): BatchNorm3d(608, eps=1e-05, momentum=0.1, affine=True, track_running_stats=True)\n",
       "        (relu1): ReLU(inplace=True)\n",
       "        (conv1): Conv3d(608, 128, kernel_size=(1, 1, 1), stride=(1, 1, 1), bias=False)\n",
       "        (norm2): BatchNorm3d(128, eps=1e-05, momentum=0.1, affine=True, track_running_stats=True)\n",
       "        (relu2): ReLU(inplace=True)\n",
       "        (conv2): Conv3d(128, 32, kernel_size=(3, 3, 3), stride=(1, 1, 1), padding=(1, 1, 1), bias=False)\n",
       "      )\n",
       "      (denselayer5): _DenseLayer(\n",
       "        (norm1): BatchNorm3d(640, eps=1e-05, momentum=0.1, affine=True, track_running_stats=True)\n",
       "        (relu1): ReLU(inplace=True)\n",
       "        (conv1): Conv3d(640, 128, kernel_size=(1, 1, 1), stride=(1, 1, 1), bias=False)\n",
       "        (norm2): BatchNorm3d(128, eps=1e-05, momentum=0.1, affine=True, track_running_stats=True)\n",
       "        (relu2): ReLU(inplace=True)\n",
       "        (conv2): Conv3d(128, 32, kernel_size=(3, 3, 3), stride=(1, 1, 1), padding=(1, 1, 1), bias=False)\n",
       "      )\n",
       "      (denselayer6): _DenseLayer(\n",
       "        (norm1): BatchNorm3d(672, eps=1e-05, momentum=0.1, affine=True, track_running_stats=True)\n",
       "        (relu1): ReLU(inplace=True)\n",
       "        (conv1): Conv3d(672, 128, kernel_size=(1, 1, 1), stride=(1, 1, 1), bias=False)\n",
       "        (norm2): BatchNorm3d(128, eps=1e-05, momentum=0.1, affine=True, track_running_stats=True)\n",
       "        (relu2): ReLU(inplace=True)\n",
       "        (conv2): Conv3d(128, 32, kernel_size=(3, 3, 3), stride=(1, 1, 1), padding=(1, 1, 1), bias=False)\n",
       "      )\n",
       "      (denselayer7): _DenseLayer(\n",
       "        (norm1): BatchNorm3d(704, eps=1e-05, momentum=0.1, affine=True, track_running_stats=True)\n",
       "        (relu1): ReLU(inplace=True)\n",
       "        (conv1): Conv3d(704, 128, kernel_size=(1, 1, 1), stride=(1, 1, 1), bias=False)\n",
       "        (norm2): BatchNorm3d(128, eps=1e-05, momentum=0.1, affine=True, track_running_stats=True)\n",
       "        (relu2): ReLU(inplace=True)\n",
       "        (conv2): Conv3d(128, 32, kernel_size=(3, 3, 3), stride=(1, 1, 1), padding=(1, 1, 1), bias=False)\n",
       "      )\n",
       "      (denselayer8): _DenseLayer(\n",
       "        (norm1): BatchNorm3d(736, eps=1e-05, momentum=0.1, affine=True, track_running_stats=True)\n",
       "        (relu1): ReLU(inplace=True)\n",
       "        (conv1): Conv3d(736, 128, kernel_size=(1, 1, 1), stride=(1, 1, 1), bias=False)\n",
       "        (norm2): BatchNorm3d(128, eps=1e-05, momentum=0.1, affine=True, track_running_stats=True)\n",
       "        (relu2): ReLU(inplace=True)\n",
       "        (conv2): Conv3d(128, 32, kernel_size=(3, 3, 3), stride=(1, 1, 1), padding=(1, 1, 1), bias=False)\n",
       "      )\n",
       "      (denselayer9): _DenseLayer(\n",
       "        (norm1): BatchNorm3d(768, eps=1e-05, momentum=0.1, affine=True, track_running_stats=True)\n",
       "        (relu1): ReLU(inplace=True)\n",
       "        (conv1): Conv3d(768, 128, kernel_size=(1, 1, 1), stride=(1, 1, 1), bias=False)\n",
       "        (norm2): BatchNorm3d(128, eps=1e-05, momentum=0.1, affine=True, track_running_stats=True)\n",
       "        (relu2): ReLU(inplace=True)\n",
       "        (conv2): Conv3d(128, 32, kernel_size=(3, 3, 3), stride=(1, 1, 1), padding=(1, 1, 1), bias=False)\n",
       "      )\n",
       "      (denselayer10): _DenseLayer(\n",
       "        (norm1): BatchNorm3d(800, eps=1e-05, momentum=0.1, affine=True, track_running_stats=True)\n",
       "        (relu1): ReLU(inplace=True)\n",
       "        (conv1): Conv3d(800, 128, kernel_size=(1, 1, 1), stride=(1, 1, 1), bias=False)\n",
       "        (norm2): BatchNorm3d(128, eps=1e-05, momentum=0.1, affine=True, track_running_stats=True)\n",
       "        (relu2): ReLU(inplace=True)\n",
       "        (conv2): Conv3d(128, 32, kernel_size=(3, 3, 3), stride=(1, 1, 1), padding=(1, 1, 1), bias=False)\n",
       "      )\n",
       "      (denselayer11): _DenseLayer(\n",
       "        (norm1): BatchNorm3d(832, eps=1e-05, momentum=0.1, affine=True, track_running_stats=True)\n",
       "        (relu1): ReLU(inplace=True)\n",
       "        (conv1): Conv3d(832, 128, kernel_size=(1, 1, 1), stride=(1, 1, 1), bias=False)\n",
       "        (norm2): BatchNorm3d(128, eps=1e-05, momentum=0.1, affine=True, track_running_stats=True)\n",
       "        (relu2): ReLU(inplace=True)\n",
       "        (conv2): Conv3d(128, 32, kernel_size=(3, 3, 3), stride=(1, 1, 1), padding=(1, 1, 1), bias=False)\n",
       "      )\n",
       "      (denselayer12): _DenseLayer(\n",
       "        (norm1): BatchNorm3d(864, eps=1e-05, momentum=0.1, affine=True, track_running_stats=True)\n",
       "        (relu1): ReLU(inplace=True)\n",
       "        (conv1): Conv3d(864, 128, kernel_size=(1, 1, 1), stride=(1, 1, 1), bias=False)\n",
       "        (norm2): BatchNorm3d(128, eps=1e-05, momentum=0.1, affine=True, track_running_stats=True)\n",
       "        (relu2): ReLU(inplace=True)\n",
       "        (conv2): Conv3d(128, 32, kernel_size=(3, 3, 3), stride=(1, 1, 1), padding=(1, 1, 1), bias=False)\n",
       "      )\n",
       "      (denselayer13): _DenseLayer(\n",
       "        (norm1): BatchNorm3d(896, eps=1e-05, momentum=0.1, affine=True, track_running_stats=True)\n",
       "        (relu1): ReLU(inplace=True)\n",
       "        (conv1): Conv3d(896, 128, kernel_size=(1, 1, 1), stride=(1, 1, 1), bias=False)\n",
       "        (norm2): BatchNorm3d(128, eps=1e-05, momentum=0.1, affine=True, track_running_stats=True)\n",
       "        (relu2): ReLU(inplace=True)\n",
       "        (conv2): Conv3d(128, 32, kernel_size=(3, 3, 3), stride=(1, 1, 1), padding=(1, 1, 1), bias=False)\n",
       "      )\n",
       "      (denselayer14): _DenseLayer(\n",
       "        (norm1): BatchNorm3d(928, eps=1e-05, momentum=0.1, affine=True, track_running_stats=True)\n",
       "        (relu1): ReLU(inplace=True)\n",
       "        (conv1): Conv3d(928, 128, kernel_size=(1, 1, 1), stride=(1, 1, 1), bias=False)\n",
       "        (norm2): BatchNorm3d(128, eps=1e-05, momentum=0.1, affine=True, track_running_stats=True)\n",
       "        (relu2): ReLU(inplace=True)\n",
       "        (conv2): Conv3d(128, 32, kernel_size=(3, 3, 3), stride=(1, 1, 1), padding=(1, 1, 1), bias=False)\n",
       "      )\n",
       "      (denselayer15): _DenseLayer(\n",
       "        (norm1): BatchNorm3d(960, eps=1e-05, momentum=0.1, affine=True, track_running_stats=True)\n",
       "        (relu1): ReLU(inplace=True)\n",
       "        (conv1): Conv3d(960, 128, kernel_size=(1, 1, 1), stride=(1, 1, 1), bias=False)\n",
       "        (norm2): BatchNorm3d(128, eps=1e-05, momentum=0.1, affine=True, track_running_stats=True)\n",
       "        (relu2): ReLU(inplace=True)\n",
       "        (conv2): Conv3d(128, 32, kernel_size=(3, 3, 3), stride=(1, 1, 1), padding=(1, 1, 1), bias=False)\n",
       "      )\n",
       "      (denselayer16): _DenseLayer(\n",
       "        (norm1): BatchNorm3d(992, eps=1e-05, momentum=0.1, affine=True, track_running_stats=True)\n",
       "        (relu1): ReLU(inplace=True)\n",
       "        (conv1): Conv3d(992, 128, kernel_size=(1, 1, 1), stride=(1, 1, 1), bias=False)\n",
       "        (norm2): BatchNorm3d(128, eps=1e-05, momentum=0.1, affine=True, track_running_stats=True)\n",
       "        (relu2): ReLU(inplace=True)\n",
       "        (conv2): Conv3d(128, 32, kernel_size=(3, 3, 3), stride=(1, 1, 1), padding=(1, 1, 1), bias=False)\n",
       "      )\n",
       "    )\n",
       "    (norm5): BatchNorm3d(1024, eps=1e-05, momentum=0.1, affine=True, track_running_stats=True)\n",
       "  )\n",
       "  (classifier): Linear(in_features=1024, out_features=5, bias=True)\n",
       ")"
      ]
     },
     "execution_count": 32,
     "metadata": {},
     "output_type": "execute_result"
    }
   ],
   "source": [
    "# from model.resnet import *\n",
    "# model =  generate_model(50)\n",
    "# model.to(device)\n",
    "\n",
    "from model.densenet import densenet\n",
    "model = densenet(121)\n",
    "model.to(device)"
   ]
  },
  {
   "cell_type": "markdown",
   "id": "1f972eb2",
   "metadata": {},
   "source": [
    "# MODEL-inception_resnet_v2"
   ]
  },
  {
   "cell_type": "code",
   "execution_count": 17,
   "id": "0cc03516",
   "metadata": {},
   "outputs": [],
   "source": [
    "# from model.inception_resnet_v2 import Inception_ResNetv2\n",
    "# from model.inceptionv4 import Inceptionv4\n",
    "# model = Inceptionv4()\n",
    "# model.to(device)\n",
    "# model = Inception_ResNetv2()\n",
    "# model.to(device)"
   ]
  },
  {
   "cell_type": "code",
   "execution_count": 33,
   "id": "3aded1ab",
   "metadata": {},
   "outputs": [],
   "source": [
    "config = easydict.EasyDict({'n_epoch': 10,\n",
    "                           'batch_size': 8,\n",
    "                           'lr': 0.001,\n",
    "                           'save_dir':'./',\n",
    "                           'dropout' : 0.2, \n",
    "                            'modelname' : 'densenet',\n",
    "                            'dataname' : 'sliced_2'\n",
    "                           })"
   ]
  },
  {
   "cell_type": "code",
   "execution_count": 34,
   "id": "d4112562",
   "metadata": {},
   "outputs": [],
   "source": [
    "train_loader = DataLoader(mridataset(datadict, data_type = 'train'), batch_size = config.batch_size, num_workers = 8, shuffle = True)\n",
    "#num_workers: cpu 여러개로 학습을 시켜라(8)\n",
    "test_loader = DataLoader(mridataset(datadict, data_type = 'test'), batch_size = config.batch_size, num_workers = 8, shuffle = False)"
   ]
  },
  {
   "cell_type": "code",
   "execution_count": 35,
   "id": "9e5dd89b",
   "metadata": {},
   "outputs": [],
   "source": [
    "# #save&load path\n",
    "# filename = f'Model_{config.modelname}_batch_{config.batch_size}_lr_{config.lr}'\n",
    "# output_path = os.path.join(config.save_dir, filename)\n",
    "# print('Model will be saved in {}'.format(output_path))"
   ]
  },
  {
   "cell_type": "markdown",
   "id": "2089c84f",
   "metadata": {},
   "source": [
    "RMSProp with decay of 0.9 and epsilon(e//what is this??)= 1.0.  We used a learning rate of 0.045, decayed every two epochs using an exponential rate of 0.94.  --> decay every 2 epochs??using an exponential rate of 0.94===>lr.schedular??"
   ]
  },
  {
   "cell_type": "code",
   "execution_count": 36,
   "id": "9d0e8428",
   "metadata": {},
   "outputs": [],
   "source": [
    "#Loss\n",
    "criterion = nn.MSELoss()\n",
    "criterion2 = nn.L1Loss()\n",
    "#optimizer\n",
    "optimizer = torch.optim.Adam(model.parameters(), lr = config.lr)#this was for resnet\n",
    "# optimizer = torch.optim.RMSprop(model.parameters(), lr = config.lr, weight_decay = 0.9, momentum = 0.9)#for inception resnet"
   ]
  },
  {
   "cell_type": "code",
   "execution_count": 37,
   "id": "08e8fac9",
   "metadata": {
    "scrolled": true
   },
   "outputs": [
    {
     "name": "stderr",
     "output_type": "stream",
     "text": [
      "\u001b[34m\u001b[1mwandb\u001b[0m: wandb version 0.12.4 is available!  To upgrade, please run:\n",
      "\u001b[34m\u001b[1mwandb\u001b[0m:  $ pip install wandb --upgrade\n"
     ]
    },
    {
     "data": {
      "text/html": [
       "\n",
       "                Tracking run with wandb version 0.12.1<br/>\n",
       "                Syncing run <strong style=\"color:#cdcd00\">rich-hydra-4</strong> to <a href=\"https://wandb.ai\" target=\"_blank\">Weights & Biases</a> <a href=\"https://docs.wandb.com/integrations/jupyter.html\" target=\"_blank\">(Documentation)</a>.<br/>\n",
       "                Project page: <a href=\"https://wandb.ai/tonge/densenet_sliced_2_10\" target=\"_blank\">https://wandb.ai/tonge/densenet_sliced_2_10</a><br/>\n",
       "                Run page: <a href=\"https://wandb.ai/tonge/densenet_sliced_2_10/runs/3elhthno\" target=\"_blank\">https://wandb.ai/tonge/densenet_sliced_2_10/runs/3elhthno</a><br/>\n",
       "                Run data is saved locally in <code>/home/chaeeun/Desktop/brain disease prediction/wandb/run-20211013_170335-3elhthno</code><br/><br/>\n",
       "            "
      ],
      "text/plain": [
       "<IPython.core.display.HTML object>"
      ]
     },
     "metadata": {},
     "output_type": "display_data"
    },
    {
     "name": "stdout",
     "output_type": "stream",
     "text": [
      "Train Epoch 1 start!\n",
      "[Train] loss: 1.182\n",
      "[Train] mae_loss: 0.779\n",
      "[Test]  loss: 17065.086\n",
      "[Test]  mae_loss: 105.375\n",
      "[Test, y_each_maeloss]:  [8.756208953857424, 229.53268859863275, 122.52680114746093, 96.29479949951171, 77.98409545898436]\n",
      "\n",
      "\n",
      "Train Epoch 2 start!\n",
      "[Train] loss: 1.013\n",
      "[Train] mae_loss: 0.710\n",
      "[Test]  loss: 1818.750\n",
      "[Test]  mae_loss: 33.063\n",
      "[Test, y_each_maeloss]:  [1.9031893992424014, 57.36056564331055, 17.031839561462405, 20.803890533447266, 71.75209350585939]\n",
      "\n",
      "\n",
      "Train Epoch 3 start!\n",
      "[Train] loss: 1.016\n",
      "[Train] mae_loss: 0.735\n",
      "[Test]  loss: 2.956\n",
      "[Test]  mae_loss: 1.153\n",
      "[Test, y_each_maeloss]:  [0.12466402828693388, 1.4790098571777344, 1.0036512374877928, 1.667562789916992, 2.178825378417969]\n",
      "\n",
      "\n",
      "Train Epoch 4 start!\n",
      "[Train] loss: 0.957\n",
      "[Train] mae_loss: 0.699\n",
      "[Test]  loss: 4.609\n",
      "[Test]  mae_loss: 1.622\n",
      "[Test, y_each_maeloss]:  [0.3745744156837464, 2.3301736450195305, 1.8312001609802249, 1.4632245635986325, 3.1558828735351554]\n",
      "\n",
      "\n",
      "Train Epoch 5 start!\n",
      "[Train] loss: 0.860\n",
      "[Train] mae_loss: 0.646\n",
      "[Test]  loss: 2.398\n",
      "[Test]  mae_loss: 1.090\n",
      "[Test, y_each_maeloss]:  [0.07339147105813028, 1.1448931121826176, 0.8516538047790527, 1.3913633728027344, 2.426169738769532]\n",
      "\n",
      "\n",
      "Train Epoch 6 start!\n",
      "[Train] loss: 0.963\n",
      "[Train] mae_loss: 0.649\n",
      "[Test]  loss: 5.953\n",
      "[Test]  mae_loss: 1.792\n",
      "[Test, y_each_maeloss]:  [0.19199641212821006, 2.6831033325195315, 2.0595405769348147, 1.546161575317383, 3.638587341308594]\n",
      "\n",
      "\n",
      "Train Epoch 7 start!\n",
      "[Train] loss: 0.719\n",
      "[Train] mae_loss: 0.616\n",
      "[Test]  loss: 13.684\n",
      "[Test]  mae_loss: 2.907\n",
      "[Test, y_each_maeloss]:  [0.2730777096748352, 2.98938949584961, 2.3886905002593997, 2.266130599975586, 5.563084716796875]\n",
      "\n",
      "\n",
      "Train Epoch 8 start!\n",
      "[Train] loss: 0.751\n",
      "[Train] mae_loss: 0.633\n",
      "[Test]  loss: 12.809\n",
      "[Test]  mae_loss: 2.657\n",
      "[Test, y_each_maeloss]:  [0.24541822835803032, 3.7903186798095696, 2.3716511011123655, 1.602534942626953, 6.293234863281251]\n",
      "\n",
      "\n",
      "Train Epoch 9 start!\n",
      "[Train] loss: 0.624\n",
      "[Train] mae_loss: 0.548\n",
      "[Test]  loss: 4.112\n",
      "[Test]  mae_loss: 1.423\n",
      "[Test, y_each_maeloss]:  [0.1073423919081688, 1.300572052001953, 0.9702635908126831, 1.644108123779297, 2.8342480468750004]\n",
      "\n",
      "\n",
      "Train Epoch 10 start!\n",
      "[Train] loss: 0.707\n",
      "[Train] mae_loss: 0.605\n",
      "[Test]  loss: 3.408\n",
      "[Test]  mae_loss: 1.256\n",
      "[Test, y_each_maeloss]:  [0.12402575314044954, 1.3424383544921876, 1.0569164943695069, 1.9748731994628905, 2.9052053833007805]\n",
      "\n",
      "\n",
      "158307.125 ms\n"
     ]
    },
    {
     "data": {
      "text/html": [
       "<br/>Waiting for W&B process to finish, PID 16814<br/>Program ended successfully."
      ],
      "text/plain": [
       "<IPython.core.display.HTML object>"
      ]
     },
     "metadata": {},
     "output_type": "display_data"
    },
    {
     "data": {
      "application/vnd.jupyter.widget-view+json": {
       "model_id": "b364f96ccc49484087482425853d80e5",
       "version_major": 2,
       "version_minor": 0
      },
      "text/plain": [
       "VBox(children=(Label(value=' 0.01MB of 0.01MB uploaded (0.00MB deduped)\\r'), FloatProgress(value=0.92202493388…"
      ]
     },
     "metadata": {},
     "output_type": "display_data"
    },
    {
     "data": {
      "text/html": [
       "Find user logs for this run at: <code>/home/chaeeun/Desktop/brain disease prediction/wandb/run-20211013_170335-3elhthno/logs/debug.log</code>"
      ],
      "text/plain": [
       "<IPython.core.display.HTML object>"
      ]
     },
     "metadata": {},
     "output_type": "display_data"
    },
    {
     "data": {
      "text/html": [
       "Find internal logs for this run at: <code>/home/chaeeun/Desktop/brain disease prediction/wandb/run-20211013_170335-3elhthno/logs/debug-internal.log</code>"
      ],
      "text/plain": [
       "<IPython.core.display.HTML object>"
      ]
     },
     "metadata": {},
     "output_type": "display_data"
    },
    {
     "data": {
      "text/html": [
       "<h3>Run summary:</h3><br/><style>\n",
       "    table.wandb td:nth-child(1) { padding: 0 10px; text-align: right }\n",
       "    </style><table class=\"wandb\">\n",
       "<tr><td>Train mse Loss</td><td>0.70718</td></tr><tr><td>Train mae Loss</td><td>0.60455</td></tr><tr><td>Test mse Loss</td><td>3.40828</td></tr><tr><td>Test mae Loss</td><td>1.25605</td></tr><tr><td>_runtime</td><td>164</td></tr><tr><td>_timestamp</td><td>1634112379</td></tr><tr><td>_step</td><td>10</td></tr></table>"
      ],
      "text/plain": [
       "<IPython.core.display.HTML object>"
      ]
     },
     "metadata": {},
     "output_type": "display_data"
    },
    {
     "data": {
      "text/html": [
       "<h3>Run history:</h3><br/><style>\n",
       "    table.wandb td:nth-child(1) { padding: 0 10px; text-align: right }\n",
       "    </style><table class=\"wandb\">\n",
       "<tr><td>Train mse Loss</td><td>█▆▆▅▄▅▂▃▁▂</td></tr><tr><td>Train mae Loss</td><td>█▆▇▆▄▄▃▄▁▃</td></tr><tr><td>Test mse Loss</td><td>█▂▁▁▁▁▁▁▁▁</td></tr><tr><td>Test mae Loss</td><td>█▃▁▁▁▁▁▁▁▁</td></tr><tr><td>_runtime</td><td>▁▂▃▃▄▅▆▆▇██</td></tr><tr><td>_timestamp</td><td>▁▂▃▃▄▅▆▆▇██</td></tr><tr><td>_step</td><td>▁▂▂▃▄▅▅▆▇▇█</td></tr></table><br/>"
      ],
      "text/plain": [
       "<IPython.core.display.HTML object>"
      ]
     },
     "metadata": {},
     "output_type": "display_data"
    },
    {
     "data": {
      "text/html": [
       "Synced 6 W&B file(s), 5 media file(s), 5 artifact file(s) and 0 other file(s)"
      ],
      "text/plain": [
       "<IPython.core.display.HTML object>"
      ]
     },
     "metadata": {},
     "output_type": "display_data"
    },
    {
     "data": {
      "text/html": [
       "\n",
       "                    <br/>Synced <strong style=\"color:#cdcd00\">rich-hydra-4</strong>: <a href=\"https://wandb.ai/tonge/densenet_sliced_2_10/runs/3elhthno\" target=\"_blank\">https://wandb.ai/tonge/densenet_sliced_2_10/runs/3elhthno</a><br/>\n",
       "                "
      ],
      "text/plain": [
       "<IPython.core.display.HTML object>"
      ]
     },
     "metadata": {},
     "output_type": "display_data"
    }
   ],
   "source": [
    "#trainer\n",
    "wandb.init(project=config.modelname +'_'+ config.dataname + '_' + str(config.n_epoch), config = config)\n",
    "wandb.watch(model, log='all')\n",
    "\n",
    "start = torch.cuda.Event(enable_timing = True)\n",
    "end = torch.cuda.Event(enable_timing = True)\n",
    "\n",
    "start.record()\n",
    "loss_plot, val_loss_plot = [], []\n",
    "maeloss_plot, maeval_loss_plot = [], []\n",
    "y_each_maeloss_plot = []\n",
    "for n_epoch in range(1, config.n_epoch + 1):\n",
    "    print(f'Train Epoch {n_epoch} start!')\n",
    "    avg_train_loss = 0\n",
    "    avg_train_mae = 0\n",
    "    \n",
    "    model.train()\n",
    "    \n",
    "    for iter, batch in enumerate(train_loader):\n",
    "        X = batch['X'].to(device)\n",
    "        y_target = batch['y_target'].to(device)\n",
    "        optimizer.zero_grad()#optimizer reset\n",
    "        \n",
    "        y_pred = model(X)\n",
    "        loss = criterion(y_pred, y_target)\n",
    "        loss2 = criterion2(y_pred, y_target)\n",
    "\n",
    "\n",
    "        loss.backward()\n",
    "        optimizer.step()\n",
    "        avg_train_loss += loss.item() / len(train_loader)\n",
    "        avg_train_mae += loss2.item() / len(train_loader)\n",
    "\n",
    "        \n",
    "        \n",
    "    print('[Train] loss: {:.3f}'.format(avg_train_loss))\n",
    "    print('[Train] mae_loss: {:.3f}'.format(avg_train_mae))\n",
    "    loss_plot.append(avg_train_loss)\n",
    "    maeloss_plot.append(avg_train_mae)\n",
    "\n",
    "    # wandb.log({'Train mse Loss' : avg_train_loss, 'Train mae Loss': avg_train_mae})#0, 2, 4, ...\n",
    "    \n",
    "\n",
    "        #evaluation\n",
    "    model.eval()\n",
    "    avg_test_loss = 0\n",
    "    avg_test_mae = 0\n",
    "        \n",
    "    with torch.no_grad(): #no need to compute gradient\n",
    "        y_each_maeloss = [0, 0, 0, 0, 0]\n",
    "        y_predicted = []\n",
    "        for iter, batch in enumerate(test_loader):\n",
    "            X = batch['X'].to(device)\n",
    "            y_target = batch['y_target'].to(device)\n",
    "\n",
    "            y_pred = model(X)\n",
    "            #################\n",
    "            for list in y_pred:\n",
    "                for i in range(len(list)):\n",
    "                    list[i] = list[i] * unnorm_label[:,i].std() + unnorm_label[:,i].mean()\n",
    "    \n",
    "    \n",
    "            if n_epoch == config.n_epoch:\n",
    "                y_predicted.append(y_pred)\n",
    "                \n",
    "            \n",
    "            for list in y_target:\n",
    "                for i in range(len(list)):\n",
    "                    list[i] = list[i] * unnorm_label[:,i].std() + unnorm_label[:,i].mean()\n",
    "            ################\n",
    "\n",
    "            for i in range(len(y_pred)):\n",
    "                for j in range(5):\n",
    "                    y_loss = criterion2(y_pred[i][j], y_target[i][j]).item() / len(y_test)     #25\n",
    "                    y_each_maeloss[j] += y_loss\n",
    "\n",
    "\n",
    "            loss = criterion(y_pred, y_target)\n",
    "            loss2 = criterion2(y_pred, y_target)\n",
    "\n",
    "            avg_test_loss += loss.item()/len(test_loader)\n",
    "            avg_test_mae += loss2.item()/len(test_loader)\n",
    "\n",
    "        print('[Test]  loss: {:.3f}'.format(avg_test_loss))\n",
    "        print('[Test]  mae_loss: {:.3f}'.format(avg_test_mae))\n",
    "        print('[Test, y_each_maeloss]: ',y_each_maeloss)\n",
    "        print('\\n')\n",
    "        val_loss_plot.append(avg_test_loss)\n",
    "        maeval_loss_plot.append(avg_test_mae)\n",
    "        y_each_maeloss_plot.append(y_each_maeloss)\n",
    "        wandb.log({'Train mse Loss' : avg_train_loss, 'Train mae Loss': avg_train_mae, 'Test mse Loss': avg_test_loss, 'Test mae Loss': avg_test_mae})\n",
    "    \n",
    "    \n",
    "end.record()\n",
    "torch.cuda.synchronize()\n",
    "print(start.elapsed_time(end), \"ms\")\n",
    "\n",
    "# wandb.finish()\n",
    "y_predicted#, label[75:]\n",
    "y_predicted_concat = torch.cat([y_predicted[0], y_predicted[1], y_predicted[2], y_predicted[3]], dim = 0)\n",
    "\n",
    "y1_p = y_predicted_concat[:, 0].reshape(25,1).cpu()\n",
    "y2_p = y_predicted_concat[:, 1].reshape(25,1).cpu()\n",
    "y3_p = y_predicted_concat[:, 2].reshape(25,1).cpu()\n",
    "y4_p = y_predicted_concat[:, 3].reshape(25,1).cpu()\n",
    "y5_p = y_predicted_concat[:, 4].reshape(25,1).cpu()\n",
    "#정답치\n",
    "y1 = unnorm_label[75:, 0].reshape(25,1)\n",
    "y2 = unnorm_label[75:, 1].reshape(25,1)\n",
    "y3 = unnorm_label[75:, 2].reshape(25,1)\n",
    "y4 = unnorm_label[75:, 3].reshape(25,1)\n",
    "y5 = unnorm_label[75:, 4].reshape(25,1)\n",
    "\n",
    "\n",
    "\n",
    "one = np.hstack((y1_p, y1))\n",
    "two = np.hstack((y2_p, y2))\n",
    "three = np.hstack((y3_p, y3))\n",
    "four = np.hstack((y4_p, y4))\n",
    "five = np.hstack((y5_p, y5))\n",
    "\n",
    "\n",
    "scat_1 = [[x, y] for (x, y) in one]#zip(one[:,0], one[:,1])\n",
    "scat_2 = [[x, y] for (x, y) in two]#zip(one[:,0], one[:,1])\n",
    "scat_3 = [[x, y] for (x, y) in three]#zip(one[:,0], one[:,1])\n",
    "scat_4 = [[x, y] for (x, y) in four]#zip(one[:,0], one[:,1])\n",
    "scat_5 = [[x, y] for (x, y) in five]#zip(one[:,0], one[:,1])\n",
    "\n",
    "table_1 = wandb.Table(data = scat_1, columns = ['predicted', 'truth'])\n",
    "scatter_1 = wandb.plot.scatter(table_1, x = 'predicted', y = 'target', title = 'scat_1')\n",
    "\n",
    "table_2 = wandb.Table(data = scat_2, columns = ['predicted', 'truth'])\n",
    "scatter_2 = wandb.plot.scatter(table_2, x = 'predicted', y = 'target', title = 'scat_2')\n",
    "\n",
    "table_3 = wandb.Table(data = scat_3, columns = ['predicted', 'truth'])\n",
    "scatter_3 = wandb.plot.scatter(table_3, x = 'predicted', y = 'target', title = 'scat_3')\n",
    "\n",
    "table_4 = wandb.Table(data = scat_4, columns = ['predicted', 'truth'])\n",
    "scatter_4 = wandb.plot.scatter(table_4, x = 'predicted', y = 'target', title = 'scat_4')\n",
    "\n",
    "table_5 = wandb.Table(data = scat_5, columns = ['predicted', 'truth'])\n",
    "scatter_5 = wandb.plot.scatter(table_5, x = 'predicted', y = 'target', title = 'scat_5')\n",
    "\n",
    "wandb.log({ 'scatter_1': scatter_1, 'scatter_2' : scatter_2, 'scatter_3' : scatter_3, \n",
    "'scatter_4' : scatter_4, 'scatter_5': scatter_5})\n",
    "\n",
    "\n",
    "\n",
    "wandb.finish()\n",
    "\n"
   ]
  },
  {
   "cell_type": "code",
   "execution_count": 25,
   "id": "b0040a8c",
   "metadata": {},
   "outputs": [
    {
     "data": {
      "text/html": [
       "<br/>Waiting for W&B process to finish, PID 10231<br/>Program ended successfully."
      ],
      "text/plain": [
       "<IPython.core.display.HTML object>"
      ]
     },
     "metadata": {},
     "output_type": "display_data"
    },
    {
     "data": {
      "application/vnd.jupyter.widget-view+json": {
       "model_id": "ee5d8efb639e499ea8c1cd985503c7bc",
       "version_major": 2,
       "version_minor": 0
      },
      "text/plain": [
       "VBox(children=(Label(value=' 0.00MB of 0.00MB uploaded (0.00MB deduped)\\r'), FloatProgress(value=1.0, max=1.0)…"
      ]
     },
     "metadata": {},
     "output_type": "display_data"
    },
    {
     "data": {
      "text/html": [
       "Find user logs for this run at: <code>/home/chaeeun/Desktop/brain disease prediction/wandb/run-20211013_165156-2bgz80y3/logs/debug.log</code>"
      ],
      "text/plain": [
       "<IPython.core.display.HTML object>"
      ]
     },
     "metadata": {},
     "output_type": "display_data"
    },
    {
     "data": {
      "text/html": [
       "Find internal logs for this run at: <code>/home/chaeeun/Desktop/brain disease prediction/wandb/run-20211013_165156-2bgz80y3/logs/debug-internal.log</code>"
      ],
      "text/plain": [
       "<IPython.core.display.HTML object>"
      ]
     },
     "metadata": {},
     "output_type": "display_data"
    },
    {
     "data": {
      "text/html": [
       "<h3>Run summary:</h3><br/><style>\n",
       "    table.wandb td:nth-child(1) { padding: 0 10px; text-align: right }\n",
       "    </style><table class=\"wandb\">\n",
       "<tr><td>Train mse Loss</td><td>0.79483</td></tr><tr><td>Train mae Loss</td><td>0.66267</td></tr><tr><td>Test mse Loss</td><td>3.75818</td></tr><tr><td>Test mae Loss</td><td>1.3394</td></tr><tr><td>_runtime</td><td>165</td></tr><tr><td>_timestamp</td><td>1634111681</td></tr><tr><td>_step</td><td>9</td></tr></table>"
      ],
      "text/plain": [
       "<IPython.core.display.HTML object>"
      ]
     },
     "metadata": {},
     "output_type": "display_data"
    },
    {
     "data": {
      "text/html": [
       "<h3>Run history:</h3><br/><style>\n",
       "    table.wandb td:nth-child(1) { padding: 0 10px; text-align: right }\n",
       "    </style><table class=\"wandb\">\n",
       "<tr><td>Train mse Loss</td><td>█▆▄▂▄▂▂▁▃▁</td></tr><tr><td>Train mae Loss</td><td>█▇▄▂▃▃▄▁▂▃</td></tr><tr><td>Test mse Loss</td><td>█▁▁▁▁▁▁▁▁▁</td></tr><tr><td>Test mae Loss</td><td>█▁▁▁▁▁▁▁▁▁</td></tr><tr><td>_runtime</td><td>▁▂▃▃▄▅▆▆▇█</td></tr><tr><td>_timestamp</td><td>▁▂▃▃▄▅▆▆▇█</td></tr><tr><td>_step</td><td>▁▂▃▃▄▅▆▆▇█</td></tr></table><br/>"
      ],
      "text/plain": [
       "<IPython.core.display.HTML object>"
      ]
     },
     "metadata": {},
     "output_type": "display_data"
    },
    {
     "data": {
      "text/html": [
       "Synced 6 W&B file(s), 0 media file(s), 0 artifact file(s) and 0 other file(s)"
      ],
      "text/plain": [
       "<IPython.core.display.HTML object>"
      ]
     },
     "metadata": {},
     "output_type": "display_data"
    },
    {
     "data": {
      "text/html": [
       "\n",
       "                    <br/>Synced <strong style=\"color:#cdcd00\">rare-lake-3</strong>: <a href=\"https://wandb.ai/tonge/densenet_sliced_2_10/runs/2bgz80y3\" target=\"_blank\">https://wandb.ai/tonge/densenet_sliced_2_10/runs/2bgz80y3</a><br/>\n",
       "                "
      ],
      "text/plain": [
       "<IPython.core.display.HTML object>"
      ]
     },
     "metadata": {},
     "output_type": "display_data"
    }
   ],
   "source": [
    "# run = wandb.init(project = config.modelname +'_'+ config.dataname + '_' + str(config.n_epoch), config = config)\n",
    "\n",
    "artifact = wandb.Artifact('model', type='model')\n",
    "# artifact.add_file('model.pth')\n",
    "\n",
    "wandb.log_artifact(artifact)\n",
    "wandb.join()"
   ]
  },
  {
   "cell_type": "code",
   "execution_count": 24,
   "id": "247a9368",
   "metadata": {},
   "outputs": [
    {
     "data": {
      "image/png": "[encoded data removed]",
      "text/plain": [
       "<Figure size 640x480 with 1 Axes>"
      ]
     },
     "metadata": {},
     "output_type": "display_data"
    }
   ],
   "source": [
    "#mse\n",
    "plt.plot(loss_plot[1:], label='train_loss')\n",
    "plt.plot(val_loss_plot[1:], label='val_loss')\n",
    "plt.xlabel('epoch')\n",
    "plt.ylabel('loss(mse)')\n",
    "plt.legend()\n",
    "plt.show()"
   ]
  },
  {
   "cell_type": "code",
   "execution_count": 25,
   "id": "fcaa9ecc",
   "metadata": {},
   "outputs": [
    {
     "data": {
      "image/png": "[encoded data removed]",
      "text/plain": [
       "<Figure size 640x480 with 1 Axes>"
      ]
     },
     "metadata": {},
     "output_type": "display_data"
    }
   ],
   "source": [
    "#mae\n",
    "plt.plot(maeloss_plot[1:], label='train_loss')\n",
    "plt.plot(maeval_loss_plot[1:], label='val_loss')\n",
    "plt.xlabel('epoch')\n",
    "plt.ylabel('loss(mae)')\n",
    "plt.legend()\n",
    "plt.show()"
   ]
  },
  {
   "cell_type": "code",
   "execution_count": 26,
   "id": "4cf1336d",
   "metadata": {},
   "outputs": [],
   "source": [
    "y_predicted#, label[75:]\n",
    "y_predicted_concat = torch.cat([y_predicted[0], y_predicted[1], y_predicted[2], y_predicted[3]], dim = 0)"
   ]
  },
  {
   "cell_type": "code",
   "execution_count": 27,
   "id": "a59d1d01",
   "metadata": {},
   "outputs": [
    {
     "data": {
      "text/plain": [
       "tensor([[2.1399e-01, 3.3348e+01, 1.6924e+00, 2.8670e+01, 7.5410e+01],\n",
       "        [2.4683e-01, 3.1869e+01, 2.3634e+00, 2.9005e+01, 7.4381e+01],\n",
       "        [2.2132e-01, 3.3156e+01, 2.1738e+00, 2.8897e+01, 7.5456e+01],\n",
       "        [2.1936e-01, 3.3241e+01, 1.4021e+00, 2.8777e+01, 7.5573e+01],\n",
       "        [1.4700e-01, 3.4157e+01, 1.1513e+00, 2.9199e+01, 7.7073e+01],\n",
       "        [3.0774e-01, 3.1157e+01, 3.1522e+00, 2.8518e+01, 7.2964e+01],\n",
       "        [2.3699e-01, 3.2104e+01, 2.3858e+00, 2.8767e+01, 7.4289e+01],\n",
       "        [2.4347e-01, 3.2618e+01, 2.2802e+00, 2.8855e+01, 7.5142e+01],\n",
       "        [2.2627e-01, 3.2887e+01, 2.1047e+00, 2.9084e+01, 7.5453e+01],\n",
       "        [2.8665e-01, 3.1931e+01, 2.6191e+00, 2.8534e+01, 7.3962e+01],\n",
       "        [1.7298e-01, 3.3690e+01, 1.6432e+00, 2.9187e+01, 7.6558e+01],\n",
       "        [3.1190e-02, 3.2639e+01, 1.2610e+00, 3.0255e+01, 7.6678e+01],\n",
       "        [3.1179e-01, 3.1542e+01, 3.2612e+00, 2.8406e+01, 7.3458e+01],\n",
       "        [2.0812e-01, 3.2772e+01, 1.7614e+00, 2.8982e+01, 7.5214e+01],\n",
       "        [2.2400e-01, 3.3259e+01, 1.7388e+00, 2.8731e+01, 7.5363e+01],\n",
       "        [3.9505e-02, 3.2552e+01, 1.2319e+00, 3.0523e+01, 7.6554e+01],\n",
       "        [2.5263e-01, 3.2257e+01, 2.3838e+00, 2.8806e+01, 7.4516e+01],\n",
       "        [2.5277e-01, 3.2289e+01, 2.0444e+00, 2.8927e+01, 7.4823e+01],\n",
       "        [1.8364e-01, 3.3418e+01, 1.5654e+00, 2.9434e+01, 7.6405e+01],\n",
       "        [3.0297e-01, 3.1654e+01, 2.5163e+00, 2.8603e+01, 7.3625e+01],\n",
       "        [2.8271e-01, 3.1857e+01, 2.5619e+00, 2.8505e+01, 7.3867e+01],\n",
       "        [2.0950e-01, 3.2871e+01, 1.8043e+00, 2.8927e+01, 7.5346e+01],\n",
       "        [1.7434e-01, 3.4271e+01, 1.4740e+00, 2.9494e+01, 7.7047e+01],\n",
       "        [2.3409e-01, 3.2807e+01, 1.8417e+00, 2.8658e+01, 7.5084e+01],\n",
       "        [2.0441e-01, 3.2781e+01, 2.0016e+00, 2.8954e+01, 7.5308e+01]],\n",
       "       device='cuda:0')"
      ]
     },
     "execution_count": 27,
     "metadata": {},
     "output_type": "execute_result"
    }
   ],
   "source": [
    "y_predicted_concat"
   ]
  },
  {
   "cell_type": "code",
   "execution_count": 31,
   "id": "e3876f5d",
   "metadata": {},
   "outputs": [
    {
     "ename": "Error",
     "evalue": "You must call wandb.init() before wandb.log()",
     "output_type": "error",
     "traceback": [
      "\u001b[0;31m---------------------------------------------------------------------------\u001b[0m",
      "\u001b[0;31mError\u001b[0m                                     Traceback (most recent call last)",
      "\u001b[0;32m<ipython-input-31-1da454aa51c3>\u001b[0m in \u001b[0;36m<module>\u001b[0;34m\u001b[0m\n\u001b[1;32m     43\u001b[0m \u001b[0;34m\u001b[0m\u001b[0m\n\u001b[1;32m     44\u001b[0m wandb.log({ 'scatter_1': scatter_1, 'scatter_2' : scatter_2, 'scatter_3' : scatter_3, \n\u001b[0;32m---> 45\u001b[0;31m 'scatter_4' : scatter_4, 'scatter_5': scatter_5})\n\u001b[0m\u001b[1;32m     46\u001b[0m \u001b[0;34m\u001b[0m\u001b[0m\n\u001b[1;32m     47\u001b[0m \u001b[0;34m\u001b[0m\u001b[0m\n",
      "\u001b[0;32m~/.conda/envs/sce/lib/python3.7/site-packages/wandb/sdk/lib/preinit.py\u001b[0m in \u001b[0;36mpreinit_wrapper\u001b[0;34m(*args, **kwargs)\u001b[0m\n\u001b[1;32m     36\u001b[0m \u001b[0;32mdef\u001b[0m \u001b[0mPreInitCallable\u001b[0m\u001b[0;34m(\u001b[0m\u001b[0mname\u001b[0m\u001b[0;34m,\u001b[0m \u001b[0mdestination\u001b[0m\u001b[0;34m=\u001b[0m\u001b[0;32mNone\u001b[0m\u001b[0;34m)\u001b[0m\u001b[0;34m:\u001b[0m  \u001b[0;31m# noqa: N802\u001b[0m\u001b[0;34m\u001b[0m\u001b[0;34m\u001b[0m\u001b[0m\n\u001b[1;32m     37\u001b[0m     \u001b[0;32mdef\u001b[0m \u001b[0mpreinit_wrapper\u001b[0m\u001b[0;34m(\u001b[0m\u001b[0;34m*\u001b[0m\u001b[0margs\u001b[0m\u001b[0;34m,\u001b[0m \u001b[0;34m**\u001b[0m\u001b[0mkwargs\u001b[0m\u001b[0;34m)\u001b[0m\u001b[0;34m:\u001b[0m\u001b[0;34m\u001b[0m\u001b[0;34m\u001b[0m\u001b[0m\n\u001b[0;32m---> 38\u001b[0;31m         \u001b[0;32mraise\u001b[0m \u001b[0mwandb\u001b[0m\u001b[0;34m.\u001b[0m\u001b[0mError\u001b[0m\u001b[0;34m(\u001b[0m\u001b[0;34m\"You must call wandb.init() before {}()\"\u001b[0m\u001b[0;34m.\u001b[0m\u001b[0mformat\u001b[0m\u001b[0;34m(\u001b[0m\u001b[0mname\u001b[0m\u001b[0;34m)\u001b[0m\u001b[0;34m)\u001b[0m\u001b[0;34m\u001b[0m\u001b[0;34m\u001b[0m\u001b[0m\n\u001b[0m\u001b[1;32m     39\u001b[0m \u001b[0;34m\u001b[0m\u001b[0m\n\u001b[1;32m     40\u001b[0m     \u001b[0mpreinit_wrapper\u001b[0m\u001b[0;34m.\u001b[0m\u001b[0m__name__\u001b[0m \u001b[0;34m=\u001b[0m \u001b[0mstr\u001b[0m\u001b[0;34m(\u001b[0m\u001b[0mname\u001b[0m\u001b[0;34m)\u001b[0m\u001b[0;34m\u001b[0m\u001b[0;34m\u001b[0m\u001b[0m\n",
      "\u001b[0;31mError\u001b[0m: You must call wandb.init() before wandb.log()"
     ]
    }
   ],
   "source": [
    "# y1_p = y_predicted_concat[:, 0].reshape(25,1).cpu()\n",
    "# y2_p = y_predicted_concat[:, 1].reshape(25,1).cpu()\n",
    "# y3_p = y_predicted_concat[:, 2].reshape(25,1).cpu()\n",
    "# y4_p = y_predicted_concat[:, 3].reshape(25,1).cpu()\n",
    "# y5_p = y_predicted_concat[:, 4].reshape(25,1).cpu()\n",
    "# #정답치\n",
    "# y1 = unnorm_label[75:, 0].reshape(25,1)\n",
    "# y2 = unnorm_label[75:, 1].reshape(25,1)\n",
    "# y3 = unnorm_label[75:, 2].reshape(25,1)\n",
    "# y4 = unnorm_label[75:, 3].reshape(25,1)\n",
    "# y5 = unnorm_label[75:, 4].reshape(25,1)\n",
    "\n",
    "\n",
    "\n",
    "# one = np.hstack((y1_p, y1))\n",
    "# two = np.hstack((y2_p, y2))\n",
    "# three = np.hstack((y3_p, y3))\n",
    "# four = np.hstack((y4_p, y4))\n",
    "# five = np.hstack((y5_p, y5))\n",
    "\n",
    "\n",
    "# scat_1 = [[x, y] for (x, y) in one]#zip(one[:,0], one[:,1])\n",
    "# scat_2 = [[x, y] for (x, y) in two]#zip(one[:,0], one[:,1])\n",
    "# scat_3 = [[x, y] for (x, y) in three]#zip(one[:,0], one[:,1])\n",
    "# scat_4 = [[x, y] for (x, y) in four]#zip(one[:,0], one[:,1])\n",
    "# scat_5 = [[x, y] for (x, y) in five]#zip(one[:,0], one[:,1])\n",
    "\n",
    "wandb.init(project = )\n",
    "table_1 = wandb.Table(data = scat_1, columns = ['predicted', 'truth'])\n",
    "scatter_1 = wandb.plot.scatter(table_1, x = 'predicted', y = 'target', title = 'scat_1')\n",
    "\n",
    "table_2 = wandb.Table(data = scat_2, columns = ['predicted', 'truth'])\n",
    "scatter_2 = wandb.plot.scatter(table_2, x = 'predicted', y = 'target', title = 'scat_2')\n",
    "\n",
    "table_3 = wandb.Table(data = scat_3, columns = ['predicted', 'truth'])\n",
    "scatter_3 = wandb.plot.scatter(table_3, x = 'predicted', y = 'target', title = 'scat_3')\n",
    "\n",
    "table_4 = wandb.Table(data = scat_4, columns = ['predicted', 'truth'])\n",
    "scatter_4 = wandb.plot.scatter(table_4, x = 'predicted', y = 'target', title = 'scat_4')\n",
    "\n",
    "table_5 = wandb.Table(data = scat_5, columns = ['predicted', 'truth'])\n",
    "scatter_5 = wandb.plot.scatter(table_5, x = 'predicted', y = 'target', title = 'scat_5')\n",
    "\n",
    "wandb.log({ 'scatter_1': scatter_1, 'scatter_2' : scatter_2, 'scatter_3' : scatter_3, \n",
    "'scatter_4' : scatter_4, 'scatter_5': scatter_5})\n",
    "\n",
    "\n",
    "# x = np.arange(-0.05, 0.25, 0.05)\n",
    "# plt.plot(x,x)\n",
    "# plt.title(\"y1\", fontsize = 15)\n",
    "# plt.scatter( one[:,0], one[:, 1], color = 'blue', alpha = .5)\n",
    "# # plt.scatter(n_1[:,0], n_1[:,1], color = 'red', alpha = .5)\n",
    "# plt.grid()\n",
    "# plt.show()\n",
    "\n",
    "# x = np.arange(30, 38, 1)\n",
    "# plt.plot(x, x)\n",
    "# plt.title(\"y2\", fontsize = 15)\n",
    "# plt.scatter( two[:,0], two[:, 1], color = 'blue', alpha = .5)\n",
    "# plt.grid()\n",
    "# plt.show()\n",
    "\n",
    "\n",
    "\n",
    "# x = np.arange(1, 6, 1)\n",
    "# plt.plot(x, x)\n",
    "# plt.title(\"y3\", fontsize = 15)\n",
    "# plt.scatter( three[:,0], three[:, 1], color = 'blue', alpha = .5)\n",
    "# plt.grid()\n",
    "# plt.show()\n",
    "\n",
    "\n",
    "\n",
    "# x = np.arange(27, 34, 1)\n",
    "# plt.plot(x, x)\n",
    "# plt.title(\"y4\", fontsize = 15)\n",
    "# plt.scatter( four[:,0], four[:, 1], color = 'blue', alpha = .5)\n",
    "# plt.grid()\n",
    "# plt.show()\n",
    "\n",
    "# x = np.arange(72, 82, 1)\n",
    "# plt.plot(x, x)\n",
    "# plt.title(\"y5\", fontsize = 15)\n",
    "# plt.scatter( five[:,0], five[:, 1], color = 'blue', alpha = .5)\n",
    "# plt.grid()\n",
    "# plt.show()\n",
    "# wandb.finish()"
   ]
  },
  {
   "cell_type": "code",
   "execution_count": 30,
   "id": "bfd39a8b",
   "metadata": {},
   "outputs": [
    {
     "data": {
      "text/plain": [
       "[[0.21399403, 0.0617],\n",
       " [0.24683207, 0.0279],\n",
       " [0.22131696, 0.0115],\n",
       " [0.21936426, 0.0376],\n",
       " [0.14700043, 0.008],\n",
       " [0.30774242, 0.0503],\n",
       " [0.23699106, 0.0799],\n",
       " [0.24347395, 0.0213],\n",
       " [0.22626981, 0.0768],\n",
       " [0.28665447, 0.01],\n",
       " [0.17298236, 0.072],\n",
       " [0.031190041, 0.0098],\n",
       " [0.31178555, 0.1616],\n",
       " [0.20811678, 0.0608],\n",
       " [0.22399825, 0.0766],\n",
       " [0.039505273, 0.0802],\n",
       " [0.25263128, 0.0807],\n",
       " [0.2527661, 0.0229],\n",
       " [0.18363532, 0.0536],\n",
       " [0.30296838, 0.067],\n",
       " [0.282708, 0.0419],\n",
       " [0.20949645, 0.0416],\n",
       " [0.17434454, 0.192],\n",
       " [0.23408678, 0.0199],\n",
       " [0.20441367, 0.052]]"
      ]
     },
     "execution_count": 30,
     "metadata": {},
     "output_type": "execute_result"
    }
   ],
   "source": [
    "scat_1"
   ]
  },
  {
   "cell_type": "code",
   "execution_count": null,
   "id": "5337230e",
   "metadata": {},
   "outputs": [],
   "source": []
  }
 ],
 "metadata": {
  "interpreter": {
   "hash": "13f2bdad863240a31d1c3936822b7a5db92e7f5cdbf06e53d9ecc9df679acbc5"
  },
  "kernelspec": {
   "display_name": "Python 3.7.11 64-bit ('sce': conda)",
   "name": "python3"
  },
  "language_info": {
   "codemirror_mode": {
    "name": "ipython",
    "version": 3
   },
   "file_extension": ".py",
   "mimetype": "text/x-python",
   "name": "python",
   "nbconvert_exporter": "python",
   "pygments_lexer": "ipython3",
   "version": "3.7.11"
  }
 },
 "nbformat": 4,
 "nbformat_minor": 5
}
