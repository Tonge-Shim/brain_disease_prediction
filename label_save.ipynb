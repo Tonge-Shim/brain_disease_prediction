{
 "cells": [
  {
   "cell_type": "code",
   "execution_count": 1,
   "id": "9b474df1",
   "metadata": {},
   "outputs": [],
   "source": [
    "import os\n",
    "from glob import glob\n",
    "import numpy as np\n",
    "import nibabel as nib\n",
    "import torch\n",
    "import pandas as pd\n",
    "from torch import nn\n",
    "from torch import optim\n",
    "from torch.utils.data import TensorDataset, DataLoader, Dataset\n",
    "from torch.autograd import Variable\n",
    "from torchvision import transforms\n",
    "import torch.nn as nn\n",
    "from sklearn.metrics import roc_auc_score, average_precision_score\n",
    "import tqdm\n",
    "from operator import add\n",
    "import matplotlib.pyplot as plt\n",
    "import easydict"
   ]
  },
  {
   "cell_type": "code",
   "execution_count": 20,
   "id": "a3edb26b",
   "metadata": {
    "scrolled": true
   },
   "outputs": [
    {
     "data": {
      "text/html": [
       "<div>\n",
       "<style scoped>\n",
       "    .dataframe tbody tr th:only-of-type {\n",
       "        vertical-align: middle;\n",
       "    }\n",
       "\n",
       "    .dataframe tbody tr th {\n",
       "        vertical-align: top;\n",
       "    }\n",
       "\n",
       "    .dataframe thead th {\n",
       "        text-align: right;\n",
       "    }\n",
       "</style>\n",
       "<table border=\"1\" class=\"dataframe\">\n",
       "  <thead>\n",
       "    <tr style=\"text-align: right;\">\n",
       "      <th></th>\n",
       "      <th>FOLDERNAME</th>\n",
       "      <th>Cerebral WM Hypointensities* Total Percent Of Icv</th>\n",
       "      <th>Cortical Gray Matter Total Percent Of Icv</th>\n",
       "      <th>Ventricle Total Percent Of Icv</th>\n",
       "      <th>Cerebral White Matter Total Percent Of Icv</th>\n",
       "      <th>Whole Brain Total Percent Of Icv</th>\n",
       "    </tr>\n",
       "  </thead>\n",
       "  <tbody>\n",
       "    <tr>\n",
       "      <th>0</th>\n",
       "      <td>14090110_20180523_095025_MR</td>\n",
       "      <td>0.0249</td>\n",
       "      <td>30.7874</td>\n",
       "      <td>1.9233</td>\n",
       "      <td>30.4758</td>\n",
       "      <td>75.8345</td>\n",
       "    </tr>\n",
       "    <tr>\n",
       "      <th>1</th>\n",
       "      <td>14152551_20180129_085254_MR</td>\n",
       "      <td>0.1131</td>\n",
       "      <td>31.9052</td>\n",
       "      <td>2.6646</td>\n",
       "      <td>30.7423</td>\n",
       "      <td>77.1605</td>\n",
       "    </tr>\n",
       "    <tr>\n",
       "      <th>2</th>\n",
       "      <td>15168092_20180223_091548_MR</td>\n",
       "      <td>0.1630</td>\n",
       "      <td>30.3495</td>\n",
       "      <td>3.3834</td>\n",
       "      <td>28.8604</td>\n",
       "      <td>71.4136</td>\n",
       "    </tr>\n",
       "    <tr>\n",
       "      <th>3</th>\n",
       "      <td>16657951_20180529_103505_MR</td>\n",
       "      <td>0.0740</td>\n",
       "      <td>30.7348</td>\n",
       "      <td>2.1675</td>\n",
       "      <td>31.3847</td>\n",
       "      <td>75.1116</td>\n",
       "    </tr>\n",
       "    <tr>\n",
       "      <th>4</th>\n",
       "      <td>16965739_20180419_103601_MR</td>\n",
       "      <td>0.0991</td>\n",
       "      <td>30.3336</td>\n",
       "      <td>2.2278</td>\n",
       "      <td>30.6224</td>\n",
       "      <td>75.7314</td>\n",
       "    </tr>\n",
       "    <tr>\n",
       "      <th>...</th>\n",
       "      <td>...</td>\n",
       "      <td>...</td>\n",
       "      <td>...</td>\n",
       "      <td>...</td>\n",
       "      <td>...</td>\n",
       "      <td>...</td>\n",
       "    </tr>\n",
       "    <tr>\n",
       "      <th>716</th>\n",
       "      <td>50037843_20171114_091144_MR</td>\n",
       "      <td>0.0191</td>\n",
       "      <td>31.8404</td>\n",
       "      <td>4.2057</td>\n",
       "      <td>29.7961</td>\n",
       "      <td>74.6269</td>\n",
       "    </tr>\n",
       "    <tr>\n",
       "      <th>717</th>\n",
       "      <td>50055081_20171117_102431_MR</td>\n",
       "      <td>0.0197</td>\n",
       "      <td>32.0220</td>\n",
       "      <td>1.3715</td>\n",
       "      <td>33.6114</td>\n",
       "      <td>79.2204</td>\n",
       "    </tr>\n",
       "    <tr>\n",
       "      <th>718</th>\n",
       "      <td>50121212_20171211_101705_MR</td>\n",
       "      <td>0.0580</td>\n",
       "      <td>32.8894</td>\n",
       "      <td>2.2994</td>\n",
       "      <td>29.1374</td>\n",
       "      <td>75.7103</td>\n",
       "    </tr>\n",
       "    <tr>\n",
       "      <th>719</th>\n",
       "      <td>50137402_20171213_112244_MR</td>\n",
       "      <td>0.1420</td>\n",
       "      <td>30.5600</td>\n",
       "      <td>3.0031</td>\n",
       "      <td>30.8935</td>\n",
       "      <td>74.9438</td>\n",
       "    </tr>\n",
       "    <tr>\n",
       "      <th>720</th>\n",
       "      <td>50166424_20171227_081024_MR</td>\n",
       "      <td>0.0128</td>\n",
       "      <td>32.9095</td>\n",
       "      <td>2.1404</td>\n",
       "      <td>29.7731</td>\n",
       "      <td>76.9283</td>\n",
       "    </tr>\n",
       "  </tbody>\n",
       "</table>\n",
       "<p>721 rows × 6 columns</p>\n",
       "</div>"
      ],
      "text/plain": [
       "                      FOLDERNAME  \\\n",
       "0    14090110_20180523_095025_MR   \n",
       "1    14152551_20180129_085254_MR   \n",
       "2    15168092_20180223_091548_MR   \n",
       "3    16657951_20180529_103505_MR   \n",
       "4    16965739_20180419_103601_MR   \n",
       "..                           ...   \n",
       "716  50037843_20171114_091144_MR   \n",
       "717  50055081_20171117_102431_MR   \n",
       "718  50121212_20171211_101705_MR   \n",
       "719  50137402_20171213_112244_MR   \n",
       "720  50166424_20171227_081024_MR   \n",
       "\n",
       "     Cerebral WM Hypointensities* Total Percent Of Icv  \\\n",
       "0                                               0.0249   \n",
       "1                                               0.1131   \n",
       "2                                               0.1630   \n",
       "3                                               0.0740   \n",
       "4                                               0.0991   \n",
       "..                                                 ...   \n",
       "716                                             0.0191   \n",
       "717                                             0.0197   \n",
       "718                                             0.0580   \n",
       "719                                             0.1420   \n",
       "720                                             0.0128   \n",
       "\n",
       "     Cortical Gray Matter Total Percent Of Icv  \\\n",
       "0                                      30.7874   \n",
       "1                                      31.9052   \n",
       "2                                      30.3495   \n",
       "3                                      30.7348   \n",
       "4                                      30.3336   \n",
       "..                                         ...   \n",
       "716                                    31.8404   \n",
       "717                                    32.0220   \n",
       "718                                    32.8894   \n",
       "719                                    30.5600   \n",
       "720                                    32.9095   \n",
       "\n",
       "     Ventricle Total Percent Of Icv  \\\n",
       "0                            1.9233   \n",
       "1                            2.6646   \n",
       "2                            3.3834   \n",
       "3                            2.1675   \n",
       "4                            2.2278   \n",
       "..                              ...   \n",
       "716                          4.2057   \n",
       "717                          1.3715   \n",
       "718                          2.2994   \n",
       "719                          3.0031   \n",
       "720                          2.1404   \n",
       "\n",
       "     Cerebral White Matter Total Percent Of Icv  \\\n",
       "0                                       30.4758   \n",
       "1                                       30.7423   \n",
       "2                                       28.8604   \n",
       "3                                       31.3847   \n",
       "4                                       30.6224   \n",
       "..                                          ...   \n",
       "716                                     29.7961   \n",
       "717                                     33.6114   \n",
       "718                                     29.1374   \n",
       "719                                     30.8935   \n",
       "720                                     29.7731   \n",
       "\n",
       "     Whole Brain Total Percent Of Icv  \n",
       "0                             75.8345  \n",
       "1                             77.1605  \n",
       "2                             71.4136  \n",
       "3                             75.1116  \n",
       "4                             75.7314  \n",
       "..                                ...  \n",
       "716                           74.6269  \n",
       "717                           79.2204  \n",
       "718                           75.7103  \n",
       "719                           74.9438  \n",
       "720                           76.9283  \n",
       "\n",
       "[721 rows x 6 columns]"
      ]
     },
     "execution_count": 20,
     "metadata": {},
     "output_type": "execute_result"
    }
   ],
   "source": [
    "label_data = pd.read_csv('/home/chaeeun/Desktop/brain disease prediction/fileIO/current_label.csv') \n",
    "label_data"
   ]
  },
  {
   "cell_type": "code",
   "execution_count": 21,
   "id": "aa94222d",
   "metadata": {},
   "outputs": [],
   "source": [
    "label_data.drop('FOLDERNAME',axis='columns', inplace=True)"
   ]
  },
  {
   "cell_type": "code",
   "execution_count": 22,
   "id": "2468a0c0",
   "metadata": {
    "scrolled": true
   },
   "outputs": [
    {
     "data": {
      "text/plain": [
       "(721, 5)"
      ]
     },
     "execution_count": 22,
     "metadata": {},
     "output_type": "execute_result"
    }
   ],
   "source": [
    "label_data.shape"
   ]
  },
  {
   "cell_type": "code",
   "execution_count": null,
   "id": "36600ae2",
   "metadata": {},
   "outputs": [
    {
     "data": {
      "text/plain": [
       "(array([2.49000e-02, 3.07874e+01, 1.92330e+00, 3.04758e+01, 7.58345e+01]),\n",
       " array([2.49000e-02, 3.07874e+01, 1.92330e+00, 3.04758e+01, 7.58345e+01]))"
      ]
     },
     "execution_count": 16,
     "metadata": {},
     "output_type": "execute_result"
    }
   ],
   "source": [
    "unnorm_label = label_data.to_numpy(copy = True)\n",
    "label = label_data.to_numpy(copy = False)\n",
    "type(label)\n",
    "unnorm_label[0], label[0]"
   ]
  },
  {
   "cell_type": "code",
   "execution_count": null,
   "id": "cb0a003e",
   "metadata": {},
   "outputs": [],
   "source": [
    "def normalize(label):\n",
    "    for i in range(5):\n",
    "        y = label[:, i]\n",
    "        label[:, i] = (y - y.mean())/y.std()"
   ]
  },
  {
   "cell_type": "code",
   "execution_count": null,
   "id": "a7da0155",
   "metadata": {},
   "outputs": [],
   "source": [
    "normalize(label)"
   ]
  },
  {
   "cell_type": "code",
   "execution_count": null,
   "id": "b0fabb68",
   "metadata": {},
   "outputs": [
    {
     "data": {
      "text/plain": [
       "(array([-0.43159864, -0.87598003, -0.36621553,  0.02377017, -0.32168956]),\n",
       " array([2.49000e-02, 3.07874e+01, 1.92330e+00, 3.04758e+01, 7.58345e+01]))"
      ]
     },
     "execution_count": 11,
     "metadata": {},
     "output_type": "execute_result"
    }
   ],
   "source": [
    "label[0], unnorm_label[0]"
   ]
  },
  {
   "cell_type": "code",
   "execution_count": null,
   "id": "a933a285",
   "metadata": {},
   "outputs": [
    {
     "name": "stdout",
     "output_type": "stream",
     "text": [
      "/home/chaeeun/Desktop/brain disease prediction\r\n"
     ]
    }
   ],
   "source": [
    "!pwd"
   ]
  },
  {
   "cell_type": "code",
   "execution_count": null,
   "id": "7081a4d1",
   "metadata": {},
   "outputs": [],
   "source": [
    "np.save( './labels/721_normed_label', label,allow_pickle=True, fix_imports=True)\n",
    "np.save('./labels/721_unnormed_label', unnorm_label, allow_pickle=True, fix_imports=True)"
   ]
  },
  {
   "cell_type": "code",
   "execution_count": 23,
   "id": "ec419d92",
   "metadata": {},
   "outputs": [],
   "source": [
    "label_1 = label_data['Cerebral WM Hypointensities* Total Percent Of Icv']\n",
    "label_2 = label_data['Cortical Gray Matter Total Percent Of Icv']\n",
    "label_1 = label_1.values.reshape(-1,1)\n",
    "label_2 = label_2.values.reshape(-1,1)\n",
    "np.save('./labels/label_1', label_1, allow_pickle = True, fix_imports = True)\n",
    "np.save('./labels/label_2', label_2, allow_pickle = True, fix_imports = True)"
   ]
  },
  {
   "cell_type": "code",
   "execution_count": null,
   "id": "f43acd33",
   "metadata": {},
   "outputs": [],
   "source": []
  }
 ],
 "metadata": {
  "interpreter": {
   "hash": "13f2bdad863240a31d1c3936822b7a5db92e7f5cdbf06e53d9ecc9df679acbc5"
  },
  "kernelspec": {
   "display_name": "Python 3",
   "language": "python",
   "name": "python3"
  },
  "language_info": {
   "codemirror_mode": {
    "name": "ipython",
    "version": 3
   },
   "file_extension": ".py",
   "mimetype": "text/x-python",
   "name": "python",
   "nbconvert_exporter": "python",
   "pygments_lexer": "ipython3",
   "version": "3.7.11"
  }
 },
 "nbformat": 4,
 "nbformat_minor": 5
}
