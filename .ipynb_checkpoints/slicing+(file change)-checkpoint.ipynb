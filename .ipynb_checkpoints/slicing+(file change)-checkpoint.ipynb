{
 "cells": [
  {
   "cell_type": "code",
   "execution_count": 1,
   "metadata": {},
   "outputs": [],
   "source": [
    "import os\n",
    "from glob import glob\n",
    "import numpy as np\n",
    "import nibabel as nib\n",
    "import nibabel.processing\n",
    "import torch\n",
    "import pandas as pd\n",
    "from torch import nn\n",
    "from torch import optim\n",
    "from torch.utils.data import TensorDataset, DataLoader, Dataset\n",
    "from torch.autograd import Variable\n",
    "from torchvision import transforms\n",
    "import torch.nn as nn\n",
    "from sklearn.metrics import roc_auc_score, average_precision_score\n",
    "from tqdm import tqdm\n",
    "from operator import add\n",
    "import matplotlib.pyplot as plt\n",
    "import easydict\n",
    "import dicom2nifti\n",
    "import dicom2nifti.settings as settings\n",
    "from scipy.ndimage import zoom\n",
    "settings.disable_validate_slice_increment()\n"
   ]
  },
  {
   "cell_type": "markdown",
   "metadata": {},
   "source": [
    "# mra--> nii file 변환작업"
   ]
  },
  {
   "cell_type": "code",
   "execution_count": 11,
   "metadata": {},
   "outputs": [],
   "source": [
    "# dcm_path = '/home/chaeeun/MRI100_NECKTOFMRA/*'\n",
    "# nii_path = '/home/chaeeun/Desktop/brain disease prediction/fileIO/data_niis'"
   ]
  },
  {
   "cell_type": "code",
   "execution_count": 12,
   "metadata": {},
   "outputs": [],
   "source": [
    "# dcm_list_path = '/home/chaeeun/Necktofmra'\n",
    "# dcm_list =  os.listdir(dcm_list_path)\n",
    "# dcm_list.sort()"
   ]
  },
  {
   "cell_type": "code",
   "execution_count": null,
   "metadata": {},
   "outputs": [],
   "source": [
    "# #dcm --> nii code\n",
    "# #for i, patient in enumerate(glob(dcm_path)):nonononononono please don't use this line\n",
    "# for f in tqdm(dcm_list):\n",
    "#     dicom2nifti.dicom_series_to_nifti(dcm_list_path +'/'+ f, os.path.join(nii_path, f + '.nii.gz'))#nii_path에 파일 추가\n",
    "#     print(f + 'done')#well done check"
   ]
  },
  {
   "cell_type": "markdown",
   "metadata": {},
   "source": [
    "## 끝"
   ]
  },
  {
   "cell_type": "markdown",
   "metadata": {},
   "source": [
    "# paths"
   ]
  },
  {
   "cell_type": "code",
   "execution_count": 4,
   "metadata": {},
   "outputs": [],
   "source": [
    "nii_path = '/home/chaeeun/Desktop/brain disease prediction/fileIO/data_niis/'\n",
    "files = os.listdir(nii_path)\n",
    "files.sort()\n",
    "files = files[1:]#ipynb_checkpoints file name remove...\n",
    "len(files), files[0]\n",
    "origin_path = '/home/chaeeun/Desktop/brain disease prediction/fileIO/data_niis/'\n",
    "new_path = '/home/chaeeun/Desktop/brain disease prediction/fileIO/data_nii_232/'\n"
   ]
  },
  {
   "cell_type": "markdown",
   "metadata": {},
   "source": [
    "# resize (192, 252, 272 -> 232, z축)"
   ]
  },
  {
   "cell_type": "code",
   "execution_count": 16,
   "metadata": {},
   "outputs": [],
   "source": [
    "def cut_to_232(files, origin_path, new_path):\n",
    "    for f in tqdm(files):\n",
    "        path = os.path.join(origin_path, f)\n",
    "        img = nib.load(path)\n",
    "        if img.shape[2] == 192:\n",
    "            affine = img.affine\n",
    "            img = img.get_fdata()\n",
    "            zoom_img = zoom(img, (1, 1, 232/192))\n",
    "            new_img = nib.Nifti1Image(zoom_img, affine = affine)\n",
    "            nib.save(new_img, os.path.join(new_path, f))\n",
    "        elif img.shape[2] == 232:\n",
    "            nib.save(img, os.path.join(new_path, f))\n",
    "            \n",
    "        elif img.shape[2] == 233:\n",
    "            sliced_img = img.slicer[:, :, 1:]\n",
    "            nib.save(sliced_img, os.path.join(new_path, f))\n",
    "            \n",
    "        elif img.shape[2] == 252:\n",
    "            sliced_img = img.slicer[:, :, 20:]\n",
    "            nib.save(sliced_img, os.path.join(new_path, f))\n",
    "            \n",
    "        elif img.shape[2] == 272:\n",
    "            sliced_img = img.slicer[:, :, 40:]\n",
    "            nib.save(sliced_img, os.path.join(new_path, f))\n",
    "\n"
   ]
  },
  {
   "cell_type": "code",
   "execution_count": null,
   "metadata": {},
   "outputs": [
    {
     "name": "stderr",
     "output_type": "stream",
     "text": [
      " 22%|██▏       | 159/721 [07:23<23:32,  2.51s/it]"
     ]
    }
   ],
   "source": [
    "# cut_to_232(files, origin_path, new_path)"
   ]
  },
  {
   "cell_type": "markdown",
   "metadata": {},
   "source": [
    "### _resize done_"
   ]
  },
  {
   "cell_type": "code",
   "execution_count": 5,
   "metadata": {},
   "outputs": [
    {
     "name": "stdout",
     "output_type": "stream",
     "text": [
      "{232}\n"
     ]
    }
   ],
   "source": [
    "#checking there is only 232\n",
    "s  = set()\n",
    "for i in files:\n",
    "    path = os.path.join(new_path, i)\n",
    "    img = nib.load(path)\n",
    "    s.add(img.shape[2])\n",
    "print(s)\n"
   ]
  },
  {
   "cell_type": "markdown",
   "metadata": {},
   "source": [
    "# slicing"
   ]
  },
  {
   "cell_type": "code",
   "execution_count": 13,
   "metadata": {},
   "outputs": [],
   "source": [
    "def slice_data(files, new_path, sizelist):\n",
    "    data = []\n",
    "    for f in tqdm(files):\n",
    "        path = os.path.join(new_path, f)\n",
    "        img = nib.load(path)\n",
    "        sliced_img = img.slicer[sizelist[0]:sizelist[1], sizelist[2]:sizelist[3], sizelist[4]:sizelist[5]]\n",
    "        img = sliced_img.get_fdata()\n",
    "        img = np.asarray(np.float32(img))\n",
    "        img = img.reshape(1, sizelist[1]-sizelist[0], sizelist[3]-sizelist[2], sizelist[5]-sizelist[4])\n",
    "        data.append(img)\n",
    "    data = np.array(data, dtype = 'float32')\n",
    "    return data"
   ]
  },
  {
   "cell_type": "code",
   "execution_count": 14,
   "metadata": {},
   "outputs": [],
   "source": [
    "#참고\n",
    "# np.save('./sliced_datas/sliced_435', data, allow_pickle=True, fix_imports=True)\n",
    "# 0 : [190:330, 220:350, 70:220], 140 130 150\n",
    "# np.save('./sliced_datas/sliced_757', data, allow_pickle=True, fix_imports=True)\n",
    "# 1 : [180:350, 200:350, 60:232] 170 150 172메모리 아웃\n",
    "# np.save('./sliced_datas/sliced_436', data, allow_pickle=True, fix_imports=True)\n",
    "# 2 : [190:330, 220:350, 70:232] 140 130 162\n",
    "# np.save('./sliced_datas/sliced_746', data, allow_pickle=True, fix_imports=True)\n",
    "# 3 : [170:340, 180:320, 70:232] 170 140 162\n",
    "# np.save('./sliced_datas/sliced_747', data, allow_pickle=True, fix_imports=True)\n",
    "# 4 : [170:340, 180:320, 60:232] 170 140 172\n",
    "\n",
    "\n"
   ]
  },
  {
   "cell_type": "code",
   "execution_count": 15,
   "metadata": {},
   "outputs": [
    {
     "name": "stderr",
     "output_type": "stream",
     "text": [
      "100%|██████████| 721/721 [11:27<00:00,  1.05it/s]\n"
     ]
    },
    {
     "name": "stdout",
     "output_type": "stream",
     "text": [
      "(721, 1, 140, 130, 150)\n"
     ]
    },
    {
     "name": "stderr",
     "output_type": "stream",
     "text": [
      "100%|██████████| 721/721 [12:19<00:00,  1.03s/it]\n"
     ]
    },
    {
     "name": "stdout",
     "output_type": "stream",
     "text": [
      "(721, 1, 170, 140, 162)\n"
     ]
    },
    {
     "name": "stderr",
     "output_type": "stream",
     "text": [
      "100%|██████████| 721/721 [12:40<00:00,  1.06s/it]\n"
     ]
    },
    {
     "name": "stdout",
     "output_type": "stream",
     "text": [
      "(721, 1, 170, 140, 172)\n"
     ]
    }
   ],
   "source": [
    "data0 = slice_data(files, new_path, [190, 330, 220, 350, 70, 220])\n",
    "print(data0.shape)\n",
    "np.save('./sliced_datas/sliced_435', data0, allow_pickle=True, fix_imports=True)\n",
    "data3 = slice_data(files, new_path, [170, 340, 180, 320, 70, 232])\n",
    "print(data3.shape)\n",
    "np.save('./sliced_datas/sliced_746', data3, allow_pickle=True, fix_imports=True)\n",
    "data4 = slice_data(files, new_path, [170, 340, 180, 320, 60, 232])\n",
    "print(data4.shape)\n",
    "np.save('./sliced_datas/sliced_747', data4, allow_pickle=True, fix_imports=True)\n",
    "\n",
    "\n",
    "\n"
   ]
  },
  {
   "cell_type": "code",
   "execution_count": null,
   "metadata": {},
   "outputs": [],
   "source": []
  }
 ],
 "metadata": {
  "interpreter": {
   "hash": "9bb3e46167f5c400af3e59bea929666d662dd7e99f9046bb04b64be6ff24130e"
  },
  "kernelspec": {
   "display_name": "Python 3.7.11 64-bit ('sce': conda)",
   "language": "python",
   "name": "python3711jvsc74a57bd09bb3e46167f5c400af3e59bea929666d662dd7e99f9046bb04b64be6ff24130e"
  },
  "language_info": {
   "codemirror_mode": {
    "name": "ipython",
    "version": 3
   },
   "file_extension": ".py",
   "mimetype": "text/x-python",
   "name": "python",
   "nbconvert_exporter": "python",
   "pygments_lexer": "ipython3",
   "version": "3.7.11"
  }
 },
 "nbformat": 4,
 "nbformat_minor": 2
}
