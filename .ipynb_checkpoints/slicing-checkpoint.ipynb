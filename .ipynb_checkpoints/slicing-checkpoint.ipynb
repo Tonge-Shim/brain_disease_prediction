{
 "cells": [
  {
   "cell_type": "code",
   "execution_count": 2,
   "metadata": {},
   "outputs": [],
   "source": [
    "import os\n",
    "from glob import glob\n",
    "import numpy as np\n",
    "import nibabel as nib\n",
    "import torch\n",
    "import pandas as pd\n",
    "from torch import nn\n",
    "from torch import optim\n",
    "from torch.utils.data import TensorDataset, DataLoader, Dataset\n",
    "from torch.autograd import Variable\n",
    "from torchvision import transforms\n",
    "import torch.nn as nn\n",
    "from sklearn.metrics import roc_auc_score, average_precision_score\n",
    "import tqdm\n",
    "from operator import add\n",
    "import matplotlib.pyplot as plt\n",
    "import easydict\n",
    "import dicom2nifti"
   ]
  },
  {
   "cell_type": "code",
   "execution_count": null,
   "metadata": {},
   "outputs": [],
   "source": []
  },
  {
   "cell_type": "code",
   "execution_count": 3,
   "metadata": {},
   "outputs": [
    {
     "data": {
      "text/plain": [
       "(100, '14090110_20180523_095025_MR.nii.gz')"
      ]
     },
     "execution_count": 3,
     "metadata": {},
     "output_type": "execute_result"
    }
   ],
   "source": [
    "nii_path = '/home/chaeeun/Desktop/brain disease prediction/fileIO/MRI100_NECKTOFMRA_niis/'\n",
    "files = os.listdir(nii_path)\n",
    "files.sort()\n",
    "files = files[1:]#ipynb_checkpoints file name remove...\n",
    "len(files), files[0]"
   ]
  },
  {
   "cell_type": "code",
   "execution_count": 4,
   "metadata": {},
   "outputs": [],
   "source": [
    "data = []\n",
    "for f in files:\n",
    "    path = os.path.join(nii_path, f)\n",
    "    img = nib.load(path)\n",
    "    sliced_img = img.slicer[170:340, 180:320, 70:232]\n",
    "    img = sliced_img.get_fdata()\n",
    "    img = np.asarray(np.float32(img))\n",
    "    img = img.reshape(1, 170, 140, 162)\n",
    "    data.append(img)"
   ]
  },
  {
   "cell_type": "code",
   "execution_count": 5,
   "metadata": {},
   "outputs": [],
   "source": [
    "# np.save('./sliced_datas/sliced_0', data, allow_pickle=True, fix_imports=True)\n",
    "# 0 : [190:330, 220:350, 70:220]\n",
    "# np.save('./sliced_datas/sliced_1', data, allow_pickle=True, fix_imports=True)\n",
    "# 1 : [180:350, 200:350, 60:232] 메모리 아웃\n",
    "# np.save('./sliced_datas/sliced_2', data, allow_pickle=True, fix_imports=True)\n",
    "# 0 : [190:330, 220:350, 70:232]\n",
    "np.save('./sliced_datas/sliced_3', data, allow_pickle=True, fix_imports=True)\n",
    "# 0 : [170:340, 180:320, 70:232]\n",
    "\n",
    "\n"
   ]
  },
  {
   "cell_type": "code",
   "execution_count": null,
   "metadata": {},
   "outputs": [],
   "source": []
  }
 ],
 "metadata": {
  "kernelspec": {
   "display_name": "Python 3",
   "language": "python",
   "name": "python3"
  },
  "language_info": {
   "codemirror_mode": {
    "name": "ipython",
    "version": 3
   },
   "file_extension": ".py",
   "mimetype": "text/x-python",
   "name": "python",
   "nbconvert_exporter": "python",
   "pygments_lexer": "ipython3",
   "version": "3.7.11"
  }
 },
 "nbformat": 4,
 "nbformat_minor": 2
}
