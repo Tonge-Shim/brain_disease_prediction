{
 "cells": [
  {
   "cell_type": "markdown",
   "id": "93ebe58c",
   "metadata": {},
   "source": []
  },
  {
   "cell_type": "markdown",
   "id": "8733834e",
   "metadata": {},
   "source": [
    "\n",
    "- densenet/resnet-inception/inceptionv4 apply\n",
    "-  resnet/inceptions: with smaller parameters\n",
    "\n"
   ]
  },
  {
   "cell_type": "code",
   "execution_count": 1,
   "id": "85e96fc8",
   "metadata": {},
   "outputs": [],
   "source": [
    "import os\n",
    "from glob import glob\n",
    "import numpy as np\n",
    "import nibabel as nib\n",
    "import torch\n",
    "import pandas as pd\n",
    "from torch import nn\n",
    "from torch import optim\n",
    "from torch.utils.data import TensorDataset, DataLoader, Dataset\n",
    "from torch.autograd import Variable\n",
    "from torchvision import transforms\n",
    "import torch.nn as nn\n",
    "from sklearn.metrics import roc_auc_score, average_precision_score\n",
    "import tqdm\n",
    "from operator import add\n",
    "import matplotlib.pyplot as plt\n",
    "import easydict"
   ]
  },
  {
   "cell_type": "code",
   "execution_count": 2,
   "id": "cf899f09",
   "metadata": {},
   "outputs": [],
   "source": [
    "def unnorm_norm(ans):\n",
    "    if ans == 'unnorm':\n",
    "        label = np.load('./labels/721_unnormed_label.npy')\n",
    "    else:\n",
    "        label = np.load('./labels/721_normed_label.npy')\n",
    "    return label"
   ]
  },
  {
   "cell_type": "code",
   "execution_count": 3,
   "id": "2d1b02ae",
   "metadata": {},
   "outputs": [
    {
     "name": "stdout",
     "output_type": "stream",
     "text": [
      "\u001b[34m\u001b[1mwandb\u001b[0m: Currently logged in as: \u001b[33mtonge\u001b[0m (use `wandb login --relogin` to force relogin)\r\n"
     ]
    }
   ],
   "source": [
    "import wandb\n",
    "\n",
    "!wandb login"
   ]
  },
  {
   "cell_type": "code",
   "execution_count": 4,
   "id": "e2d295c7",
   "metadata": {},
   "outputs": [
    {
     "name": "stdout",
     "output_type": "stream",
     "text": [
      "/home/chaeeun/Desktop/brain disease prediction\r\n"
     ]
    }
   ],
   "source": [
    "# os.getcwd()\n",
    "!pwd"
   ]
  },
  {
   "cell_type": "code",
   "execution_count": 5,
   "id": "0c84fb5e",
   "metadata": {},
   "outputs": [],
   "source": [
    "data = np.load('./sliced_datas/sliced_746.npy')\n",
    "# 747: 메모리 에러"
   ]
  },
  {
   "cell_type": "code",
   "execution_count": 6,
   "id": "a285a97a",
   "metadata": {},
   "outputs": [],
   "source": [
    "unnorm_label = unnorm_norm('unnorm')\n",
    "norm_label = unnorm_norm('norm')"
   ]
  },
  {
   "cell_type": "code",
   "execution_count": 7,
   "id": "a3beb26f",
   "metadata": {},
   "outputs": [
    {
     "data": {
      "text/plain": [
       "(numpy.ndarray, numpy.ndarray)"
      ]
     },
     "execution_count": 7,
     "metadata": {},
     "output_type": "execute_result"
    }
   ],
   "source": [
    "type(unnorm_label[0]), type(norm_label[0])"
   ]
  },
  {
   "cell_type": "code",
   "execution_count": 8,
   "id": "37c64322",
   "metadata": {},
   "outputs": [
    {
     "data": {
      "text/plain": [
       "721"
      ]
     },
     "execution_count": 8,
     "metadata": {},
     "output_type": "execute_result"
    }
   ],
   "source": [
    "norm_label = np.array(norm_label, dtype = 'float32')\n",
    "unnorm_label = np.array(unnorm_label, dtype = 'float32')\n",
    "len(norm_label)\n",
    "len(unnorm_label)"
   ]
  },
  {
   "cell_type": "code",
   "execution_count": 9,
   "id": "d074b1f4",
   "metadata": {},
   "outputs": [],
   "source": [
    "X_train = data[:621]\n",
    "X_test = data[621:]\n",
    "y_train = norm_label[:621]\n",
    "y_test = norm_label[621:]"
   ]
  },
  {
   "cell_type": "code",
   "execution_count": 10,
   "id": "3d1788b2",
   "metadata": {},
   "outputs": [],
   "source": [
    "datadict = {\n",
    "    'X_train': X_train, \n",
    "    'y_train' : y_train,\n",
    "    'X_test': X_test,\n",
    "    'y_test': y_test\n",
    "}"
   ]
  },
  {
   "cell_type": "code",
   "execution_count": 11,
   "id": "c08c06e4",
   "metadata": {},
   "outputs": [],
   "source": [
    "device = torch.device('cuda:0' if torch.cuda.is_available() else 'cpu')"
   ]
  },
  {
   "cell_type": "code",
   "execution_count": 12,
   "id": "3ea9fb34",
   "metadata": {},
   "outputs": [],
   "source": [
    "class mridataset(Dataset):\n",
    "    def __init__(self, data, data_type):\n",
    "        if data_type == 'train':\n",
    "            self.X = data['X_train']\n",
    "            self.y = data['y_train']\n",
    "        elif data_type == 'test':\n",
    "            self.X = data['X_test']\n",
    "            self.y = data['y_test']\n",
    "            \n",
    "        assert len(self.X) == len(self.y), \"length should be same between input and label\"\n",
    "        \n",
    "        self.X = torch.FloatTensor(self.X)#cpu tensor\n",
    "        self.y = torch.FloatTensor(self.y)#cpu tensor\n",
    "    \n",
    "    def __len__(self):\n",
    "        return len(self.y)\n",
    "    \n",
    "    def __getitem__(self, index):\n",
    "        X = self.X[index]\n",
    "        y = self.y[index]\n",
    "        return {\n",
    "            'X': X,\n",
    "            'y_target': y\n",
    "        }"
   ]
  },
  {
   "cell_type": "markdown",
   "id": "84a5914d",
   "metadata": {},
   "source": [
    "# MODELS"
   ]
  },
  {
   "cell_type": "code",
   "execution_count": null,
   "id": "9e33cc2a",
   "metadata": {},
   "outputs": [],
   "source": []
  },
  {
   "cell_type": "code",
   "execution_count": null,
   "id": "b468b49f",
   "metadata": {},
   "outputs": [],
   "source": []
  },
  {
   "cell_type": "code",
   "execution_count": 22,
   "id": "1bb4add6",
   "metadata": {},
   "outputs": [
    {
     "name": "stdout",
     "output_type": "stream",
     "text": [
      "VideoResNet(\n",
      "  (stem): BasicStem(\n",
      "    (0): Conv3d(3, 64, kernel_size=(3, 7, 7), stride=(1, 2, 2), padding=(1, 3, 3), bias=False)\n",
      "    (1): BatchNorm3d(64, eps=1e-05, momentum=0.1, affine=True, track_running_stats=True)\n",
      "    (2): ReLU(inplace=True)\n",
      "  )\n",
      "  (layer1): Sequential(\n",
      "    (0): BasicBlock(\n",
      "      (conv1): Sequential(\n",
      "        (0): Conv3DSimple(64, 64, kernel_size=(3, 3, 3), stride=(1, 1, 1), padding=(1, 1, 1), bias=False)\n",
      "        (1): BatchNorm3d(64, eps=1e-05, momentum=0.1, affine=True, track_running_stats=True)\n",
      "        (2): ReLU(inplace=True)\n",
      "      )\n",
      "      (conv2): Sequential(\n",
      "        (0): Conv3DSimple(64, 64, kernel_size=(3, 3, 3), stride=(1, 1, 1), padding=(1, 1, 1), bias=False)\n",
      "        (1): BatchNorm3d(64, eps=1e-05, momentum=0.1, affine=True, track_running_stats=True)\n",
      "      )\n",
      "      (relu): ReLU(inplace=True)\n",
      "    )\n",
      "    (1): BasicBlock(\n",
      "      (conv1): Sequential(\n",
      "        (0): Conv3DSimple(64, 64, kernel_size=(3, 3, 3), stride=(1, 1, 1), padding=(1, 1, 1), bias=False)\n",
      "        (1): BatchNorm3d(64, eps=1e-05, momentum=0.1, affine=True, track_running_stats=True)\n",
      "        (2): ReLU(inplace=True)\n",
      "      )\n",
      "      (conv2): Sequential(\n",
      "        (0): Conv3DSimple(64, 64, kernel_size=(3, 3, 3), stride=(1, 1, 1), padding=(1, 1, 1), bias=False)\n",
      "        (1): BatchNorm3d(64, eps=1e-05, momentum=0.1, affine=True, track_running_stats=True)\n",
      "      )\n",
      "      (relu): ReLU(inplace=True)\n",
      "    )\n",
      "  )\n",
      "  (layer2): Sequential(\n",
      "    (0): BasicBlock(\n",
      "      (conv1): Sequential(\n",
      "        (0): Conv3DSimple(64, 128, kernel_size=(3, 3, 3), stride=(2, 2, 2), padding=(1, 1, 1), bias=False)\n",
      "        (1): BatchNorm3d(128, eps=1e-05, momentum=0.1, affine=True, track_running_stats=True)\n",
      "        (2): ReLU(inplace=True)\n",
      "      )\n",
      "      (conv2): Sequential(\n",
      "        (0): Conv3DSimple(128, 128, kernel_size=(3, 3, 3), stride=(1, 1, 1), padding=(1, 1, 1), bias=False)\n",
      "        (1): BatchNorm3d(128, eps=1e-05, momentum=0.1, affine=True, track_running_stats=True)\n",
      "      )\n",
      "      (relu): ReLU(inplace=True)\n",
      "      (downsample): Sequential(\n",
      "        (0): Conv3d(64, 128, kernel_size=(1, 1, 1), stride=(2, 2, 2), bias=False)\n",
      "        (1): BatchNorm3d(128, eps=1e-05, momentum=0.1, affine=True, track_running_stats=True)\n",
      "      )\n",
      "    )\n",
      "    (1): BasicBlock(\n",
      "      (conv1): Sequential(\n",
      "        (0): Conv3DSimple(128, 128, kernel_size=(3, 3, 3), stride=(1, 1, 1), padding=(1, 1, 1), bias=False)\n",
      "        (1): BatchNorm3d(128, eps=1e-05, momentum=0.1, affine=True, track_running_stats=True)\n",
      "        (2): ReLU(inplace=True)\n",
      "      )\n",
      "      (conv2): Sequential(\n",
      "        (0): Conv3DSimple(128, 128, kernel_size=(3, 3, 3), stride=(1, 1, 1), padding=(1, 1, 1), bias=False)\n",
      "        (1): BatchNorm3d(128, eps=1e-05, momentum=0.1, affine=True, track_running_stats=True)\n",
      "      )\n",
      "      (relu): ReLU(inplace=True)\n",
      "    )\n",
      "  )\n",
      "  (layer3): Sequential(\n",
      "    (0): BasicBlock(\n",
      "      (conv1): Sequential(\n",
      "        (0): Conv3DSimple(128, 256, kernel_size=(3, 3, 3), stride=(2, 2, 2), padding=(1, 1, 1), bias=False)\n",
      "        (1): BatchNorm3d(256, eps=1e-05, momentum=0.1, affine=True, track_running_stats=True)\n",
      "        (2): ReLU(inplace=True)\n",
      "      )\n",
      "      (conv2): Sequential(\n",
      "        (0): Conv3DSimple(256, 256, kernel_size=(3, 3, 3), stride=(1, 1, 1), padding=(1, 1, 1), bias=False)\n",
      "        (1): BatchNorm3d(256, eps=1e-05, momentum=0.1, affine=True, track_running_stats=True)\n",
      "      )\n",
      "      (relu): ReLU(inplace=True)\n",
      "      (downsample): Sequential(\n",
      "        (0): Conv3d(128, 256, kernel_size=(1, 1, 1), stride=(2, 2, 2), bias=False)\n",
      "        (1): BatchNorm3d(256, eps=1e-05, momentum=0.1, affine=True, track_running_stats=True)\n",
      "      )\n",
      "    )\n",
      "    (1): BasicBlock(\n",
      "      (conv1): Sequential(\n",
      "        (0): Conv3DSimple(256, 256, kernel_size=(3, 3, 3), stride=(1, 1, 1), padding=(1, 1, 1), bias=False)\n",
      "        (1): BatchNorm3d(256, eps=1e-05, momentum=0.1, affine=True, track_running_stats=True)\n",
      "        (2): ReLU(inplace=True)\n",
      "      )\n",
      "      (conv2): Sequential(\n",
      "        (0): Conv3DSimple(256, 256, kernel_size=(3, 3, 3), stride=(1, 1, 1), padding=(1, 1, 1), bias=False)\n",
      "        (1): BatchNorm3d(256, eps=1e-05, momentum=0.1, affine=True, track_running_stats=True)\n",
      "      )\n",
      "      (relu): ReLU(inplace=True)\n",
      "    )\n",
      "  )\n",
      "  (layer4): Sequential(\n",
      "    (0): BasicBlock(\n",
      "      (conv1): Sequential(\n",
      "        (0): Conv3DSimple(256, 512, kernel_size=(3, 3, 3), stride=(2, 2, 2), padding=(1, 1, 1), bias=False)\n",
      "        (1): BatchNorm3d(512, eps=1e-05, momentum=0.1, affine=True, track_running_stats=True)\n",
      "        (2): ReLU(inplace=True)\n",
      "      )\n",
      "      (conv2): Sequential(\n",
      "        (0): Conv3DSimple(512, 512, kernel_size=(3, 3, 3), stride=(1, 1, 1), padding=(1, 1, 1), bias=False)\n",
      "        (1): BatchNorm3d(512, eps=1e-05, momentum=0.1, affine=True, track_running_stats=True)\n",
      "      )\n",
      "      (relu): ReLU(inplace=True)\n",
      "      (downsample): Sequential(\n",
      "        (0): Conv3d(256, 512, kernel_size=(1, 1, 1), stride=(2, 2, 2), bias=False)\n",
      "        (1): BatchNorm3d(512, eps=1e-05, momentum=0.1, affine=True, track_running_stats=True)\n",
      "      )\n",
      "    )\n",
      "    (1): BasicBlock(\n",
      "      (conv1): Sequential(\n",
      "        (0): Conv3DSimple(512, 512, kernel_size=(3, 3, 3), stride=(1, 1, 1), padding=(1, 1, 1), bias=False)\n",
      "        (1): BatchNorm3d(512, eps=1e-05, momentum=0.1, affine=True, track_running_stats=True)\n",
      "        (2): ReLU(inplace=True)\n",
      "      )\n",
      "      (conv2): Sequential(\n",
      "        (0): Conv3DSimple(512, 512, kernel_size=(3, 3, 3), stride=(1, 1, 1), padding=(1, 1, 1), bias=False)\n",
      "        (1): BatchNorm3d(512, eps=1e-05, momentum=0.1, affine=True, track_running_stats=True)\n",
      "      )\n",
      "      (relu): ReLU(inplace=True)\n",
      "    )\n",
      "  )\n",
      "  (avgpool): AdaptiveAvgPool3d(output_size=(1, 1, 1))\n",
      "  (fc): Linear(in_features=512, out_features=400, bias=True)\n",
      ")\n"
     ]
    }
   ],
   "source": [
    "import torchvision.models as models\n",
    "r3d_18 = models.video.r3d_18(pretrained=True, )\n",
    "print(r3d_18)"
   ]
  },
  {
   "cell_type": "markdown",
   "id": "9a650cd4",
   "metadata": {},
   "source": [
    "# parameter change"
   ]
  },
  {
   "cell_type": "code",
   "execution_count": 24,
   "id": "2881df4e",
   "metadata": {},
   "outputs": [],
   "source": [
    "# # r3d_18.parameters change\n",
    "r3d_18.fc = nn.Linear(in_features = 512, out_features = 5, bias = True)\n",
    "r3d_18.stem[0] = nn.Conv3d(1, 64, kernel_size = (3, 7, 7), stride = (1, 2, 2), padding = (1, 3, 3), bias = True)"
   ]
  },
  {
   "cell_type": "code",
   "execution_count": 25,
   "id": "3c671f7b",
   "metadata": {},
   "outputs": [
    {
     "data": {
      "text/plain": [
       "<bound method Module.parameters of VideoResNet(\n",
       "  (stem): BasicStem(\n",
       "    (0): Conv3d(1, 64, kernel_size=(3, 7, 7), stride=(1, 2, 2), padding=(1, 3, 3))\n",
       "    (1): BatchNorm3d(64, eps=1e-05, momentum=0.1, affine=True, track_running_stats=True)\n",
       "    (2): ReLU(inplace=True)\n",
       "  )\n",
       "  (layer1): Sequential(\n",
       "    (0): BasicBlock(\n",
       "      (conv1): Sequential(\n",
       "        (0): Conv3DSimple(64, 64, kernel_size=(3, 3, 3), stride=(1, 1, 1), padding=(1, 1, 1), bias=False)\n",
       "        (1): BatchNorm3d(64, eps=1e-05, momentum=0.1, affine=True, track_running_stats=True)\n",
       "        (2): ReLU(inplace=True)\n",
       "      )\n",
       "      (conv2): Sequential(\n",
       "        (0): Conv3DSimple(64, 64, kernel_size=(3, 3, 3), stride=(1, 1, 1), padding=(1, 1, 1), bias=False)\n",
       "        (1): BatchNorm3d(64, eps=1e-05, momentum=0.1, affine=True, track_running_stats=True)\n",
       "      )\n",
       "      (relu): ReLU(inplace=True)\n",
       "    )\n",
       "    (1): BasicBlock(\n",
       "      (conv1): Sequential(\n",
       "        (0): Conv3DSimple(64, 64, kernel_size=(3, 3, 3), stride=(1, 1, 1), padding=(1, 1, 1), bias=False)\n",
       "        (1): BatchNorm3d(64, eps=1e-05, momentum=0.1, affine=True, track_running_stats=True)\n",
       "        (2): ReLU(inplace=True)\n",
       "      )\n",
       "      (conv2): Sequential(\n",
       "        (0): Conv3DSimple(64, 64, kernel_size=(3, 3, 3), stride=(1, 1, 1), padding=(1, 1, 1), bias=False)\n",
       "        (1): BatchNorm3d(64, eps=1e-05, momentum=0.1, affine=True, track_running_stats=True)\n",
       "      )\n",
       "      (relu): ReLU(inplace=True)\n",
       "    )\n",
       "  )\n",
       "  (layer2): Sequential(\n",
       "    (0): BasicBlock(\n",
       "      (conv1): Sequential(\n",
       "        (0): Conv3DSimple(64, 128, kernel_size=(3, 3, 3), stride=(2, 2, 2), padding=(1, 1, 1), bias=False)\n",
       "        (1): BatchNorm3d(128, eps=1e-05, momentum=0.1, affine=True, track_running_stats=True)\n",
       "        (2): ReLU(inplace=True)\n",
       "      )\n",
       "      (conv2): Sequential(\n",
       "        (0): Conv3DSimple(128, 128, kernel_size=(3, 3, 3), stride=(1, 1, 1), padding=(1, 1, 1), bias=False)\n",
       "        (1): BatchNorm3d(128, eps=1e-05, momentum=0.1, affine=True, track_running_stats=True)\n",
       "      )\n",
       "      (relu): ReLU(inplace=True)\n",
       "      (downsample): Sequential(\n",
       "        (0): Conv3d(64, 128, kernel_size=(1, 1, 1), stride=(2, 2, 2), bias=False)\n",
       "        (1): BatchNorm3d(128, eps=1e-05, momentum=0.1, affine=True, track_running_stats=True)\n",
       "      )\n",
       "    )\n",
       "    (1): BasicBlock(\n",
       "      (conv1): Sequential(\n",
       "        (0): Conv3DSimple(128, 128, kernel_size=(3, 3, 3), stride=(1, 1, 1), padding=(1, 1, 1), bias=False)\n",
       "        (1): BatchNorm3d(128, eps=1e-05, momentum=0.1, affine=True, track_running_stats=True)\n",
       "        (2): ReLU(inplace=True)\n",
       "      )\n",
       "      (conv2): Sequential(\n",
       "        (0): Conv3DSimple(128, 128, kernel_size=(3, 3, 3), stride=(1, 1, 1), padding=(1, 1, 1), bias=False)\n",
       "        (1): BatchNorm3d(128, eps=1e-05, momentum=0.1, affine=True, track_running_stats=True)\n",
       "      )\n",
       "      (relu): ReLU(inplace=True)\n",
       "    )\n",
       "  )\n",
       "  (layer3): Sequential(\n",
       "    (0): BasicBlock(\n",
       "      (conv1): Sequential(\n",
       "        (0): Conv3DSimple(128, 256, kernel_size=(3, 3, 3), stride=(2, 2, 2), padding=(1, 1, 1), bias=False)\n",
       "        (1): BatchNorm3d(256, eps=1e-05, momentum=0.1, affine=True, track_running_stats=True)\n",
       "        (2): ReLU(inplace=True)\n",
       "      )\n",
       "      (conv2): Sequential(\n",
       "        (0): Conv3DSimple(256, 256, kernel_size=(3, 3, 3), stride=(1, 1, 1), padding=(1, 1, 1), bias=False)\n",
       "        (1): BatchNorm3d(256, eps=1e-05, momentum=0.1, affine=True, track_running_stats=True)\n",
       "      )\n",
       "      (relu): ReLU(inplace=True)\n",
       "      (downsample): Sequential(\n",
       "        (0): Conv3d(128, 256, kernel_size=(1, 1, 1), stride=(2, 2, 2), bias=False)\n",
       "        (1): BatchNorm3d(256, eps=1e-05, momentum=0.1, affine=True, track_running_stats=True)\n",
       "      )\n",
       "    )\n",
       "    (1): BasicBlock(\n",
       "      (conv1): Sequential(\n",
       "        (0): Conv3DSimple(256, 256, kernel_size=(3, 3, 3), stride=(1, 1, 1), padding=(1, 1, 1), bias=False)\n",
       "        (1): BatchNorm3d(256, eps=1e-05, momentum=0.1, affine=True, track_running_stats=True)\n",
       "        (2): ReLU(inplace=True)\n",
       "      )\n",
       "      (conv2): Sequential(\n",
       "        (0): Conv3DSimple(256, 256, kernel_size=(3, 3, 3), stride=(1, 1, 1), padding=(1, 1, 1), bias=False)\n",
       "        (1): BatchNorm3d(256, eps=1e-05, momentum=0.1, affine=True, track_running_stats=True)\n",
       "      )\n",
       "      (relu): ReLU(inplace=True)\n",
       "    )\n",
       "  )\n",
       "  (layer4): Sequential(\n",
       "    (0): BasicBlock(\n",
       "      (conv1): Sequential(\n",
       "        (0): Conv3DSimple(256, 512, kernel_size=(3, 3, 3), stride=(2, 2, 2), padding=(1, 1, 1), bias=False)\n",
       "        (1): BatchNorm3d(512, eps=1e-05, momentum=0.1, affine=True, track_running_stats=True)\n",
       "        (2): ReLU(inplace=True)\n",
       "      )\n",
       "      (conv2): Sequential(\n",
       "        (0): Conv3DSimple(512, 512, kernel_size=(3, 3, 3), stride=(1, 1, 1), padding=(1, 1, 1), bias=False)\n",
       "        (1): BatchNorm3d(512, eps=1e-05, momentum=0.1, affine=True, track_running_stats=True)\n",
       "      )\n",
       "      (relu): ReLU(inplace=True)\n",
       "      (downsample): Sequential(\n",
       "        (0): Conv3d(256, 512, kernel_size=(1, 1, 1), stride=(2, 2, 2), bias=False)\n",
       "        (1): BatchNorm3d(512, eps=1e-05, momentum=0.1, affine=True, track_running_stats=True)\n",
       "      )\n",
       "    )\n",
       "    (1): BasicBlock(\n",
       "      (conv1): Sequential(\n",
       "        (0): Conv3DSimple(512, 512, kernel_size=(3, 3, 3), stride=(1, 1, 1), padding=(1, 1, 1), bias=False)\n",
       "        (1): BatchNorm3d(512, eps=1e-05, momentum=0.1, affine=True, track_running_stats=True)\n",
       "        (2): ReLU(inplace=True)\n",
       "      )\n",
       "      (conv2): Sequential(\n",
       "        (0): Conv3DSimple(512, 512, kernel_size=(3, 3, 3), stride=(1, 1, 1), padding=(1, 1, 1), bias=False)\n",
       "        (1): BatchNorm3d(512, eps=1e-05, momentum=0.1, affine=True, track_running_stats=True)\n",
       "      )\n",
       "      (relu): ReLU(inplace=True)\n",
       "    )\n",
       "  )\n",
       "  (avgpool): AdaptiveAvgPool3d(output_size=(1, 1, 1))\n",
       "  (fc): Linear(in_features=512, out_features=5, bias=True)\n",
       ")>"
      ]
     },
     "execution_count": 25,
     "metadata": {},
     "output_type": "execute_result"
    }
   ],
   "source": [
    "#results\n",
    "r3d_18.parameters"
   ]
  },
  {
   "cell_type": "code",
   "execution_count": 26,
   "id": "e1c12b1d",
   "metadata": {},
   "outputs": [
    {
     "data": {
      "text/plain": [
       "VideoResNet(\n",
       "  (stem): BasicStem(\n",
       "    (0): Conv3d(1, 64, kernel_size=(3, 7, 7), stride=(1, 2, 2), padding=(1, 3, 3))\n",
       "    (1): BatchNorm3d(64, eps=1e-05, momentum=0.1, affine=True, track_running_stats=True)\n",
       "    (2): ReLU(inplace=True)\n",
       "  )\n",
       "  (layer1): Sequential(\n",
       "    (0): BasicBlock(\n",
       "      (conv1): Sequential(\n",
       "        (0): Conv3DSimple(64, 64, kernel_size=(3, 3, 3), stride=(1, 1, 1), padding=(1, 1, 1), bias=False)\n",
       "        (1): BatchNorm3d(64, eps=1e-05, momentum=0.1, affine=True, track_running_stats=True)\n",
       "        (2): ReLU(inplace=True)\n",
       "      )\n",
       "      (conv2): Sequential(\n",
       "        (0): Conv3DSimple(64, 64, kernel_size=(3, 3, 3), stride=(1, 1, 1), padding=(1, 1, 1), bias=False)\n",
       "        (1): BatchNorm3d(64, eps=1e-05, momentum=0.1, affine=True, track_running_stats=True)\n",
       "      )\n",
       "      (relu): ReLU(inplace=True)\n",
       "    )\n",
       "    (1): BasicBlock(\n",
       "      (conv1): Sequential(\n",
       "        (0): Conv3DSimple(64, 64, kernel_size=(3, 3, 3), stride=(1, 1, 1), padding=(1, 1, 1), bias=False)\n",
       "        (1): BatchNorm3d(64, eps=1e-05, momentum=0.1, affine=True, track_running_stats=True)\n",
       "        (2): ReLU(inplace=True)\n",
       "      )\n",
       "      (conv2): Sequential(\n",
       "        (0): Conv3DSimple(64, 64, kernel_size=(3, 3, 3), stride=(1, 1, 1), padding=(1, 1, 1), bias=False)\n",
       "        (1): BatchNorm3d(64, eps=1e-05, momentum=0.1, affine=True, track_running_stats=True)\n",
       "      )\n",
       "      (relu): ReLU(inplace=True)\n",
       "    )\n",
       "  )\n",
       "  (layer2): Sequential(\n",
       "    (0): BasicBlock(\n",
       "      (conv1): Sequential(\n",
       "        (0): Conv3DSimple(64, 128, kernel_size=(3, 3, 3), stride=(2, 2, 2), padding=(1, 1, 1), bias=False)\n",
       "        (1): BatchNorm3d(128, eps=1e-05, momentum=0.1, affine=True, track_running_stats=True)\n",
       "        (2): ReLU(inplace=True)\n",
       "      )\n",
       "      (conv2): Sequential(\n",
       "        (0): Conv3DSimple(128, 128, kernel_size=(3, 3, 3), stride=(1, 1, 1), padding=(1, 1, 1), bias=False)\n",
       "        (1): BatchNorm3d(128, eps=1e-05, momentum=0.1, affine=True, track_running_stats=True)\n",
       "      )\n",
       "      (relu): ReLU(inplace=True)\n",
       "      (downsample): Sequential(\n",
       "        (0): Conv3d(64, 128, kernel_size=(1, 1, 1), stride=(2, 2, 2), bias=False)\n",
       "        (1): BatchNorm3d(128, eps=1e-05, momentum=0.1, affine=True, track_running_stats=True)\n",
       "      )\n",
       "    )\n",
       "    (1): BasicBlock(\n",
       "      (conv1): Sequential(\n",
       "        (0): Conv3DSimple(128, 128, kernel_size=(3, 3, 3), stride=(1, 1, 1), padding=(1, 1, 1), bias=False)\n",
       "        (1): BatchNorm3d(128, eps=1e-05, momentum=0.1, affine=True, track_running_stats=True)\n",
       "        (2): ReLU(inplace=True)\n",
       "      )\n",
       "      (conv2): Sequential(\n",
       "        (0): Conv3DSimple(128, 128, kernel_size=(3, 3, 3), stride=(1, 1, 1), padding=(1, 1, 1), bias=False)\n",
       "        (1): BatchNorm3d(128, eps=1e-05, momentum=0.1, affine=True, track_running_stats=True)\n",
       "      )\n",
       "      (relu): ReLU(inplace=True)\n",
       "    )\n",
       "  )\n",
       "  (layer3): Sequential(\n",
       "    (0): BasicBlock(\n",
       "      (conv1): Sequential(\n",
       "        (0): Conv3DSimple(128, 256, kernel_size=(3, 3, 3), stride=(2, 2, 2), padding=(1, 1, 1), bias=False)\n",
       "        (1): BatchNorm3d(256, eps=1e-05, momentum=0.1, affine=True, track_running_stats=True)\n",
       "        (2): ReLU(inplace=True)\n",
       "      )\n",
       "      (conv2): Sequential(\n",
       "        (0): Conv3DSimple(256, 256, kernel_size=(3, 3, 3), stride=(1, 1, 1), padding=(1, 1, 1), bias=False)\n",
       "        (1): BatchNorm3d(256, eps=1e-05, momentum=0.1, affine=True, track_running_stats=True)\n",
       "      )\n",
       "      (relu): ReLU(inplace=True)\n",
       "      (downsample): Sequential(\n",
       "        (0): Conv3d(128, 256, kernel_size=(1, 1, 1), stride=(2, 2, 2), bias=False)\n",
       "        (1): BatchNorm3d(256, eps=1e-05, momentum=0.1, affine=True, track_running_stats=True)\n",
       "      )\n",
       "    )\n",
       "    (1): BasicBlock(\n",
       "      (conv1): Sequential(\n",
       "        (0): Conv3DSimple(256, 256, kernel_size=(3, 3, 3), stride=(1, 1, 1), padding=(1, 1, 1), bias=False)\n",
       "        (1): BatchNorm3d(256, eps=1e-05, momentum=0.1, affine=True, track_running_stats=True)\n",
       "        (2): ReLU(inplace=True)\n",
       "      )\n",
       "      (conv2): Sequential(\n",
       "        (0): Conv3DSimple(256, 256, kernel_size=(3, 3, 3), stride=(1, 1, 1), padding=(1, 1, 1), bias=False)\n",
       "        (1): BatchNorm3d(256, eps=1e-05, momentum=0.1, affine=True, track_running_stats=True)\n",
       "      )\n",
       "      (relu): ReLU(inplace=True)\n",
       "    )\n",
       "  )\n",
       "  (layer4): Sequential(\n",
       "    (0): BasicBlock(\n",
       "      (conv1): Sequential(\n",
       "        (0): Conv3DSimple(256, 512, kernel_size=(3, 3, 3), stride=(2, 2, 2), padding=(1, 1, 1), bias=False)\n",
       "        (1): BatchNorm3d(512, eps=1e-05, momentum=0.1, affine=True, track_running_stats=True)\n",
       "        (2): ReLU(inplace=True)\n",
       "      )\n",
       "      (conv2): Sequential(\n",
       "        (0): Conv3DSimple(512, 512, kernel_size=(3, 3, 3), stride=(1, 1, 1), padding=(1, 1, 1), bias=False)\n",
       "        (1): BatchNorm3d(512, eps=1e-05, momentum=0.1, affine=True, track_running_stats=True)\n",
       "      )\n",
       "      (relu): ReLU(inplace=True)\n",
       "      (downsample): Sequential(\n",
       "        (0): Conv3d(256, 512, kernel_size=(1, 1, 1), stride=(2, 2, 2), bias=False)\n",
       "        (1): BatchNorm3d(512, eps=1e-05, momentum=0.1, affine=True, track_running_stats=True)\n",
       "      )\n",
       "    )\n",
       "    (1): BasicBlock(\n",
       "      (conv1): Sequential(\n",
       "        (0): Conv3DSimple(512, 512, kernel_size=(3, 3, 3), stride=(1, 1, 1), padding=(1, 1, 1), bias=False)\n",
       "        (1): BatchNorm3d(512, eps=1e-05, momentum=0.1, affine=True, track_running_stats=True)\n",
       "        (2): ReLU(inplace=True)\n",
       "      )\n",
       "      (conv2): Sequential(\n",
       "        (0): Conv3DSimple(512, 512, kernel_size=(3, 3, 3), stride=(1, 1, 1), padding=(1, 1, 1), bias=False)\n",
       "        (1): BatchNorm3d(512, eps=1e-05, momentum=0.1, affine=True, track_running_stats=True)\n",
       "      )\n",
       "      (relu): ReLU(inplace=True)\n",
       "    )\n",
       "  )\n",
       "  (avgpool): AdaptiveAvgPool3d(output_size=(1, 1, 1))\n",
       "  (fc): Linear(in_features=512, out_features=5, bias=True)\n",
       ")"
      ]
     },
     "execution_count": 26,
     "metadata": {},
     "output_type": "execute_result"
    }
   ],
   "source": [
    "model = r3d_18\n",
    "model.to(device)"
   ]
  },
  {
   "cell_type": "code",
   "execution_count": null,
   "id": "4c6b9fc8",
   "metadata": {},
   "outputs": [],
   "source": []
  },
  {
   "cell_type": "markdown",
   "id": "6fc515b2",
   "metadata": {},
   "source": [
    "## densenet"
   ]
  },
  {
   "cell_type": "code",
   "execution_count": 52,
   "id": "24a12ff3",
   "metadata": {},
   "outputs": [],
   "source": [
    "#densenet\n",
    "#from model.densenet import densenet\n",
    "#model = densenet(121)\n",
    "#model.to(device)"
   ]
  },
  {
   "cell_type": "markdown",
   "id": "971d69f8",
   "metadata": {},
   "source": [
    "## resnet"
   ]
  },
  {
   "cell_type": "code",
   "execution_count": 99,
   "id": "28df2878",
   "metadata": {},
   "outputs": [],
   "source": [
    "# #resnet\n",
    "# from model.resnet import *\n",
    "# model =  generate_model(152)\n",
    "# model.to(device)"
   ]
  },
  {
   "cell_type": "markdown",
   "id": "e51ccb72",
   "metadata": {},
   "source": [
    "## inception_resnet_v2"
   ]
  },
  {
   "cell_type": "code",
   "execution_count": 98,
   "id": "4f803096",
   "metadata": {},
   "outputs": [],
   "source": [
    "# from model.inception_resnet_v2 import Inception_ResNetv2\n",
    "# model = Inception_ResNetv2()\n",
    "# model.to(device)"
   ]
  },
  {
   "cell_type": "markdown",
   "id": "1f972eb2",
   "metadata": {},
   "source": [
    "## inceptionv4"
   ]
  },
  {
   "cell_type": "code",
   "execution_count": 97,
   "id": "0cc03516",
   "metadata": {},
   "outputs": [],
   "source": [
    "# from model.inceptionv4 import Inceptionv4\n",
    "# model = Inceptionv4()\n",
    "# model.to(device)\n"
   ]
  },
  {
   "cell_type": "markdown",
   "id": "eaabd5b4",
   "metadata": {},
   "source": [
    "# config dictionary"
   ]
  },
  {
   "cell_type": "code",
   "execution_count": 27,
   "id": "3aded1ab",
   "metadata": {},
   "outputs": [],
   "source": [
    "config = easydict.EasyDict({'n_epoch': 15,\n",
    "                           'batch_size':4,\n",
    "                           'lr': 0.001,\n",
    "                           'save_dir':'./',\n",
    "                           'dropout' : 0.2, \n",
    "                            'modelname' : 'pretrained_videoresnet',\n",
    "                            'dataname' : 'sliced_746'\n",
    "                           })"
   ]
  },
  {
   "cell_type": "code",
   "execution_count": 28,
   "id": "d4112562",
   "metadata": {},
   "outputs": [],
   "source": [
    "train_loader = DataLoader(mridataset(datadict, data_type = 'train'), batch_size = config.batch_size, num_workers = 8, shuffle = True)\n",
    "#num_workers: cpu 여러개로 학습을 시켜라(8)\n",
    "test_loader = DataLoader(mridataset(datadict, data_type = 'test'), batch_size = config.batch_size, num_workers = 8, shuffle = False)"
   ]
  },
  {
   "cell_type": "code",
   "execution_count": 29,
   "id": "9e5dd89b",
   "metadata": {},
   "outputs": [],
   "source": [
    "# #save&load path\n",
    "# filename = f'Model_{config.modelname}_batch_{config.batch_size}_lr_{config.lr}'\n",
    "# output_path = os.path.join(config.save_dir, filename)\n",
    "# print('Model will be saved in {}'.format(output_path))"
   ]
  },
  {
   "cell_type": "markdown",
   "id": "2089c84f",
   "metadata": {},
   "source": [
    "RMSProp with decay of 0.9 and epsilon(e//what is this??)= 1.0.  We used a learning rate of 0.045, decayed every two epochs using an exponential rate of 0.94.  --> decay every 2 epochs??using an exponential rate of 0.94===>lr.schedular??"
   ]
  },
  {
   "cell_type": "code",
   "execution_count": 30,
   "id": "9d0e8428",
   "metadata": {},
   "outputs": [],
   "source": [
    "#Loss\n",
    "criterion = nn.MSELoss()\n",
    "criterion2 = nn.L1Loss()\n",
    "#optimizer\n",
    "optimizer = torch.optim.Adam(model.parameters(), lr = config.lr)#this was for resnet\n",
    "#optimizer = torch.optim.RMSprop(model.parameters(), lr = config.lr, weight_decay = 0.9, momentum = 0.9)#for inception resnet"
   ]
  },
  {
   "cell_type": "code",
   "execution_count": 31,
   "id": "08e8fac9",
   "metadata": {
    "scrolled": true
   },
   "outputs": [
    {
     "data": {
      "text/html": [
       "Finishing last run (ID:1gmgvim1) before initializing another..."
      ],
      "text/plain": [
       "<IPython.core.display.HTML object>"
      ]
     },
     "metadata": {},
     "output_type": "display_data"
    },
    {
     "data": {
      "text/html": [
       "<br/>Waiting for W&B process to finish, PID 18401<br/>Program ended successfully."
      ],
      "text/plain": [
       "<IPython.core.display.HTML object>"
      ]
     },
     "metadata": {},
     "output_type": "display_data"
    },
    {
     "data": {
      "application/vnd.jupyter.widget-view+json": {
       "model_id": "",
       "version_major": 2,
       "version_minor": 0
      },
      "text/plain": [
       "VBox(children=(Label(value=' 0.00MB of 0.00MB uploaded (0.00MB deduped)\\r'), FloatProgress(value=1.0, max=1.0)…"
      ]
     },
     "metadata": {},
     "output_type": "display_data"
    },
    {
     "data": {
      "text/html": [
       "Find user logs for this run at: <code>/home/chaeeun/Desktop/brain disease prediction/wandb/run-20211102_114701-1gmgvim1/logs/debug.log</code>"
      ],
      "text/plain": [
       "<IPython.core.display.HTML object>"
      ]
     },
     "metadata": {},
     "output_type": "display_data"
    },
    {
     "data": {
      "text/html": [
       "Find internal logs for this run at: <code>/home/chaeeun/Desktop/brain disease prediction/wandb/run-20211102_114701-1gmgvim1/logs/debug-internal.log</code>"
      ],
      "text/plain": [
       "<IPython.core.display.HTML object>"
      ]
     },
     "metadata": {},
     "output_type": "display_data"
    },
    {
     "data": {
      "text/html": [
       "Synced 6 W&B file(s), 0 media file(s), 0 artifact file(s) and 0 other file(s)"
      ],
      "text/plain": [
       "<IPython.core.display.HTML object>"
      ]
     },
     "metadata": {},
     "output_type": "display_data"
    },
    {
     "data": {
      "text/html": [
       "\n",
       "                    <br/>Synced <strong style=\"color:#cdcd00\">spring-totem-3</strong>: <a href=\"https://wandb.ai/tonge/pretrained_videoresnet_sliced_746_15/runs/1gmgvim1\" target=\"_blank\">https://wandb.ai/tonge/pretrained_videoresnet_sliced_746_15/runs/1gmgvim1</a><br/>\n",
       "                "
      ],
      "text/plain": [
       "<IPython.core.display.HTML object>"
      ]
     },
     "metadata": {},
     "output_type": "display_data"
    },
    {
     "data": {
      "text/html": [
       "...Successfully finished last run (ID:1gmgvim1). Initializing new run:<br/><br/>"
      ],
      "text/plain": [
       "<IPython.core.display.HTML object>"
      ]
     },
     "metadata": {},
     "output_type": "display_data"
    },
    {
     "name": "stderr",
     "output_type": "stream",
     "text": [
      "\u001b[34m\u001b[1mwandb\u001b[0m: wandb version 0.12.6 is available!  To upgrade, please run:\n",
      "\u001b[34m\u001b[1mwandb\u001b[0m:  $ pip install wandb --upgrade\n"
     ]
    },
    {
     "data": {
      "text/html": [
       "\n",
       "                Tracking run with wandb version 0.12.1<br/>\n",
       "                Syncing run <strong style=\"color:#cdcd00\">distinctive-monkey-4</strong> to <a href=\"https://wandb.ai\" target=\"_blank\">Weights & Biases</a> <a href=\"https://docs.wandb.com/integrations/jupyter.html\" target=\"_blank\">(Documentation)</a>.<br/>\n",
       "                Project page: <a href=\"https://wandb.ai/tonge/pretrained_videoresnet_sliced_746_15\" target=\"_blank\">https://wandb.ai/tonge/pretrained_videoresnet_sliced_746_15</a><br/>\n",
       "                Run page: <a href=\"https://wandb.ai/tonge/pretrained_videoresnet_sliced_746_15/runs/2i4dobc4\" target=\"_blank\">https://wandb.ai/tonge/pretrained_videoresnet_sliced_746_15/runs/2i4dobc4</a><br/>\n",
       "                Run data is saved locally in <code>/home/chaeeun/Desktop/brain disease prediction/wandb/run-20211102_114949-2i4dobc4</code><br/><br/>\n",
       "            "
      ],
      "text/plain": [
       "<IPython.core.display.HTML object>"
      ]
     },
     "metadata": {},
     "output_type": "display_data"
    },
    {
     "name": "stdout",
     "output_type": "stream",
     "text": [
      "Train Epoch 1 start!\n"
     ]
    },
    {
     "ename": "RuntimeError",
     "evalue": "CUDA out of memory. Tried to allocate 942.00 MiB (GPU 0; 23.65 GiB total capacity; 21.60 GiB already allocated; 76.00 MiB free; 21.65 GiB reserved in total by PyTorch)",
     "output_type": "error",
     "traceback": [
      "\u001b[0;31m---------------------------------------------------------------------------\u001b[0m",
      "\u001b[0;31mRuntimeError\u001b[0m                              Traceback (most recent call last)",
      "\u001b[0;32m<ipython-input-31-23cca40ca5bc>\u001b[0m in \u001b[0;36m<module>\u001b[0;34m\u001b[0m\n\u001b[1;32m     22\u001b[0m         \u001b[0moptimizer\u001b[0m\u001b[0;34m.\u001b[0m\u001b[0mzero_grad\u001b[0m\u001b[0;34m(\u001b[0m\u001b[0;34m)\u001b[0m\u001b[0;31m#optimizer reset\u001b[0m\u001b[0;34m\u001b[0m\u001b[0;34m\u001b[0m\u001b[0m\n\u001b[1;32m     23\u001b[0m \u001b[0;34m\u001b[0m\u001b[0m\n\u001b[0;32m---> 24\u001b[0;31m         \u001b[0my_pred\u001b[0m \u001b[0;34m=\u001b[0m \u001b[0mmodel\u001b[0m\u001b[0;34m(\u001b[0m\u001b[0mX\u001b[0m\u001b[0;34m)\u001b[0m\u001b[0;34m\u001b[0m\u001b[0;34m\u001b[0m\u001b[0m\n\u001b[0m\u001b[1;32m     25\u001b[0m         \u001b[0mloss\u001b[0m \u001b[0;34m=\u001b[0m \u001b[0mcriterion\u001b[0m\u001b[0;34m(\u001b[0m\u001b[0my_pred\u001b[0m\u001b[0;34m,\u001b[0m \u001b[0my_target\u001b[0m\u001b[0;34m)\u001b[0m\u001b[0;34m\u001b[0m\u001b[0;34m\u001b[0m\u001b[0m\n\u001b[1;32m     26\u001b[0m         \u001b[0mloss2\u001b[0m \u001b[0;34m=\u001b[0m \u001b[0mcriterion2\u001b[0m\u001b[0;34m(\u001b[0m\u001b[0my_pred\u001b[0m\u001b[0;34m,\u001b[0m \u001b[0my_target\u001b[0m\u001b[0;34m)\u001b[0m\u001b[0;34m\u001b[0m\u001b[0;34m\u001b[0m\u001b[0m\n",
      "\u001b[0;32m~/.conda/envs/sce/lib/python3.7/site-packages/torch/nn/modules/module.py\u001b[0m in \u001b[0;36m_call_impl\u001b[0;34m(self, *input, **kwargs)\u001b[0m\n\u001b[1;32m   1069\u001b[0m             \u001b[0minput\u001b[0m \u001b[0;34m=\u001b[0m \u001b[0mbw_hook\u001b[0m\u001b[0;34m.\u001b[0m\u001b[0msetup_input_hook\u001b[0m\u001b[0;34m(\u001b[0m\u001b[0minput\u001b[0m\u001b[0;34m)\u001b[0m\u001b[0;34m\u001b[0m\u001b[0;34m\u001b[0m\u001b[0m\n\u001b[1;32m   1070\u001b[0m \u001b[0;34m\u001b[0m\u001b[0m\n\u001b[0;32m-> 1071\u001b[0;31m         \u001b[0mresult\u001b[0m \u001b[0;34m=\u001b[0m \u001b[0mforward_call\u001b[0m\u001b[0;34m(\u001b[0m\u001b[0;34m*\u001b[0m\u001b[0minput\u001b[0m\u001b[0;34m,\u001b[0m \u001b[0;34m**\u001b[0m\u001b[0mkwargs\u001b[0m\u001b[0;34m)\u001b[0m\u001b[0;34m\u001b[0m\u001b[0;34m\u001b[0m\u001b[0m\n\u001b[0m\u001b[1;32m   1072\u001b[0m         \u001b[0;32mif\u001b[0m \u001b[0m_global_forward_hooks\u001b[0m \u001b[0;32mor\u001b[0m \u001b[0mself\u001b[0m\u001b[0;34m.\u001b[0m\u001b[0m_forward_hooks\u001b[0m\u001b[0;34m:\u001b[0m\u001b[0;34m\u001b[0m\u001b[0;34m\u001b[0m\u001b[0m\n\u001b[1;32m   1073\u001b[0m             for hook in itertools.chain(\n",
      "\u001b[0;32m~/.conda/envs/sce/lib/python3.7/site-packages/torchvision/models/video/resnet.py\u001b[0m in \u001b[0;36mforward\u001b[0;34m(self, x)\u001b[0m\n\u001b[1;32m    225\u001b[0m \u001b[0;34m\u001b[0m\u001b[0m\n\u001b[1;32m    226\u001b[0m     \u001b[0;32mdef\u001b[0m \u001b[0mforward\u001b[0m\u001b[0;34m(\u001b[0m\u001b[0mself\u001b[0m\u001b[0;34m,\u001b[0m \u001b[0mx\u001b[0m\u001b[0;34m)\u001b[0m\u001b[0;34m:\u001b[0m\u001b[0;34m\u001b[0m\u001b[0;34m\u001b[0m\u001b[0m\n\u001b[0;32m--> 227\u001b[0;31m         \u001b[0mx\u001b[0m \u001b[0;34m=\u001b[0m \u001b[0mself\u001b[0m\u001b[0;34m.\u001b[0m\u001b[0mstem\u001b[0m\u001b[0;34m(\u001b[0m\u001b[0mx\u001b[0m\u001b[0;34m)\u001b[0m\u001b[0;34m\u001b[0m\u001b[0;34m\u001b[0m\u001b[0m\n\u001b[0m\u001b[1;32m    228\u001b[0m \u001b[0;34m\u001b[0m\u001b[0m\n\u001b[1;32m    229\u001b[0m         \u001b[0mx\u001b[0m \u001b[0;34m=\u001b[0m \u001b[0mself\u001b[0m\u001b[0;34m.\u001b[0m\u001b[0mlayer1\u001b[0m\u001b[0;34m(\u001b[0m\u001b[0mx\u001b[0m\u001b[0;34m)\u001b[0m\u001b[0;34m\u001b[0m\u001b[0;34m\u001b[0m\u001b[0m\n",
      "\u001b[0;32m~/.conda/envs/sce/lib/python3.7/site-packages/torch/nn/modules/module.py\u001b[0m in \u001b[0;36m_call_impl\u001b[0;34m(self, *input, **kwargs)\u001b[0m\n\u001b[1;32m   1049\u001b[0m         if not (self._backward_hooks or self._forward_hooks or self._forward_pre_hooks or _global_backward_hooks\n\u001b[1;32m   1050\u001b[0m                 or _global_forward_hooks or _global_forward_pre_hooks):\n\u001b[0;32m-> 1051\u001b[0;31m             \u001b[0;32mreturn\u001b[0m \u001b[0mforward_call\u001b[0m\u001b[0;34m(\u001b[0m\u001b[0;34m*\u001b[0m\u001b[0minput\u001b[0m\u001b[0;34m,\u001b[0m \u001b[0;34m**\u001b[0m\u001b[0mkwargs\u001b[0m\u001b[0;34m)\u001b[0m\u001b[0;34m\u001b[0m\u001b[0;34m\u001b[0m\u001b[0m\n\u001b[0m\u001b[1;32m   1052\u001b[0m         \u001b[0;31m# Do not call functions when jit is used\u001b[0m\u001b[0;34m\u001b[0m\u001b[0;34m\u001b[0m\u001b[0;34m\u001b[0m\u001b[0m\n\u001b[1;32m   1053\u001b[0m         \u001b[0mfull_backward_hooks\u001b[0m\u001b[0;34m,\u001b[0m \u001b[0mnon_full_backward_hooks\u001b[0m \u001b[0;34m=\u001b[0m \u001b[0;34m[\u001b[0m\u001b[0;34m]\u001b[0m\u001b[0;34m,\u001b[0m \u001b[0;34m[\u001b[0m\u001b[0;34m]\u001b[0m\u001b[0;34m\u001b[0m\u001b[0;34m\u001b[0m\u001b[0m\n",
      "\u001b[0;32m~/.conda/envs/sce/lib/python3.7/site-packages/torch/nn/modules/container.py\u001b[0m in \u001b[0;36mforward\u001b[0;34m(self, input)\u001b[0m\n\u001b[1;32m    137\u001b[0m     \u001b[0;32mdef\u001b[0m \u001b[0mforward\u001b[0m\u001b[0;34m(\u001b[0m\u001b[0mself\u001b[0m\u001b[0;34m,\u001b[0m \u001b[0minput\u001b[0m\u001b[0;34m)\u001b[0m\u001b[0;34m:\u001b[0m\u001b[0;34m\u001b[0m\u001b[0;34m\u001b[0m\u001b[0m\n\u001b[1;32m    138\u001b[0m         \u001b[0;32mfor\u001b[0m \u001b[0mmodule\u001b[0m \u001b[0;32min\u001b[0m \u001b[0mself\u001b[0m\u001b[0;34m:\u001b[0m\u001b[0;34m\u001b[0m\u001b[0;34m\u001b[0m\u001b[0m\n\u001b[0;32m--> 139\u001b[0;31m             \u001b[0minput\u001b[0m \u001b[0;34m=\u001b[0m \u001b[0mmodule\u001b[0m\u001b[0;34m(\u001b[0m\u001b[0minput\u001b[0m\u001b[0;34m)\u001b[0m\u001b[0;34m\u001b[0m\u001b[0;34m\u001b[0m\u001b[0m\n\u001b[0m\u001b[1;32m    140\u001b[0m         \u001b[0;32mreturn\u001b[0m \u001b[0minput\u001b[0m\u001b[0;34m\u001b[0m\u001b[0;34m\u001b[0m\u001b[0m\n\u001b[1;32m    141\u001b[0m \u001b[0;34m\u001b[0m\u001b[0m\n",
      "\u001b[0;32m~/.conda/envs/sce/lib/python3.7/site-packages/torch/nn/modules/module.py\u001b[0m in \u001b[0;36m_call_impl\u001b[0;34m(self, *input, **kwargs)\u001b[0m\n\u001b[1;32m   1049\u001b[0m         if not (self._backward_hooks or self._forward_hooks or self._forward_pre_hooks or _global_backward_hooks\n\u001b[1;32m   1050\u001b[0m                 or _global_forward_hooks or _global_forward_pre_hooks):\n\u001b[0;32m-> 1051\u001b[0;31m             \u001b[0;32mreturn\u001b[0m \u001b[0mforward_call\u001b[0m\u001b[0;34m(\u001b[0m\u001b[0;34m*\u001b[0m\u001b[0minput\u001b[0m\u001b[0;34m,\u001b[0m \u001b[0;34m**\u001b[0m\u001b[0mkwargs\u001b[0m\u001b[0;34m)\u001b[0m\u001b[0;34m\u001b[0m\u001b[0;34m\u001b[0m\u001b[0m\n\u001b[0m\u001b[1;32m   1052\u001b[0m         \u001b[0;31m# Do not call functions when jit is used\u001b[0m\u001b[0;34m\u001b[0m\u001b[0;34m\u001b[0m\u001b[0;34m\u001b[0m\u001b[0m\n\u001b[1;32m   1053\u001b[0m         \u001b[0mfull_backward_hooks\u001b[0m\u001b[0;34m,\u001b[0m \u001b[0mnon_full_backward_hooks\u001b[0m \u001b[0;34m=\u001b[0m \u001b[0;34m[\u001b[0m\u001b[0;34m]\u001b[0m\u001b[0;34m,\u001b[0m \u001b[0;34m[\u001b[0m\u001b[0;34m]\u001b[0m\u001b[0;34m\u001b[0m\u001b[0;34m\u001b[0m\u001b[0m\n",
      "\u001b[0;32m~/.conda/envs/sce/lib/python3.7/site-packages/torch/nn/modules/conv.py\u001b[0m in \u001b[0;36mforward\u001b[0;34m(self, input)\u001b[0m\n\u001b[1;32m    585\u001b[0m \u001b[0;34m\u001b[0m\u001b[0m\n\u001b[1;32m    586\u001b[0m     \u001b[0;32mdef\u001b[0m \u001b[0mforward\u001b[0m\u001b[0;34m(\u001b[0m\u001b[0mself\u001b[0m\u001b[0;34m,\u001b[0m \u001b[0minput\u001b[0m\u001b[0;34m:\u001b[0m \u001b[0mTensor\u001b[0m\u001b[0;34m)\u001b[0m \u001b[0;34m->\u001b[0m \u001b[0mTensor\u001b[0m\u001b[0;34m:\u001b[0m\u001b[0;34m\u001b[0m\u001b[0;34m\u001b[0m\u001b[0m\n\u001b[0;32m--> 587\u001b[0;31m         \u001b[0;32mreturn\u001b[0m \u001b[0mself\u001b[0m\u001b[0;34m.\u001b[0m\u001b[0m_conv_forward\u001b[0m\u001b[0;34m(\u001b[0m\u001b[0minput\u001b[0m\u001b[0;34m,\u001b[0m \u001b[0mself\u001b[0m\u001b[0;34m.\u001b[0m\u001b[0mweight\u001b[0m\u001b[0;34m,\u001b[0m \u001b[0mself\u001b[0m\u001b[0;34m.\u001b[0m\u001b[0mbias\u001b[0m\u001b[0;34m)\u001b[0m\u001b[0;34m\u001b[0m\u001b[0;34m\u001b[0m\u001b[0m\n\u001b[0m\u001b[1;32m    588\u001b[0m \u001b[0;34m\u001b[0m\u001b[0m\n\u001b[1;32m    589\u001b[0m \u001b[0;34m\u001b[0m\u001b[0m\n",
      "\u001b[0;32m~/.conda/envs/sce/lib/python3.7/site-packages/torch/nn/modules/conv.py\u001b[0m in \u001b[0;36m_conv_forward\u001b[0;34m(self, input, weight, bias)\u001b[0m\n\u001b[1;32m    581\u001b[0m             )\n\u001b[1;32m    582\u001b[0m         return F.conv3d(\n\u001b[0;32m--> 583\u001b[0;31m             \u001b[0minput\u001b[0m\u001b[0;34m,\u001b[0m \u001b[0mweight\u001b[0m\u001b[0;34m,\u001b[0m \u001b[0mbias\u001b[0m\u001b[0;34m,\u001b[0m \u001b[0mself\u001b[0m\u001b[0;34m.\u001b[0m\u001b[0mstride\u001b[0m\u001b[0;34m,\u001b[0m \u001b[0mself\u001b[0m\u001b[0;34m.\u001b[0m\u001b[0mpadding\u001b[0m\u001b[0;34m,\u001b[0m \u001b[0mself\u001b[0m\u001b[0;34m.\u001b[0m\u001b[0mdilation\u001b[0m\u001b[0;34m,\u001b[0m \u001b[0mself\u001b[0m\u001b[0;34m.\u001b[0m\u001b[0mgroups\u001b[0m\u001b[0;34m\u001b[0m\u001b[0;34m\u001b[0m\u001b[0m\n\u001b[0m\u001b[1;32m    584\u001b[0m         )\n\u001b[1;32m    585\u001b[0m \u001b[0;34m\u001b[0m\u001b[0m\n",
      "\u001b[0;31mRuntimeError\u001b[0m: CUDA out of memory. Tried to allocate 942.00 MiB (GPU 0; 23.65 GiB total capacity; 21.60 GiB already allocated; 76.00 MiB free; 21.65 GiB reserved in total by PyTorch)"
     ]
    }
   ],
   "source": [
    "#trainer\n",
    "wandb.init(project=config.modelname +'_'+ config.dataname + '_' + str(config.n_epoch), config = config)\n",
    "wandb.watch(model, log='all')\n",
    "\n",
    "start = torch.cuda.Event(enable_timing = True)\n",
    "end = torch.cuda.Event(enable_timing = True)\n",
    "\n",
    "start.record()\n",
    "loss_plot, val_loss_plot = [], []\n",
    "maeloss_plot, maeval_loss_plot = [], []\n",
    "y_each_maeloss_plot = []\n",
    "for n_epoch in range(1, config.n_epoch + 1):\n",
    "    print(f'Train Epoch {n_epoch} start!')\n",
    "    avg_train_loss = 0\n",
    "    avg_train_mae = 0\n",
    "    \n",
    "    model.train()\n",
    "    \n",
    "    for iter, batch in enumerate(train_loader):\n",
    "        X = batch['X'].to(device)\n",
    "        y_target = batch['y_target'].to(device)\n",
    "        optimizer.zero_grad()#optimizer reset\n",
    "        \n",
    "        y_pred = model(X)\n",
    "        loss = criterion(y_pred, y_target)\n",
    "        loss2 = criterion2(y_pred, y_target)\n",
    "\n",
    "\n",
    "        loss.backward()\n",
    "        optimizer.step()\n",
    "        avg_train_loss += loss.item() / len(train_loader)\n",
    "        avg_train_mae += loss2.item() / len(train_loader)\n",
    "\n",
    "        \n",
    "        \n",
    "    print('[Train] loss: {:.3f}'.format(avg_train_loss))\n",
    "    print('[Train] mae_loss: {:.3f}'.format(avg_train_mae))\n",
    "    loss_plot.append(avg_train_loss)\n",
    "    maeloss_plot.append(avg_train_mae)\n",
    "\n",
    "    # wandb.log({'Train mse Loss' : avg_train_loss, 'Train mae Loss': avg_train_mae})#0, 2, 4, ...\n",
    "    \n",
    "\n",
    "        #evaluation\n",
    "    model.eval()\n",
    "    avg_test_loss = 0\n",
    "    avg_test_mae = 0\n",
    "        \n",
    "    with torch.no_grad(): #no need to compute gradient\n",
    "        y_each_maeloss = [0, 0, 0, 0, 0]\n",
    "        y_predicted = []\n",
    "        for iter, batch in enumerate(test_loader):\n",
    "            X = batch['X'].to(device)\n",
    "            y_target = batch['y_target'].to(device)\n",
    "\n",
    "            y_pred = model(X)\n",
    "            #################\n",
    "            for list in y_pred:\n",
    "                for i in range(len(list)):\n",
    "                    list[i] = list[i] * unnorm_label[:,i].std() + unnorm_label[:,i].mean()\n",
    "    \n",
    "    \n",
    "            if n_epoch == config.n_epoch:\n",
    "                y_predicted.append(y_pred)\n",
    "                \n",
    "            \n",
    "            for list in y_target:\n",
    "                for i in range(len(list)):\n",
    "                    list[i] = list[i] * unnorm_label[:,i].std() + unnorm_label[:,i].mean()\n",
    "            ################\n",
    "\n",
    "            for i in range(len(y_pred)):\n",
    "                for j in range(5):\n",
    "                    y_loss = criterion2(y_pred[i][j], y_target[i][j]).item() / len(y_test)     #25\n",
    "                    y_each_maeloss[j] += y_loss\n",
    "\n",
    "\n",
    "            loss = criterion(y_pred, y_target)\n",
    "            loss2 = criterion2(y_pred, y_target)\n",
    "\n",
    "            avg_test_loss += loss.item()/len(test_loader)\n",
    "            avg_test_mae += loss2.item()/len(test_loader)\n",
    "\n",
    "        print('[Test]  loss: {:.3f}'.format(avg_test_loss))\n",
    "        print('[Test]  mae_loss: {:.3f}'.format(avg_test_mae))\n",
    "        print('[Test, y_each_maeloss]: ',y_each_maeloss)\n",
    "        print('\\n')\n",
    "        val_loss_plot.append(avg_test_loss)\n",
    "        maeval_loss_plot.append(avg_test_mae)\n",
    "        y_each_maeloss_plot.append(y_each_maeloss)\n",
    "        wandb.log({'Train mse Loss' : avg_train_loss, 'Train mae Loss': avg_train_mae, 'Test mse Loss': avg_test_loss, 'Test mae Loss': avg_test_mae})\n",
    "    \n",
    "    \n",
    "end.record()\n",
    "torch.cuda.synchronize()\n",
    "print(start.elapsed_time(end), \"ms\")\n",
    "\n",
    "# wandb.finish()\n",
    "y_predicted_concat = torch.cat([*y_predicted], dim = 0)\n",
    "\n",
    "y1_p = y_predicted_concat[:, 0].reshape(100,1).cpu()\n",
    "y2_p = y_predicted_concat[:, 1].reshape(100,1).cpu()\n",
    "y3_p = y_predicted_concat[:, 2].reshape(100,1).cpu()\n",
    "y4_p = y_predicted_concat[:, 3].reshape(100,1).cpu()\n",
    "y5_p = y_predicted_concat[:, 4].reshape(100,1).cpu()\n",
    "#정답치\n",
    "y1 = unnorm_label[621:, 0].reshape(100,1)\n",
    "y2 = unnorm_label[621:, 1].reshape(100,1)\n",
    "y3 = unnorm_label[621:, 2].reshape(100,1)\n",
    "y4 = unnorm_label[621:, 3].reshape(100,1)\n",
    "y5 = unnorm_label[621:, 4].reshape(100,1)\n",
    "\n",
    "\n",
    "\n",
    "one = np.hstack((y1_p, y1))\n",
    "two = np.hstack((y2_p, y2))\n",
    "three = np.hstack((y3_p, y3))\n",
    "four = np.hstack((y4_p, y4))\n",
    "five = np.hstack((y5_p, y5))\n",
    "\n",
    "\n",
    "scat_1 = [[x, y] for (x, y) in one]#zip(one[:,0], one[:,1])\n",
    "scat_2 = [[x, y] for (x, y) in two]#zip(one[:,0], one[:,1])\n",
    "scat_3 = [[x, y] for (x, y) in three]#zip(one[:,0], one[:,1])\n",
    "scat_4 = [[x, y] for (x, y) in four]#zip(one[:,0], one[:,1])\n",
    "scat_5 = [[x, y] for (x, y) in five]#zip(one[:,0], one[:,1])\n",
    "\n",
    "table_1 = wandb.Table(data = scat_1, columns = ['predicted', 'truth'])\n",
    "scatter_1 = wandb.plot.scatter(table_1, x = 'predicted', y = 'target', title = 'scat_1')\n",
    "\n",
    "table_2 = wandb.Table(data = scat_2, columns = ['predicted', 'truth'])\n",
    "scatter_2 = wandb.plot.scatter(table_2, x = 'predicted', y = 'target', title = 'scat_2')\n",
    "\n",
    "table_3 = wandb.Table(data = scat_3, columns = ['predicted', 'truth'])\n",
    "scatter_3 = wandb.plot.scatter(table_3, x = 'predicted', y = 'target', title = 'scat_3')\n",
    "\n",
    "table_4 = wandb.Table(data = scat_4, columns = ['predicted', 'truth'])\n",
    "scatter_4 = wandb.plot.scatter(table_4, x = 'predicted', y = 'target', title = 'scat_4')\n",
    "\n",
    "table_5 = wandb.Table(data = scat_5, columns = ['predicted', 'truth'])\n",
    "scatter_5 = wandb.plot.scatter(table_5, x = 'predicted', y = 'target', title = 'scat_5')\n",
    "\n",
    "wandb.log({ 'scatter_1': scatter_1, 'scatter_2' : scatter_2, 'scatter_3' : scatter_3, \n",
    "'scatter_4' : scatter_4, 'scatter_5': scatter_5})\n",
    "\n",
    "\n",
    "\n",
    "wandb.finish()\n",
    "\n"
   ]
  },
  {
   "cell_type": "code",
   "execution_count": 41,
   "id": "f6653ea7",
   "metadata": {},
   "outputs": [],
   "source": [
    "# y_predicted_concat = torch.cat([*y_predicted], dim = 0)\n"
   ]
  },
  {
   "cell_type": "code",
   "execution_count": 25,
   "id": "b0040a8c",
   "metadata": {},
   "outputs": [
    {
     "data": {
      "text/html": [
       "<br/>Waiting for W&B process to finish, PID 10231<br/>Program ended successfully."
      ],
      "text/plain": [
       "<IPython.core.display.HTML object>"
      ]
     },
     "metadata": {},
     "output_type": "display_data"
    },
    {
     "data": {
      "application/vnd.jupyter.widget-view+json": {
       "model_id": "ee5d8efb639e499ea8c1cd985503c7bc",
       "version_major": 2,
       "version_minor": 0
      },
      "text/plain": [
       "VBox(children=(Label(value=' 0.00MB of 0.00MB uploaded (0.00MB deduped)\\r'), FloatProgress(value=1.0, max=1.0)…"
      ]
     },
     "metadata": {},
     "output_type": "display_data"
    },
    {
     "data": {
      "text/html": [
       "Find user logs for this run at: <code>/home/chaeeun/Desktop/brain disease prediction/wandb/run-20211013_165156-2bgz80y3/logs/debug.log</code>"
      ],
      "text/plain": [
       "<IPython.core.display.HTML object>"
      ]
     },
     "metadata": {},
     "output_type": "display_data"
    },
    {
     "data": {
      "text/html": [
       "Find internal logs for this run at: <code>/home/chaeeun/Desktop/brain disease prediction/wandb/run-20211013_165156-2bgz80y3/logs/debug-internal.log</code>"
      ],
      "text/plain": [
       "<IPython.core.display.HTML object>"
      ]
     },
     "metadata": {},
     "output_type": "display_data"
    },
    {
     "data": {
      "text/html": [
       "<h3>Run summary:</h3><br/><style>\n",
       "    table.wandb td:nth-child(1) { padding: 0 10px; text-align: right }\n",
       "    </style><table class=\"wandb\">\n",
       "<tr><td>Train mse Loss</td><td>0.79483</td></tr><tr><td>Train mae Loss</td><td>0.66267</td></tr><tr><td>Test mse Loss</td><td>3.75818</td></tr><tr><td>Test mae Loss</td><td>1.3394</td></tr><tr><td>_runtime</td><td>165</td></tr><tr><td>_timestamp</td><td>1634111681</td></tr><tr><td>_step</td><td>9</td></tr></table>"
      ],
      "text/plain": [
       "<IPython.core.display.HTML object>"
      ]
     },
     "metadata": {},
     "output_type": "display_data"
    },
    {
     "data": {
      "text/html": [
       "<h3>Run history:</h3><br/><style>\n",
       "    table.wandb td:nth-child(1) { padding: 0 10px; text-align: right }\n",
       "    </style><table class=\"wandb\">\n",
       "<tr><td>Train mse Loss</td><td>█▆▄▂▄▂▂▁▃▁</td></tr><tr><td>Train mae Loss</td><td>█▇▄▂▃▃▄▁▂▃</td></tr><tr><td>Test mse Loss</td><td>█▁▁▁▁▁▁▁▁▁</td></tr><tr><td>Test mae Loss</td><td>█▁▁▁▁▁▁▁▁▁</td></tr><tr><td>_runtime</td><td>▁▂▃▃▄▅▆▆▇█</td></tr><tr><td>_timestamp</td><td>▁▂▃▃▄▅▆▆▇█</td></tr><tr><td>_step</td><td>▁▂▃▃▄▅▆▆▇█</td></tr></table><br/>"
      ],
      "text/plain": [
       "<IPython.core.display.HTML object>"
      ]
     },
     "metadata": {},
     "output_type": "display_data"
    },
    {
     "data": {
      "text/html": [
       "Synced 6 W&B file(s), 0 media file(s), 0 artifact file(s) and 0 other file(s)"
      ],
      "text/plain": [
       "<IPython.core.display.HTML object>"
      ]
     },
     "metadata": {},
     "output_type": "display_data"
    },
    {
     "data": {
      "text/html": [
       "\n",
       "                    <br/>Synced <strong style=\"color:#cdcd00\">rare-lake-3</strong>: <a href=\"https://wandb.ai/tonge/densenet_sliced_2_10/runs/2bgz80y3\" target=\"_blank\">https://wandb.ai/tonge/densenet_sliced_2_10/runs/2bgz80y3</a><br/>\n",
       "                "
      ],
      "text/plain": [
       "<IPython.core.display.HTML object>"
      ]
     },
     "metadata": {},
     "output_type": "display_data"
    }
   ],
   "source": [
    "# run = wandb.init(project = config.modelname +'_'+ config.dataname + '_' + str(config.n_epoch), config = config)\n",
    "\n",
    "artifact = wandb.Artifact('model', type='model')\n",
    "# artifact.add_file('model.pth')\n",
    "\n",
    "wandb.log_artifact(artifact)\n",
    "wandb.join()"
   ]
  },
  {
   "cell_type": "code",
   "execution_count": 35,
   "id": "247a9368",
   "metadata": {},
   "outputs": [
    {
     "data": {
      "image/png": "[encoded data removed]",
      "text/plain": [
       "<Figure size 640x480 with 1 Axes>"
      ]
     },
     "metadata": {},
     "output_type": "display_data"
    }
   ],
   "source": [
    "#mse\n",
    "plt.plot(loss_plot[1:], label='train_loss')\n",
    "plt.plot(val_loss_plot[1:], label='val_loss')\n",
    "plt.xlabel('epoch')\n",
    "plt.ylabel('loss(mse)')\n",
    "plt.legend()\n",
    "plt.show()"
   ]
  },
  {
   "cell_type": "code",
   "execution_count": 36,
   "id": "fcaa9ecc",
   "metadata": {},
   "outputs": [
    {
     "data": {
      "image/png": "[encoded data removed]",
      "text/plain": [
       "<Figure size 640x480 with 1 Axes>"
      ]
     },
     "metadata": {},
     "output_type": "display_data"
    }
   ],
   "source": [
    "#mae\n",
    "plt.plot(maeloss_plot[1:], label='train_loss')\n",
    "plt.plot(maeval_loss_plot[1:], label='val_loss')\n",
    "plt.xlabel('epoch')\n",
    "plt.ylabel('loss(mae)')\n",
    "plt.legend()\n",
    "plt.show()"
   ]
  },
  {
   "cell_type": "code",
   "execution_count": 37,
   "id": "4cf1336d",
   "metadata": {},
   "outputs": [],
   "source": [
    "y_predicted#, label[75:]\n",
    "y_predicted_concat = torch.cat([y_predicted[0], y_predicted[1], y_predicted[2], y_predicted[3]], dim = 0)"
   ]
  },
  {
   "cell_type": "code",
   "execution_count": 38,
   "id": "a59d1d01",
   "metadata": {},
   "outputs": [
    {
     "data": {
      "text/plain": [
       "tensor([[1.0020e-01, 3.2421e+01, 2.3931e+00, 3.0399e+01, 7.6566e+01],\n",
       "        [9.9935e-02, 3.2444e+01, 2.4006e+00, 3.0404e+01, 7.6572e+01],\n",
       "        [1.0062e-01, 3.2439e+01, 2.3938e+00, 3.0400e+01, 7.6574e+01],\n",
       "        [1.0086e-01, 3.2418e+01, 2.3848e+00, 3.0394e+01, 7.6573e+01],\n",
       "        [6.9458e-02, 3.2859e+01, 2.0064e+00, 3.0281e+01, 7.7085e+01],\n",
       "        [6.0183e-02, 3.3007e+01, 1.8670e+00, 3.0248e+01, 7.7272e+01],\n",
       "        [1.0168e-01, 3.2438e+01, 2.3934e+00, 3.0380e+01, 7.6593e+01],\n",
       "        [1.0011e-01, 3.2430e+01, 2.3925e+00, 3.0399e+01, 7.6573e+01],\n",
       "        [9.8724e-02, 3.2434e+01, 2.4006e+00, 3.0401e+01, 7.6570e+01],\n",
       "        [1.0057e-01, 3.2449e+01, 2.3964e+00, 3.0397e+01, 7.6581e+01],\n",
       "        [9.5413e-02, 3.2459e+01, 2.3601e+00, 3.0392e+01, 7.6623e+01],\n",
       "        [1.0073e-01, 3.2427e+01, 2.3936e+00, 3.0400e+01, 7.6569e+01],\n",
       "        [5.2182e-02, 3.3101e+01, 1.7914e+00, 3.0220e+01, 7.7364e+01],\n",
       "        [9.3049e-02, 3.2518e+01, 2.2996e+00, 3.0378e+01, 7.6700e+01],\n",
       "        [9.8710e-02, 3.2424e+01, 2.3898e+00, 3.0397e+01, 7.6572e+01],\n",
       "        [1.0002e-01, 3.2490e+01, 2.4085e+00, 3.0378e+01, 7.6630e+01],\n",
       "        [9.4957e-02, 3.2410e+01, 2.3926e+00, 3.0397e+01, 7.6589e+01],\n",
       "        [1.0001e-01, 3.2435e+01, 2.3989e+00, 3.0402e+01, 7.6570e+01],\n",
       "        [8.6795e-02, 3.2610e+01, 2.2160e+00, 3.0352e+01, 7.6811e+01],\n",
       "        [9.9440e-02, 3.2435e+01, 2.3964e+00, 3.0403e+01, 7.6566e+01],\n",
       "        [9.0152e-02, 3.2484e+01, 2.3269e+00, 3.0374e+01, 7.6680e+01],\n",
       "        [8.7281e-02, 3.2611e+01, 2.2116e+00, 3.0349e+01, 7.6818e+01],\n",
       "        [7.4806e-02, 3.2758e+01, 2.0967e+00, 3.0311e+01, 7.6959e+01],\n",
       "        [9.9454e-02, 3.2439e+01, 2.4026e+00, 3.0405e+01, 7.6571e+01],\n",
       "        [1.0058e-01, 3.2425e+01, 2.3862e+00, 3.0395e+01, 7.6578e+01],\n",
       "        [9.8811e-02, 3.2445e+01, 2.4026e+00, 3.0406e+01, 7.6571e+01],\n",
       "        [6.1104e-02, 3.2987e+01, 1.8859e+00, 3.0251e+01, 7.7243e+01],\n",
       "        [1.0035e-01, 3.2493e+01, 2.4067e+00, 3.0375e+01, 7.6635e+01],\n",
       "        [1.0067e-01, 3.2430e+01, 2.3895e+00, 3.0397e+01, 7.6575e+01],\n",
       "        [9.9988e-02, 3.2433e+01, 2.3980e+00, 3.0402e+01, 7.6569e+01],\n",
       "        [1.0018e-01, 3.2422e+01, 2.3876e+00, 3.0396e+01, 7.6573e+01],\n",
       "        [1.0032e-01, 3.2432e+01, 2.3888e+00, 3.0398e+01, 7.6577e+01]],\n",
       "       device='cuda:0')"
      ]
     },
     "execution_count": 38,
     "metadata": {},
     "output_type": "execute_result"
    }
   ],
   "source": [
    "y_predicted_concat"
   ]
  },
  {
   "cell_type": "code",
   "execution_count": 26,
   "id": "e3876f5d",
   "metadata": {},
   "outputs": [
    {
     "data": {
      "image/png": "[encoded data removed]",
      "text/plain": [
       "<Figure size 640x480 with 1 Axes>"
      ]
     },
     "metadata": {},
     "output_type": "display_data"
    },
    {
     "data": {
      "image/png": "[encoded data removed]",
      "text/plain": [
       "<Figure size 640x480 with 1 Axes>"
      ]
     },
     "metadata": {},
     "output_type": "display_data"
    },
    {
     "data": {
      "image/png": "[encoded data removed]",
      "text/plain": [
       "<Figure size 640x480 with 1 Axes>"
      ]
     },
     "metadata": {},
     "output_type": "display_data"
    },
    {
     "data": {
      "image/png": "[encoded data removed]",
      "text/plain": [
       "<Figure size 640x480 with 1 Axes>"
      ]
     },
     "metadata": {},
     "output_type": "display_data"
    },
    {
     "data": {
      "image/png": "[encoded data removed]",
      "text/plain": [
       "<Figure size 640x480 with 1 Axes>"
      ]
     },
     "metadata": {},
     "output_type": "display_data"
    }
   ],
   "source": [
    "# y1_p = y_predicted_concat[:, 0].reshape(25,1).cpu()\n",
    "# y2_p = y_predicted_concat[:, 1].reshape(25,1).cpu()\n",
    "# y3_p = y_predicted_concat[:, 2].reshape(25,1).cpu()\n",
    "# y4_p = y_predicted_concat[:, 3].reshape(25,1).cpu()\n",
    "# y5_p = y_predicted_concat[:, 4].reshape(25,1).cpu()\n",
    "# #정답치\n",
    "# y1 = unnorm_label[75:, 0].reshape(25,1)\n",
    "# y2 = unnorm_label[75:, 1].reshape(25,1)\n",
    "# y3 = unnorm_label[75:, 2].reshape(25,1)\n",
    "# y4 = unnorm_label[75:, 3].reshape(25,1)\n",
    "# y5 = unnorm_label[75:, 4].reshape(25,1)\n",
    "\n",
    "\n",
    "\n",
    "# one = np.hstack((y1_p, y1))\n",
    "# two = np.hstack((y2_p, y2))\n",
    "# three = np.hstack((y3_p, y3))\n",
    "# four = np.hstack((y4_p, y4))\n",
    "# five = np.hstack((y5_p, y5))\n",
    "\n",
    "\n",
    "# scat_1 = [[x, y] for (x, y) in one]#zip(one[:,0], one[:,1])\n",
    "# scat_2 = [[x, y] for (x, y) in two]#zip(one[:,0], one[:,1])\n",
    "# scat_3 = [[x, y] for (x, y) in three]#zip(one[:,0], one[:,1])\n",
    "# scat_4 = [[x, y] for (x, y) in four]#zip(one[:,0], one[:,1])\n",
    "# scat_5 = [[x, y] for (x, y) in five]#zip(one[:,0], one[:,1])\n",
    "\n",
    "# wandb.init(project = )\n",
    "# table_1 = wandb.Table(data = scat_1, columns = ['predicted', 'truth'])\n",
    "# scatter_1 = wandb.plot.scatter(table_1, x = 'predicted', y = 'target', title = 'scat_1')\n",
    "\n",
    "# table_2 = wandb.Table(data = scat_2, columns = ['predicted', 'truth'])\n",
    "# scatter_2 = wandb.plot.scatter(table_2, x = 'predicted', y = 'target', title = 'scat_2')\n",
    "\n",
    "# table_3 = wandb.Table(data = scat_3, columns = ['predicted', 'truth'])\n",
    "# scatter_3 = wandb.plot.scatter(table_3, x = 'predicted', y = 'target', title = 'scat_3')\n",
    "\n",
    "# table_4 = wandb.Table(data = scat_4, columns = ['predicted', 'truth'])\n",
    "# scatter_4 = wandb.plot.scatter(table_4, x = 'predicted', y = 'target', title = 'scat_4')\n",
    "\n",
    "# table_5 = wandb.Table(data = scat_5, columns = ['predicted', 'truth'])\n",
    "# scatter_5 = wandb.plot.scatter(table_5, x = 'predicted', y = 'target', title = 'scat_5')\n",
    "\n",
    "# wandb.log({ 'scatter_1': scatter_1, 'scatter_2' : scatter_2, 'scatter_3' : scatter_3, \n",
    "# 'scatter_4' : scatter_4, 'scatter_5': scatter_5})\n",
    "\n",
    "\n",
    "x = np.arange(-0.05, 0.25, 0.05)\n",
    "plt.plot(x,x)\n",
    "plt.title(\"y1\", fontsize = 15)\n",
    "plt.scatter( one[:,0], one[:, 1], color = 'blue', alpha = .5)\n",
    "# plt.scatter(n_1[:,0], n_1[:,1], color = 'red', alpha = .5)\n",
    "plt.grid()\n",
    "plt.show()\n",
    "\n",
    "x = np.arange(30, 38, 1)\n",
    "plt.plot(x, x)\n",
    "plt.title(\"y2\", fontsize = 15)\n",
    "plt.scatter( two[:,0], two[:, 1], color = 'blue', alpha = .5)\n",
    "plt.grid()\n",
    "plt.show()\n",
    "\n",
    "\n",
    "\n",
    "x = np.arange(1, 6, 1)\n",
    "plt.plot(x, x)\n",
    "plt.title(\"y3\", fontsize = 15)\n",
    "plt.scatter( three[:,0], three[:, 1], color = 'blue', alpha = .5)\n",
    "plt.grid()\n",
    "plt.show()\n",
    "\n",
    "\n",
    "\n",
    "x = np.arange(27, 34, 1)\n",
    "plt.plot(x, x)\n",
    "plt.title(\"y4\", fontsize = 15)\n",
    "plt.scatter( four[:,0], four[:, 1], color = 'blue', alpha = .5)\n",
    "plt.grid()\n",
    "plt.show()\n",
    "\n",
    "x = np.arange(72, 82, 1)\n",
    "plt.plot(x, x)\n",
    "plt.title(\"y5\", fontsize = 15)\n",
    "plt.scatter( five[:,0], five[:, 1], color = 'blue', alpha = .5)\n",
    "plt.grid()\n",
    "plt.show()\n",
    "# wandb.finish()"
   ]
  },
  {
   "cell_type": "code",
   "execution_count": null,
   "id": "5337230e",
   "metadata": {},
   "outputs": [],
   "source": []
  }
 ],
 "metadata": {
  "interpreter": {
   "hash": "13f2bdad863240a31d1c3936822b7a5db92e7f5cdbf06e53d9ecc9df679acbc5"
  },
  "kernelspec": {
   "display_name": "Python 3.7.11 64-bit ('sce': conda)",
   "language": "python",
   "name": "python3711jvsc74a57bd013f2bdad863240a31d1c3936822b7a5db92e7f5cdbf06e53d9ecc9df679acbc5"
  },
  "language_info": {
   "codemirror_mode": {
    "name": "ipython",
    "version": 3
   },
   "file_extension": ".py",
   "mimetype": "text/x-python",
   "name": "python",
   "nbconvert_exporter": "python",
   "pygments_lexer": "ipython3",
   "version": "3.7.11"
  }
 },
 "nbformat": 4,
 "nbformat_minor": 5
}
